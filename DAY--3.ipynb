{
 "cells": [
  {
   "cell_type": "code",
   "execution_count": 8,
   "id": "4dadea80",
   "metadata": {},
   "outputs": [
    {
     "data": {
      "text/plain": [
       "[110, 120, 130, 140, 150]"
      ]
     },
     "execution_count": 8,
     "metadata": {},
     "output_type": "execute_result"
    }
   ],
   "source": [
    "L = list()\n",
    "\n",
    "def fx(a):\n",
    "    return a+100\n",
    "\n",
    "for var in [10,20,30,40,50]:\n",
    "    r = fx(var)\n",
    "    L.append(r)\n",
    "L"
   ]
  },
  {
   "cell_type": "code",
   "execution_count": 9,
   "id": "7bdd3fe4",
   "metadata": {},
   "outputs": [
    {
     "data": {
      "text/plain": [
       "[110, 120, 130, 140, 150]"
      ]
     },
     "execution_count": 9,
     "metadata": {},
     "output_type": "execute_result"
    }
   ],
   "source": [
    "list(map(lambda a:a+100,[10,20,30,40,50]))"
   ]
  },
  {
   "cell_type": "code",
   "execution_count": 10,
   "id": "f77e2bf3",
   "metadata": {},
   "outputs": [
    {
     "data": {
      "text/plain": [
       "{'K1': [110, 120, 130, 140, 150]}"
      ]
     },
     "execution_count": 10,
     "metadata": {},
     "output_type": "execute_result"
    }
   ],
   "source": [
    "d=dict()\n",
    "d['K1']=list(map(lambda a:a+100,[10,20,30,40,50]))\n",
    "d"
   ]
  },
  {
   "cell_type": "code",
   "execution_count": null,
   "id": "1129d07b",
   "metadata": {},
   "outputs": [],
   "source": [
    "Functional Style code - single line Code \n",
    "lambda \n",
    "list comprehension\n",
    "generator\n",
    "|\n",
    "map,filter,enumerate .. - High order code"
   ]
  },
  {
   "cell_type": "code",
   "execution_count": 1,
   "id": "fbbe31b6",
   "metadata": {},
   "outputs": [],
   "source": [
    "# function call with arguments and returns value \n",
    "def fx(a,b):\n",
    "    return a+b"
   ]
  },
  {
   "cell_type": "code",
   "execution_count": 2,
   "id": "a6043e6c",
   "metadata": {},
   "outputs": [
    {
     "data": {
      "text/plain": [
       "30"
      ]
     },
     "execution_count": 2,
     "metadata": {},
     "output_type": "execute_result"
    }
   ],
   "source": [
    "fx(10,20)"
   ]
  },
  {
   "cell_type": "code",
   "execution_count": 3,
   "id": "87147013",
   "metadata": {},
   "outputs": [
    {
     "data": {
      "text/plain": [
       "<function __main__.<lambda>(a, b)>"
      ]
     },
     "execution_count": 3,
     "metadata": {},
     "output_type": "execute_result"
    }
   ],
   "source": [
    "# lambda <list of args>:<operation>\n",
    "lambda a,b:a+b"
   ]
  },
  {
   "cell_type": "code",
   "execution_count": 4,
   "id": "d69a952c",
   "metadata": {},
   "outputs": [
    {
     "data": {
      "text/plain": [
       "30"
      ]
     },
     "execution_count": 4,
     "metadata": {},
     "output_type": "execute_result"
    }
   ],
   "source": [
    "fy = lambda a,b:a+b\n",
    "fy(10,20)"
   ]
  },
  {
   "cell_type": "code",
   "execution_count": 5,
   "id": "30c6957a",
   "metadata": {},
   "outputs": [
    {
     "data": {
      "text/plain": [
       "True"
      ]
     },
     "execution_count": 5,
     "metadata": {},
     "output_type": "execute_result"
    }
   ],
   "source": [
    "f1 = lambda a : a>100\n",
    "f1(150)"
   ]
  },
  {
   "cell_type": "code",
   "execution_count": 6,
   "id": "c9e76d72",
   "metadata": {},
   "outputs": [
    {
     "data": {
      "text/plain": [
       "True"
      ]
     },
     "execution_count": 6,
     "metadata": {},
     "output_type": "execute_result"
    }
   ],
   "source": [
    "f2 = lambda a: 'sales' in a\n",
    "f2('raj,sales,hyd')"
   ]
  },
  {
   "cell_type": "code",
   "execution_count": 7,
   "id": "27de01c6",
   "metadata": {},
   "outputs": [
    {
     "data": {
      "text/plain": [
       "'ABC'"
      ]
     },
     "execution_count": 7,
     "metadata": {},
     "output_type": "execute_result"
    }
   ],
   "source": [
    "f3 = lambda a: a.upper()\n",
    "f3('abc')"
   ]
  },
  {
   "cell_type": "code",
   "execution_count": 11,
   "id": "f18e533f",
   "metadata": {},
   "outputs": [],
   "source": [
    "def fx(a):\n",
    "    if(a > 15):\n",
    "        a = a+100\n",
    "        return a\n",
    "    else:\n",
    "        a = a+200\n",
    "        return a"
   ]
  },
  {
   "cell_type": "code",
   "execution_count": 12,
   "id": "b10dcb08",
   "metadata": {},
   "outputs": [
    {
     "data": {
      "text/plain": [
       "150"
      ]
     },
     "execution_count": 12,
     "metadata": {},
     "output_type": "execute_result"
    }
   ],
   "source": [
    "f3 = lambda a:fx(a)\n",
    "f3(50)"
   ]
  },
  {
   "cell_type": "code",
   "execution_count": 13,
   "id": "24712ad6",
   "metadata": {},
   "outputs": [
    {
     "data": {
      "text/plain": [
       "[110, 120, 130, 140]"
      ]
     },
     "execution_count": 13,
     "metadata": {},
     "output_type": "execute_result"
    }
   ],
   "source": [
    "# List comprehension  - list append operation\n",
    "\n",
    "L = list()\n",
    "for var in [10,20,30,40]:\n",
    "    r = var+100\n",
    "    L.append(r)\n",
    "L"
   ]
  },
  {
   "cell_type": "code",
   "execution_count": 14,
   "id": "dbfca4ee",
   "metadata": {},
   "outputs": [
    {
     "data": {
      "text/plain": [
       "[110, 120, 130, 140]"
      ]
     },
     "execution_count": 14,
     "metadata": {},
     "output_type": "execute_result"
    }
   ],
   "source": [
    "# [value for <iterable>]\n",
    "#          ---(1)---\n",
    "#  --(2)---\n",
    "[var+100 for var in [10,20,30,40]]"
   ]
  },
  {
   "cell_type": "code",
   "execution_count": 15,
   "id": "71355923",
   "metadata": {},
   "outputs": [
    {
     "data": {
      "text/plain": [
       "[510, 520, 530, 140]"
      ]
     },
     "execution_count": 15,
     "metadata": {},
     "output_type": "execute_result"
    }
   ],
   "source": [
    "L = list()\n",
    "for var in [10,20,30,40]:\n",
    "    if(var >30):\n",
    "        r = var+100\n",
    "        L.append(r)\n",
    "    else:\n",
    "        r = var + 500\n",
    "        L.append(r)\n",
    "L"
   ]
  },
  {
   "cell_type": "code",
   "execution_count": 16,
   "id": "7e8de19e",
   "metadata": {},
   "outputs": [
    {
     "data": {
      "text/plain": [
       "[510, 520, 530, 140]"
      ]
     },
     "execution_count": 16,
     "metadata": {},
     "output_type": "execute_result"
    }
   ],
   "source": [
    "[var+100 if var >30 else var+500 for var in [10,20,30,40]]"
   ]
  },
  {
   "cell_type": "code",
   "execution_count": null,
   "id": "953f1aac",
   "metadata": {},
   "outputs": [],
   "source": [
    "# generator ->function ->returns an iterator(object) //generator\n",
    "#                                   --------------- yield"
   ]
  },
  {
   "cell_type": "code",
   "execution_count": 18,
   "id": "964c337a",
   "metadata": {},
   "outputs": [
    {
     "name": "stdout",
     "output_type": "stream",
     "text": [
      "<class 'function'> <class 'function'>\n",
      "<class 'int'> <class 'generator'>\n"
     ]
    }
   ],
   "source": [
    "def f1():\n",
    "    return 10\n",
    "def f2():\n",
    "    yield 10\n",
    "    \n",
    "print(type(f1),type(f2))\n",
    "\n",
    "print(type(f1()),type(f2()))"
   ]
  },
  {
   "cell_type": "code",
   "execution_count": 19,
   "id": "669da570",
   "metadata": {},
   "outputs": [],
   "source": [
    "def f2():\n",
    "    n=15\n",
    "    yield n\n",
    "    yield n+100\n",
    "    yield n+200\n",
    "    print(\"OK-1\")\n",
    "    yield \"D1\",\"D2\"\n",
    "    yield \"D1\",[\"F1\",\"F2\",\"F3\"],[\"F4\",\"F5\",\"F6\"]"
   ]
  },
  {
   "cell_type": "code",
   "execution_count": 20,
   "id": "7a3aaf7b",
   "metadata": {},
   "outputs": [
    {
     "data": {
      "text/plain": [
       "<generator object f2 at 0x000002012F8A3ED0>"
      ]
     },
     "execution_count": 20,
     "metadata": {},
     "output_type": "execute_result"
    }
   ],
   "source": [
    "f2()"
   ]
  },
  {
   "cell_type": "code",
   "execution_count": 21,
   "id": "49cbaa71",
   "metadata": {},
   "outputs": [],
   "source": [
    "obj = f2()"
   ]
  },
  {
   "cell_type": "code",
   "execution_count": 25,
   "id": "7231c91a",
   "metadata": {},
   "outputs": [
    {
     "name": "stdout",
     "output_type": "stream",
     "text": [
      "15\n",
      "115\n",
      "215\n",
      "OK-1\n",
      "('D1', 'D2')\n",
      "('D1', ['F1', 'F2', 'F3'], ['F4', 'F5', 'F6'])\n"
     ]
    },
    {
     "ename": "StopIteration",
     "evalue": "",
     "output_type": "error",
     "traceback": [
      "\u001b[1;31m---------------------------------------------------------------------------\u001b[0m",
      "\u001b[1;31mStopIteration\u001b[0m                             Traceback (most recent call last)",
      "Cell \u001b[1;32mIn[25], line 7\u001b[0m\n\u001b[0;32m      5\u001b[0m \u001b[38;5;28mprint\u001b[39m(\u001b[38;5;28mnext\u001b[39m(obj))\n\u001b[0;32m      6\u001b[0m \u001b[38;5;28mprint\u001b[39m(\u001b[38;5;28mnext\u001b[39m(obj))\n\u001b[1;32m----> 7\u001b[0m \u001b[38;5;28mprint\u001b[39m(\u001b[38;5;28mnext\u001b[39m(obj))\n",
      "\u001b[1;31mStopIteration\u001b[0m: "
     ]
    }
   ],
   "source": [
    "obj = f2()\n",
    "print(next(obj))\n",
    "print(next(obj))\n",
    "print(next(obj))\n",
    "print(next(obj))\n",
    "print(next(obj))\n",
    "print(next(obj))"
   ]
  },
  {
   "cell_type": "code",
   "execution_count": 26,
   "id": "8c505dc0",
   "metadata": {},
   "outputs": [
    {
     "name": "stdout",
     "output_type": "stream",
     "text": [
      "15\n",
      "115\n",
      "215\n",
      "OK-1\n",
      "('D1', 'D2')\n",
      "('D1', ['F1', 'F2', 'F3'], ['F4', 'F5', 'F6'])\n"
     ]
    }
   ],
   "source": [
    "obj = f2()\n",
    "for var in obj:\n",
    "    print(var)"
   ]
  },
  {
   "cell_type": "code",
   "execution_count": 27,
   "id": "2714bd37",
   "metadata": {},
   "outputs": [
    {
     "name": "stdout",
     "output_type": "stream",
     "text": [
      "OK-1\n"
     ]
    },
    {
     "data": {
      "text/plain": [
       "[15, 115, 215, ('D1', 'D2'), ('D1', ['F1', 'F2', 'F3'], ['F4', 'F5', 'F6'])]"
      ]
     },
     "execution_count": 27,
     "metadata": {},
     "output_type": "execute_result"
    }
   ],
   "source": [
    "obj = f2()\n",
    "list(obj)"
   ]
  },
  {
   "cell_type": "code",
   "execution_count": 28,
   "id": "65573898",
   "metadata": {},
   "outputs": [
    {
     "name": "stdout",
     "output_type": "stream",
     "text": [
      "eid,ename,edept,eplace,ecost\n",
      "101,raj,sales,pune,1000\n",
      "102,leo,prod,bglore,2000\n",
      "103,paul,HR,chennai,3000\n",
      "104,anu,hr,hyderabad,4000\n",
      "456,kumar,sales,bglore,3000\n",
      "105,zion,Hr,mumbai,5000\n",
      "106,bibu,sales,bglore,1450\n",
      "107,theeb,sales,noida,4590\n",
      "108,bibu,sales,bglore,5000\n",
      "113,kumar,prod,hyderabad,5423DATA\n"
     ]
    }
   ],
   "source": [
    "fobj = open(\"E:\\\\emp.csv\")\n",
    "# fobj.read() / fobj.readlines()\n",
    "for var in fobj:\n",
    "    print(var.strip())"
   ]
  },
  {
   "cell_type": "code",
   "execution_count": 30,
   "id": "a6193d4b",
   "metadata": {},
   "outputs": [
    {
     "data": {
      "text/plain": [
       "{'CSV': ['eid,ename,edept,eplace,ecost\\n',\n",
       "  '101,raj,sales,pune,1000\\n',\n",
       "  '102,leo,prod,bglore,2000\\n',\n",
       "  '103,paul,HR,chennai,3000\\n',\n",
       "  '104,anu,hr,hyderabad,4000\\n',\n",
       "  '456,kumar,sales,bglore,3000\\n',\n",
       "  '105,zion,Hr,mumbai,5000\\n',\n",
       "  '106,bibu,sales,bglore,1450\\n',\n",
       "  '107,theeb,sales,noida,4590\\n',\n",
       "  '108,bibu,sales,bglore,5000\\n',\n",
       "  '113,kumar,prod,hyderabad,5423DATA']}"
      ]
     },
     "execution_count": 30,
     "metadata": {},
     "output_type": "execute_result"
    }
   ],
   "source": [
    "d={}\n",
    "d['CSV']=list(open(\"E:\\\\emp.csv\"))\n",
    "d"
   ]
  },
  {
   "cell_type": "code",
   "execution_count": null,
   "id": "81cade8a",
   "metadata": {},
   "outputs": [],
   "source": [
    "map   ----> map(function,collection) -><generator>\n",
    "            Vs   \n",
    "filter ---> filter(function,collection) --><generator>"
   ]
  },
  {
   "cell_type": "code",
   "execution_count": 31,
   "id": "5497f453",
   "metadata": {},
   "outputs": [
    {
     "data": {
      "text/plain": [
       "<map at 0x2012f8da290>"
      ]
     },
     "execution_count": 31,
     "metadata": {},
     "output_type": "execute_result"
    }
   ],
   "source": [
    "map(lambda a:a+100,[10,20,30,40,50])"
   ]
  },
  {
   "cell_type": "code",
   "execution_count": 32,
   "id": "4a33007e",
   "metadata": {},
   "outputs": [
    {
     "name": "stdout",
     "output_type": "stream",
     "text": [
      "110\n",
      "120\n",
      "130\n",
      "140\n",
      "150\n"
     ]
    }
   ],
   "source": [
    "obj = map(lambda a:a+100,[10,20,30,40,50])\n",
    "for var in obj:\n",
    "    print(var)"
   ]
  },
  {
   "cell_type": "code",
   "execution_count": 33,
   "id": "cd30358d",
   "metadata": {},
   "outputs": [
    {
     "data": {
      "text/plain": [
       "[110, 120, 130, 140, 150]"
      ]
     },
     "execution_count": 33,
     "metadata": {},
     "output_type": "execute_result"
    }
   ],
   "source": [
    "obj = map(lambda a:a+100,[10,20,30,40,50])\n",
    "list(obj)"
   ]
  },
  {
   "cell_type": "code",
   "execution_count": 35,
   "id": "d18f28a1",
   "metadata": {},
   "outputs": [
    {
     "data": {
      "text/plain": [
       "[False, False, True, True, True]"
      ]
     },
     "execution_count": 35,
     "metadata": {},
     "output_type": "execute_result"
    }
   ],
   "source": [
    "obj = map(lambda a:a>25,[10,20,30,40,50])\n",
    "list(obj)"
   ]
  },
  {
   "cell_type": "code",
   "execution_count": 34,
   "id": "07103189",
   "metadata": {},
   "outputs": [
    {
     "data": {
      "text/plain": [
       "[30, 40, 50]"
      ]
     },
     "execution_count": 34,
     "metadata": {},
     "output_type": "execute_result"
    }
   ],
   "source": [
    "obj = filter(lambda a:a>25,[10,20,30,40,50])\n",
    "list(obj)"
   ]
  },
  {
   "cell_type": "code",
   "execution_count": 36,
   "id": "29b304a6",
   "metadata": {},
   "outputs": [
    {
     "data": {
      "text/plain": [
       "['eid,ename,edept,eplace,ecost\\n',\n",
       " '101,raj,sales,pune,1000\\n',\n",
       " '102,leo,prod,bglore,2000\\n',\n",
       " '103,paul,HR,chennai,3000\\n',\n",
       " '104,anu,hr,hyderabad,4000\\n',\n",
       " '456,kumar,sales,bglore,3000\\n',\n",
       " '105,zion,Hr,mumbai,5000\\n',\n",
       " '106,bibu,sales,bglore,1450\\n',\n",
       " '107,theeb,sales,noida,4590\\n',\n",
       " '108,bibu,sales,bglore,5000\\n',\n",
       " '113,kumar,prod,hyderabad,5423DATA']"
      ]
     },
     "execution_count": 36,
     "metadata": {},
     "output_type": "execute_result"
    }
   ],
   "source": [
    "list(map(lambda a:a,open(\"E:\\\\emp.csv\")))"
   ]
  },
  {
   "cell_type": "code",
   "execution_count": 37,
   "id": "a72c8c9c",
   "metadata": {},
   "outputs": [
    {
     "data": {
      "text/plain": [
       "['101,raj,sales,pune,1000\\n',\n",
       " '456,kumar,sales,bglore,3000\\n',\n",
       " '106,bibu,sales,bglore,1450\\n',\n",
       " '107,theeb,sales,noida,4590\\n',\n",
       " '108,bibu,sales,bglore,5000\\n']"
      ]
     },
     "execution_count": 37,
     "metadata": {},
     "output_type": "execute_result"
    }
   ],
   "source": [
    "list(filter(lambda a:'sales' in a,open('E:\\\\emp.csv')))"
   ]
  },
  {
   "cell_type": "code",
   "execution_count": 38,
   "id": "e26da4f3",
   "metadata": {},
   "outputs": [
    {
     "data": {
      "text/plain": [
       "['101,raj,sales,pune,1000',\n",
       " '456,kumar,sales,bglore,3000',\n",
       " '106,bibu,sales,bglore,1450',\n",
       " '107,theeb,sales,noida,4590',\n",
       " '108,bibu,sales,bglore,5000']"
      ]
     },
     "execution_count": 38,
     "metadata": {},
     "output_type": "execute_result"
    }
   ],
   "source": [
    "list(map(lambda a:a.strip(),list(filter(lambda a:'sales' in a,open('E:\\\\emp.csv')))))"
   ]
  },
  {
   "cell_type": "markdown",
   "id": "fabd0e0e",
   "metadata": {},
   "source": [
    "https://www.kdnuggets.com/2020/02/audio-file-processing-ecg-audio-python.html"
   ]
  },
  {
   "cell_type": "code",
   "execution_count": 40,
   "id": "04cc1045",
   "metadata": {},
   "outputs": [
    {
     "data": {
      "text/plain": [
       "<enumerate at 0x2012f8abce0>"
      ]
     },
     "execution_count": 40,
     "metadata": {},
     "output_type": "execute_result"
    }
   ],
   "source": [
    "#help(enumerate)\n",
    "enumerate('python')"
   ]
  },
  {
   "cell_type": "code",
   "execution_count": 41,
   "id": "dbef0f48",
   "metadata": {},
   "outputs": [
    {
     "name": "stdout",
     "output_type": "stream",
     "text": [
      "(0, 'p')\n",
      "(1, 'y')\n",
      "(2, 't')\n",
      "(3, 'h')\n",
      "(4, 'o')\n",
      "(5, 'n')\n"
     ]
    }
   ],
   "source": [
    "for var in enumerate('python'):\n",
    "    print(var)"
   ]
  },
  {
   "cell_type": "code",
   "execution_count": 42,
   "id": "5caf0e4b",
   "metadata": {},
   "outputs": [
    {
     "name": "stdout",
     "output_type": "stream",
     "text": [
      "(0, 'K1')\n",
      "(1, 'K2')\n",
      "(2, 'K3')\n"
     ]
    }
   ],
   "source": [
    "for var in enumerate({'K1':'V1','K2':'V2','K3':'V3'}):\n",
    "    print(var)"
   ]
  },
  {
   "cell_type": "code",
   "execution_count": 43,
   "id": "1c8a44ea",
   "metadata": {},
   "outputs": [
    {
     "name": "stdout",
     "output_type": "stream",
     "text": [
      "(1, 'p')\n",
      "(2, 'y')\n",
      "(3, 't')\n",
      "(4, 'h')\n",
      "(5, 'o')\n",
      "(6, 'n')\n"
     ]
    }
   ],
   "source": [
    "for var in enumerate('python',1):\n",
    "    print(var)"
   ]
  },
  {
   "cell_type": "code",
   "execution_count": 44,
   "id": "9b436324",
   "metadata": {},
   "outputs": [
    {
     "name": "stdout",
     "output_type": "stream",
     "text": [
      "(50, 'p')\n",
      "(51, 'y')\n",
      "(52, 't')\n",
      "(53, 'h')\n",
      "(54, 'o')\n",
      "(55, 'n')\n"
     ]
    }
   ],
   "source": [
    "for var in enumerate('python',50):\n",
    "    print(var)"
   ]
  },
  {
   "cell_type": "code",
   "execution_count": 46,
   "id": "b376234f",
   "metadata": {},
   "outputs": [
    {
     "name": "stdout",
     "output_type": "stream",
     "text": [
      "(1, 'eid,ename,edept,eplace,ecost\\n')\n",
      "(2, '101,raj,sales,pune,1000\\n')\n",
      "(3, '102,leo,prod,bglore,2000\\n')\n",
      "(4, '103,paul,HR,chennai,3000\\n')\n",
      "(5, '104,anu,hr,hyderabad,4000\\n')\n",
      "(6, '456,kumar,sales,bglore,3000\\n')\n",
      "(7, '105,zion,Hr,mumbai,5000\\n')\n",
      "(8, '106,bibu,sales,bglore,1450\\n')\n",
      "(9, '107,theeb,sales,noida,4590\\n')\n",
      "(10, '108,bibu,sales,bglore,5000\\n')\n",
      "(11, '113,kumar,prod,hyderabad,5423DATA')\n"
     ]
    }
   ],
   "source": [
    "for var in enumerate(open('E:\\\\emp.csv'),1):\n",
    "    print(var)\n"
   ]
  },
  {
   "cell_type": "code",
   "execution_count": 48,
   "id": "b421eed8",
   "metadata": {},
   "outputs": [
    {
     "name": "stdout",
     "output_type": "stream",
     "text": [
      "6 456,kumar,sales,bglore,3000\n",
      "7 105,zion,Hr,mumbai,5000\n",
      "8 106,bibu,sales,bglore,1450\n",
      "9 107,theeb,sales,noida,4590\n",
      "10 108,bibu,sales,bglore,5000\n",
      "11 113,kumar,prod,hyderabad,5423DATA\n"
     ]
    }
   ],
   "source": [
    "for var in enumerate(open('E:\\\\emp.csv'),1):\n",
    "    line,data = var\n",
    "    if(line >5 and line <12):\n",
    "        print(line,data.strip())"
   ]
  },
  {
   "cell_type": "code",
   "execution_count": 49,
   "id": "36ed009d",
   "metadata": {},
   "outputs": [],
   "source": [
    "def fx(a):\n",
    "    class cname:\n",
    "        def __init__(self,a):\n",
    "            self.a=a\n",
    "        def method1(self):\n",
    "            return str(self.a+100)\n",
    "    obj = cname(a)\n",
    "    return obj"
   ]
  },
  {
   "cell_type": "code",
   "execution_count": 50,
   "id": "574be669",
   "metadata": {},
   "outputs": [
    {
     "data": {
      "text/plain": [
       "<function _sqlite3.connect>"
      ]
     },
     "execution_count": 50,
     "metadata": {},
     "output_type": "execute_result"
    }
   ],
   "source": [
    "import sqlite3\n",
    "sqlite3.connect"
   ]
  },
  {
   "cell_type": "code",
   "execution_count": 51,
   "id": "acda1257",
   "metadata": {},
   "outputs": [
    {
     "data": {
      "text/plain": [
       "<function re.search(pattern, string, flags=0)>"
      ]
     },
     "execution_count": 51,
     "metadata": {},
     "output_type": "execute_result"
    }
   ],
   "source": [
    "import re\n",
    "re.search"
   ]
  },
  {
   "cell_type": "code",
   "execution_count": null,
   "id": "b79f2e56",
   "metadata": {},
   "outputs": [],
   "source": [
    "re.search()\n",
    "re.findall()\n",
    "------------------//search\n",
    "\n",
    "re.sub()\n",
    "-----------//substitue\n",
    "\n",
    "re.split()\n",
    "----------------//formatted style of report"
   ]
  },
  {
   "cell_type": "code",
   "execution_count": null,
   "id": "75d7ad9c",
   "metadata": {},
   "outputs": [],
   "source": [
    "re.search('pattern_string','input_string',re.I) -><ack>/None\n",
    "Vs\n",
    "re.findall('pattern_string','input_string',re.I) ->[results]/[]"
   ]
  },
  {
   "cell_type": "code",
   "execution_count": 52,
   "id": "de2cfcdb",
   "metadata": {},
   "outputs": [
    {
     "name": "stdout",
     "output_type": "stream",
     "text": [
      "Help on function search in module re:\n",
      "\n",
      "search(pattern, string, flags=0)\n",
      "    Scan through string looking for a match to the pattern, returning\n",
      "    a Match object, or None if no match was found.\n",
      "\n"
     ]
    }
   ],
   "source": [
    "help(re.search)"
   ]
  },
  {
   "cell_type": "code",
   "execution_count": 53,
   "id": "0be7a5ed",
   "metadata": {},
   "outputs": [
    {
     "data": {
      "text/plain": [
       "<re.Match object; span=(8, 13), match='sales'>"
      ]
     },
     "execution_count": 53,
     "metadata": {},
     "output_type": "execute_result"
    }
   ],
   "source": [
    "re.search('sales','101,raj,sales,pune,1000')"
   ]
  },
  {
   "cell_type": "code",
   "execution_count": 54,
   "id": "4a093ab1",
   "metadata": {},
   "outputs": [
    {
     "data": {
      "text/plain": [
       "True"
      ]
     },
     "execution_count": 54,
     "metadata": {},
     "output_type": "execute_result"
    }
   ],
   "source": [
    "bool(re.search('sales','101,raj,sales,pune,1000'))"
   ]
  },
  {
   "cell_type": "code",
   "execution_count": 55,
   "id": "7934de20",
   "metadata": {},
   "outputs": [],
   "source": [
    "re.search('prod','101,raj,sales,pune,1000')"
   ]
  },
  {
   "cell_type": "code",
   "execution_count": 56,
   "id": "025b9132",
   "metadata": {},
   "outputs": [
    {
     "data": {
      "text/plain": [
       "False"
      ]
     },
     "execution_count": 56,
     "metadata": {},
     "output_type": "execute_result"
    }
   ],
   "source": [
    "bool(re.search('prod','101,raj,sales,pune,1000'))"
   ]
  },
  {
   "cell_type": "code",
   "execution_count": 58,
   "id": "8c8b9787",
   "metadata": {},
   "outputs": [
    {
     "data": {
      "text/plain": [
       "<re.Match object; span=(8, 13), match='SAles'>"
      ]
     },
     "execution_count": 58,
     "metadata": {},
     "output_type": "execute_result"
    }
   ],
   "source": [
    "re.search(\"sales\",\"101,raj,SAles,pune,1000\",re.I)"
   ]
  },
  {
   "cell_type": "code",
   "execution_count": 59,
   "id": "8e30c85b",
   "metadata": {},
   "outputs": [
    {
     "name": "stdout",
     "output_type": "stream",
     "text": [
      "Yes - pattern is matched\n"
     ]
    }
   ],
   "source": [
    "if(re.search('sales','101,raj,sales,pune,1000',re.I)):\n",
    "    print('Yes - pattern is matched')\n",
    "else:\n",
    "    print('Not-matched')"
   ]
  },
  {
   "cell_type": "code",
   "execution_count": 60,
   "id": "4b036ca9",
   "metadata": {},
   "outputs": [
    {
     "name": "stdout",
     "output_type": "stream",
     "text": [
      "101,raj,sales,pune,1000\n",
      "456,kumar,sales,bglore,3000\n",
      "106,bibu,sales,bglore,1450\n",
      "107,theeb,sales,noida,4590\n",
      "108,bibu,sales,bglore,5000\n"
     ]
    }
   ],
   "source": [
    "for var in open('E:\\\\emp.csv'):\n",
    "    if(re.search('sales',var,re.I)):\n",
    "        print(var.strip())\n"
   ]
  },
  {
   "cell_type": "code",
   "execution_count": null,
   "id": "1451eb09",
   "metadata": {},
   "outputs": [],
   "source": [
    "Basic Regular Expression (BRE) - Single pattern\n",
    "Extended Regular Expression (ERE) - Multiple pattern\n",
    "\n",
    "Basic Regular Expression (BRE) - Single pattern\n",
    "-----------------------------------------------\n",
    "^   ====>  ^pattern\n",
    "$   ====>   pattern$\n",
    "^pattern$ ===========> pattern only\n",
    ". (dot) ----->Match any Single Char except \\n\n",
    "\n",
    ".* ===>list of all\n",
    "\n",
    "[] - character class -> [Aav]run ==> Arun arun vrun ; [Aa][Rr]un \n",
    "                                                      ARun Arun aRun arun\n",
    "[a-z] ->match any lowercase chars \n",
    "[A-Z] ->match any uppercase chars\n",
    "[a-zA-Z] ->match any alpha \n",
    "[0-9] -->match any digits\n",
    "[a-zA-Z0-9] ->match any alpha number\n",
    " \n",
    "    ^[A-Za-z].*[a-z]$\n",
    "    \n",
    "\n",
    "^[] - starts with                                                    \n",
    "[]$ - ends with\n",
    "\n",
    "[^] =============>Not matching a pattern\n",
    "       [^a-z] => Not matching any lowercase  chars\n",
    "       [^a-zA-Z] =>Not matching any alpha\n",
    "       [^a-zA-Z0-9] =>Match space and specialchars\n",
    "\n",
    "space - \\s  => ^\\s - line starts with space ; \\s$ - ends with space\n",
    "\n",
    "[0-9]  -> \\d\n",
    "[a-zA-Z0-9] --> \\w\n",
    "\n",
    "[^\\w\\s] --->match any specialchars <-- [^a-zA-Z0-9\\s]\n",
    "\n",
    "^$ ---> empty line\n",
    "\n",
    "Extended Regular Expression - ERE\n",
    "-------------------------------------\n",
    "| ()  + {}\n",
    "\n",
    "pattern1|pattern2 ->Any one pattern is matched ; any order ->True\n"
   ]
  },
  {
   "cell_type": "code",
   "execution_count": 61,
   "id": "f218828d",
   "metadata": {},
   "outputs": [
    {
     "data": {
      "text/plain": [
       "['1', '2', '7', '.', '0', '.', '0', '.', '1']"
      ]
     },
     "execution_count": 61,
     "metadata": {},
     "output_type": "execute_result"
    }
   ],
   "source": [
    "IP=\"127.0.0.1\"\n",
    "re.findall(\".\",IP)"
   ]
  },
  {
   "cell_type": "code",
   "execution_count": 62,
   "id": "7844b883",
   "metadata": {},
   "outputs": [
    {
     "data": {
      "text/plain": [
       "['.', '.', '.']"
      ]
     },
     "execution_count": 62,
     "metadata": {},
     "output_type": "execute_result"
    }
   ],
   "source": [
    "re.findall(\"\\.\",IP)"
   ]
  },
  {
   "cell_type": "code",
   "execution_count": 63,
   "id": "592a39c8",
   "metadata": {},
   "outputs": [
    {
     "data": {
      "text/plain": [
       "['sales']"
      ]
     },
     "execution_count": 63,
     "metadata": {},
     "output_type": "execute_result"
    }
   ],
   "source": [
    "re.findall('sales|DBA','101,raj,sales,pune')"
   ]
  },
  {
   "cell_type": "code",
   "execution_count": null,
   "id": "dca4cd22",
   "metadata": {},
   "outputs": [],
   "source": [
    "re.findall('^[a-zA-Z].*[0-9]$|^[A-Z].*[a-z]$|^\\s.*[0-9]$',Input_string)"
   ]
  },
  {
   "cell_type": "code",
   "execution_count": null,
   "id": "d6262908",
   "metadata": {},
   "outputs": [],
   "source": [
    "pattern1 | pattern2  - like logical OR\n",
    "---------------------------------------- any one pattern is matched anyorder\n",
    "(pattern1)(pattern2) - like logical AND\n",
    "........................................ both pattern should match - same order\n",
    "\n",
    "<Pattern>+  <== 1 or more \n",
    "\n",
    "ab+c \n",
    " |------->abc abbbbbbbbbbbbbbbbbbbc //OK  abbbbbbbbbb,bbbbbbbbc //Not-matched"
   ]
  },
  {
   "cell_type": "code",
   "execution_count": 64,
   "id": "ee9e1c54",
   "metadata": {},
   "outputs": [],
   "source": [
    "data=\"Sample REPORT Generated On 15th Sep 2024 Time:15:23:44:0T:42updated\""
   ]
  },
  {
   "cell_type": "code",
   "execution_count": 65,
   "id": "2c76a717",
   "metadata": {},
   "outputs": [
    {
     "data": {
      "text/plain": [
       "['1', '5', '2', '0', '2', '4', '1', '5', '2', '3', '4', '4', '0', '4', '2']"
      ]
     },
     "execution_count": 65,
     "metadata": {},
     "output_type": "execute_result"
    }
   ],
   "source": [
    "re.findall(\"[0-9]\",data)"
   ]
  },
  {
   "cell_type": "code",
   "execution_count": 66,
   "id": "0c8fef95",
   "metadata": {},
   "outputs": [
    {
     "data": {
      "text/plain": [
       "['15', '2024', '15', '23', '44', '0', '42']"
      ]
     },
     "execution_count": 66,
     "metadata": {},
     "output_type": "execute_result"
    }
   ],
   "source": [
    "re.findall(\"[0-9]+\",data)"
   ]
  },
  {
   "cell_type": "code",
   "execution_count": null,
   "id": "19657344",
   "metadata": {},
   "outputs": [],
   "source": [
    "^\\s+ <== line begings with 1 or more space"
   ]
  },
  {
   "cell_type": "code",
   "execution_count": null,
   "id": "56de7f3a",
   "metadata": {},
   "outputs": [],
   "source": [
    "{} <== IRE - range based \n",
    "\n",
    "<pattern>{n} - n times\n",
    "ab{3}c ------------------>abbbc //OK\n",
    "\n",
    "<pattern>{n,} - minimum n times\n",
    "ab{3,}c ---> abbbc abbbbbbbbbbbbbbbbbbbbbbbbbbc //OK\n",
    "\n",
    "ab+c  same as --> ab{1,}c \n",
    "\n",
    "<pattern>{n,m} - minimum n times and maximum m times\n",
    "ab{3,6}c -> abbbc abbbbc abbbbbc abbbbbbc //OK"
   ]
  },
  {
   "cell_type": "code",
   "execution_count": null,
   "id": "1037c4bd",
   "metadata": {},
   "outputs": [],
   "source": [
    "^[A-Za-z][A-Za-z][A-Za-z][0-9][0-9][0-9][0-9][0-9][a-z][a-z]$ <== BRE\n",
    "\n",
    "^[A-Za-z]{3}[0-9]{5}[a-z]{2} <== ERE"
   ]
  },
  {
   "cell_type": "code",
   "execution_count": null,
   "id": "a522eeba",
   "metadata": {},
   "outputs": [],
   "source": [
    "re.sub('oldPattern','replaceString','inputString') ->output_str\n",
    "\n",
    "output_str\n",
    "   |->replaced string if old pattern is matched\n",
    "   |->inputString if old pattern is not matched"
   ]
  },
  {
   "cell_type": "code",
   "execution_count": 67,
   "id": "3e52b336",
   "metadata": {},
   "outputs": [
    {
     "data": {
      "text/plain": [
       "'101,raj,ADMIN,pune,1000'"
      ]
     },
     "execution_count": 67,
     "metadata": {},
     "output_type": "execute_result"
    }
   ],
   "source": [
    "re.sub('sales','ADMIN','101,raj,sales,pune,1000')"
   ]
  },
  {
   "cell_type": "code",
   "execution_count": 68,
   "id": "11d92548",
   "metadata": {},
   "outputs": [
    {
     "data": {
      "text/plain": [
       "'101,raj,prod,pune,1000'"
      ]
     },
     "execution_count": 68,
     "metadata": {},
     "output_type": "execute_result"
    }
   ],
   "source": [
    "re.sub('sales','ADMIN','101,raj,prod,pune,1000')"
   ]
  },
  {
   "cell_type": "code",
   "execution_count": 69,
   "id": "1d5f878e",
   "metadata": {},
   "outputs": [
    {
     "data": {
      "text/plain": [
       "('101,raj,ADMIN,pune', 1)"
      ]
     },
     "execution_count": 69,
     "metadata": {},
     "output_type": "execute_result"
    }
   ],
   "source": [
    "re.subn('sales','ADMIN','101,raj,sales,pune')"
   ]
  },
  {
   "cell_type": "code",
   "execution_count": 70,
   "id": "887e4b2f",
   "metadata": {},
   "outputs": [
    {
     "data": {
      "text/plain": [
       "'ADMIN,raj,ADMIN,pune,ADMIN'"
      ]
     },
     "execution_count": 70,
     "metadata": {},
     "output_type": "execute_result"
    }
   ],
   "source": [
    "re.sub('sales','ADMIN','sales,raj,sales,pune,sales')"
   ]
  },
  {
   "cell_type": "code",
   "execution_count": 71,
   "id": "9fcd2e03",
   "metadata": {},
   "outputs": [
    {
     "data": {
      "text/plain": [
       "'ADMIN,raj,sales,pune,sales'"
      ]
     },
     "execution_count": 71,
     "metadata": {},
     "output_type": "execute_result"
    }
   ],
   "source": [
    "re.sub('sales','ADMIN','sales,raj,sales,pune,sales',1)"
   ]
  },
  {
   "cell_type": "code",
   "execution_count": 72,
   "id": "ccd02164",
   "metadata": {},
   "outputs": [
    {
     "data": {
      "text/plain": [
       "'ADMIN,raj,sales'"
      ]
     },
     "execution_count": 72,
     "metadata": {},
     "output_type": "execute_result"
    }
   ],
   "source": [
    "re.sub('sales','ADMIN','sales,raj,sales',1,re.I)"
   ]
  },
  {
   "cell_type": "code",
   "execution_count": 73,
   "id": "70974309",
   "metadata": {},
   "outputs": [
    {
     "data": {
      "text/plain": [
       "'root:x:bin:ksh:/root'"
      ]
     },
     "execution_count": 73,
     "metadata": {},
     "output_type": "execute_result"
    }
   ],
   "source": [
    "var=\"root:x:bin:bash:/root\"\n",
    "\n",
    "re.sub(\"bash\",\"ksh\",var)"
   ]
  },
  {
   "cell_type": "code",
   "execution_count": 74,
   "id": "34f57fd5",
   "metadata": {},
   "outputs": [
    {
     "data": {
      "text/plain": [
       "'root:x:bin::/root'"
      ]
     },
     "execution_count": 74,
     "metadata": {},
     "output_type": "execute_result"
    }
   ],
   "source": [
    "re.sub(\"bash\",\"\",var)"
   ]
  },
  {
   "cell_type": "code",
   "execution_count": 75,
   "id": "a341b312",
   "metadata": {},
   "outputs": [
    {
     "data": {
      "text/plain": [
       "'root:x:bin:/root'"
      ]
     },
     "execution_count": 75,
     "metadata": {},
     "output_type": "execute_result"
    }
   ],
   "source": [
    "re.sub(\"bash.\",\"\",var)"
   ]
  },
  {
   "cell_type": "code",
   "execution_count": 76,
   "id": "f2cb709c",
   "metadata": {},
   "outputs": [
    {
     "name": "stdout",
     "output_type": "stream",
     "text": [
      "120\n",
      "110\n",
      "150\n",
      "100\n",
      "200\n"
     ]
    }
   ],
   "source": [
    "L=['120GB','110GB','150Gb','Gb100','200']\n",
    "\n",
    "for var in L:\n",
    "    print(re.sub('[a-zA-Z]','',var))"
   ]
  },
  {
   "cell_type": "code",
   "execution_count": 80,
   "id": "f3bb57e0",
   "metadata": {},
   "outputs": [
    {
     "data": {
      "text/plain": [
       "['root', 'x', 'bin', 'bash']"
      ]
     },
     "execution_count": 80,
     "metadata": {},
     "output_type": "execute_result"
    }
   ],
   "source": [
    "s1=\"root:x:bin:bash\"\n",
    "s2=\"root:x,,bin(bash\"\n",
    "s1.split(\":\")"
   ]
  },
  {
   "cell_type": "code",
   "execution_count": 78,
   "id": "256a3e7b",
   "metadata": {},
   "outputs": [
    {
     "data": {
      "text/plain": [
       "['root', 'x', 'bin', 'bash']"
      ]
     },
     "execution_count": 78,
     "metadata": {},
     "output_type": "execute_result"
    }
   ],
   "source": [
    "re.split(\":\",s1)"
   ]
  },
  {
   "cell_type": "code",
   "execution_count": 81,
   "id": "c1b28b99",
   "metadata": {},
   "outputs": [
    {
     "data": {
      "text/plain": [
       "['root', 'x', '', 'bin', 'bash']"
      ]
     },
     "execution_count": 81,
     "metadata": {},
     "output_type": "execute_result"
    }
   ],
   "source": [
    "re.split(\"[^\\w\\s]\",s2)"
   ]
  },
  {
   "cell_type": "code",
   "execution_count": 84,
   "id": "f9df4aaa",
   "metadata": {},
   "outputs": [
    {
     "data": {
      "text/plain": [
       "['root', 'x', 'bin', 'bash']"
      ]
     },
     "execution_count": 84,
     "metadata": {},
     "output_type": "execute_result"
    }
   ],
   "source": [
    "re.split(\"[^\\w\\s]+\",s2)"
   ]
  },
  {
   "cell_type": "code",
   "execution_count": 85,
   "id": "b288480c",
   "metadata": {},
   "outputs": [
    {
     "name": "stdout",
     "output_type": "stream",
     "text": [
      "<class 'dict'>\n"
     ]
    }
   ],
   "source": [
    "d={'app':['flask','django','FastApi'],'service':['demo1','demo2','demo3']}\n",
    "print(type(d))"
   ]
  },
  {
   "cell_type": "code",
   "execution_count": 86,
   "id": "e744410c",
   "metadata": {},
   "outputs": [
    {
     "data": {
      "text/plain": [
       "'{\"app\": [\"flask\", \"django\", \"FastApi\"], \"service\": [\"demo1\", \"demo2\", \"demo3\"]}'"
      ]
     },
     "execution_count": 86,
     "metadata": {},
     "output_type": "execute_result"
    }
   ],
   "source": [
    "import json\n",
    "json.dumps(d) # convert to json"
   ]
  },
  {
   "cell_type": "code",
   "execution_count": 87,
   "id": "feaf9a45",
   "metadata": {},
   "outputs": [
    {
     "data": {
      "text/plain": [
       "'{\\n  \"app\": [\\n    \"flask\",\\n    \"django\",\\n    \"FastApi\"\\n  ],\\n  \"service\": [\\n    \"demo1\",\\n    \"demo2\",\\n    \"demo3\"\\n  ]\\n}'"
      ]
     },
     "execution_count": 87,
     "metadata": {},
     "output_type": "execute_result"
    }
   ],
   "source": [
    "json.dumps(d,indent=2)"
   ]
  },
  {
   "cell_type": "code",
   "execution_count": 88,
   "id": "0d2bdc00",
   "metadata": {},
   "outputs": [
    {
     "name": "stdout",
     "output_type": "stream",
     "text": [
      "{\n",
      "  \"app\": [\n",
      "    \"flask\",\n",
      "    \"django\",\n",
      "    \"FastApi\"\n",
      "  ],\n",
      "  \"service\": [\n",
      "    \"demo1\",\n",
      "    \"demo2\",\n",
      "    \"demo3\"\n",
      "  ]\n",
      "}\n"
     ]
    }
   ],
   "source": [
    "print(json.dumps(d,indent=2))"
   ]
  },
  {
   "cell_type": "code",
   "execution_count": 89,
   "id": "a1809a70",
   "metadata": {},
   "outputs": [],
   "source": [
    "wobj = open(\"E:\\\\test.json\",'w')\n",
    "json.dump(d,wobj)\n",
    "wobj.close()"
   ]
  },
  {
   "cell_type": "code",
   "execution_count": 90,
   "id": "aaa4f3f5",
   "metadata": {},
   "outputs": [
    {
     "data": {
      "text/plain": [
       "{'app': ['flask', 'django', 'FastApi'], 'service': ['demo1', 'demo2', 'demo3']}"
      ]
     },
     "execution_count": 90,
     "metadata": {},
     "output_type": "execute_result"
    }
   ],
   "source": [
    "fobj = open('E:\\\\test.json')\n",
    "pd = json.load(fobj)\n",
    "fobj.close()\n",
    "pd"
   ]
  },
  {
   "cell_type": "code",
   "execution_count": 91,
   "id": "fee73be0",
   "metadata": {},
   "outputs": [],
   "source": [
    "import requests"
   ]
  },
  {
   "cell_type": "code",
   "execution_count": 92,
   "id": "eeee488e",
   "metadata": {},
   "outputs": [
    {
     "data": {
      "text/plain": [
       "<Response [200]>"
      ]
     },
     "execution_count": 92,
     "metadata": {},
     "output_type": "execute_result"
    }
   ],
   "source": [
    "requests.get('https://api.github.com/users/hadley/orgs')"
   ]
  },
  {
   "cell_type": "code",
   "execution_count": 93,
   "id": "852831f0",
   "metadata": {},
   "outputs": [
    {
     "data": {
      "text/plain": [
       "{'Date': 'Thu, 24 Oct 2024 10:42:49 GMT', 'Content-Type': 'application/json; charset=utf-8', 'Cache-Control': 'public, max-age=60, s-maxage=60', 'Vary': 'Accept,Accept-Encoding, Accept, X-Requested-With', 'ETag': 'W/\"61f25e2a55611f7eaf75a20ed5fe501245c5af99bc383854f5442975318fad26\"', 'X-GitHub-Media-Type': 'github.v3; format=json', 'x-github-api-version-selected': '2022-11-28', 'Access-Control-Expose-Headers': 'ETag, Link, Location, Retry-After, X-GitHub-OTP, X-RateLimit-Limit, X-RateLimit-Remaining, X-RateLimit-Used, X-RateLimit-Resource, X-RateLimit-Reset, X-OAuth-Scopes, X-Accepted-OAuth-Scopes, X-Poll-Interval, X-GitHub-Media-Type, X-GitHub-SSO, X-GitHub-Request-Id, Deprecation, Sunset', 'Access-Control-Allow-Origin': '*', 'Strict-Transport-Security': 'max-age=31536000; includeSubdomains; preload', 'X-Frame-Options': 'deny', 'X-Content-Type-Options': 'nosniff', 'X-XSS-Protection': '0', 'Referrer-Policy': 'origin-when-cross-origin, strict-origin-when-cross-origin', 'Content-Security-Policy': \"default-src 'none'\", 'Content-Encoding': 'gzip', 'Server': 'github.com', 'X-RateLimit-Limit': '60', 'X-RateLimit-Remaining': '59', 'X-RateLimit-Reset': '1729770169', 'X-RateLimit-Resource': 'core', 'X-RateLimit-Used': '1', 'Accept-Ranges': 'bytes', 'Content-Length': '1008', 'X-GitHub-Request-Id': 'D744:1DE9F7:63BA02:69C70B:671A24A9'}"
      ]
     },
     "execution_count": 93,
     "metadata": {},
     "output_type": "execute_result"
    }
   ],
   "source": [
    "r = requests.get('https://api.github.com/users/hadley/orgs')\n",
    "r.headers"
   ]
  },
  {
   "cell_type": "code",
   "execution_count": 94,
   "id": "074b6337",
   "metadata": {},
   "outputs": [
    {
     "data": {
      "text/plain": [
       "'application/json; charset=utf-8'"
      ]
     },
     "execution_count": 94,
     "metadata": {},
     "output_type": "execute_result"
    }
   ],
   "source": [
    "r.headers['Content-Type']"
   ]
  },
  {
   "cell_type": "code",
   "execution_count": 95,
   "id": "816abb0f",
   "metadata": {},
   "outputs": [],
   "source": [
    "web_content = r.text"
   ]
  },
  {
   "cell_type": "code",
   "execution_count": 96,
   "id": "471ebeaf",
   "metadata": {},
   "outputs": [
    {
     "name": "stdout",
     "output_type": "stream",
     "text": [
      "<class 'list'>\n"
     ]
    }
   ],
   "source": [
    "pd = json.loads(web_content)\n",
    "print(type(pd))"
   ]
  },
  {
   "cell_type": "code",
   "execution_count": 97,
   "id": "4f085b1f",
   "metadata": {},
   "outputs": [
    {
     "name": "stdout",
     "output_type": "stream",
     "text": [
      "<class 'dict'>\n"
     ]
    }
   ],
   "source": [
    "print(type(pd[0]))"
   ]
  },
  {
   "cell_type": "code",
   "execution_count": 98,
   "id": "6f0baf53",
   "metadata": {},
   "outputs": [
    {
     "data": {
      "text/plain": [
       "{'login': 'ggobi',\n",
       " 'id': 423638,\n",
       " 'node_id': 'MDEyOk9yZ2FuaXphdGlvbjQyMzYzOA==',\n",
       " 'url': 'https://api.github.com/orgs/ggobi',\n",
       " 'repos_url': 'https://api.github.com/orgs/ggobi/repos',\n",
       " 'events_url': 'https://api.github.com/orgs/ggobi/events',\n",
       " 'hooks_url': 'https://api.github.com/orgs/ggobi/hooks',\n",
       " 'issues_url': 'https://api.github.com/orgs/ggobi/issues',\n",
       " 'members_url': 'https://api.github.com/orgs/ggobi/members{/member}',\n",
       " 'public_members_url': 'https://api.github.com/orgs/ggobi/public_members{/member}',\n",
       " 'avatar_url': 'https://avatars.githubusercontent.com/u/423638?v=4',\n",
       " 'description': ''}"
      ]
     },
     "execution_count": 98,
     "metadata": {},
     "output_type": "execute_result"
    }
   ],
   "source": [
    "pd[0]"
   ]
  },
  {
   "cell_type": "code",
   "execution_count": 99,
   "id": "2a2dbdab",
   "metadata": {},
   "outputs": [
    {
     "data": {
      "text/plain": [
       "'text/html; charset=ISO-8859-1'"
      ]
     },
     "execution_count": 99,
     "metadata": {},
     "output_type": "execute_result"
    }
   ],
   "source": [
    "r=requests.get('https://www.google.com')\n",
    "r.headers['Content-Type']"
   ]
  },
  {
   "cell_type": "code",
   "execution_count": 100,
   "id": "5bbe5365",
   "metadata": {},
   "outputs": [],
   "source": [
    "web_page=r.text"
   ]
  },
  {
   "cell_type": "code",
   "execution_count": 101,
   "id": "5bd2e54f",
   "metadata": {},
   "outputs": [],
   "source": [
    "with open('E:\\\\test.html','w') as wobj:\n",
    "    wobj.write(web_page)"
   ]
  },
  {
   "cell_type": "code",
   "execution_count": null,
   "id": "f0b1ce68",
   "metadata": {},
   "outputs": [],
   "source": [
    "numpy    - computation \n",
    "  |->index,reshape,slicing \n",
    "  |->universal functions\n",
    "                  \n",
    "pandas   - Data Analysis \n",
    "matplotlib - Visualization"
   ]
  },
  {
   "cell_type": "code",
   "execution_count": 102,
   "id": "53167f5b",
   "metadata": {},
   "outputs": [
    {
     "ename": "TypeError",
     "evalue": "can only concatenate list (not \"int\") to list",
     "output_type": "error",
     "traceback": [
      "\u001b[1;31m---------------------------------------------------------------------------\u001b[0m",
      "\u001b[1;31mTypeError\u001b[0m                                 Traceback (most recent call last)",
      "Cell \u001b[1;32mIn[102], line 2\u001b[0m\n\u001b[0;32m      1\u001b[0m L\u001b[38;5;241m=\u001b[39m[\u001b[38;5;241m10\u001b[39m,\u001b[38;5;241m20\u001b[39m,\u001b[38;5;241m30\u001b[39m,\u001b[38;5;241m40\u001b[39m]\n\u001b[1;32m----> 2\u001b[0m L\u001b[38;5;241m+\u001b[39m\u001b[38;5;241m100\u001b[39m\n",
      "\u001b[1;31mTypeError\u001b[0m: can only concatenate list (not \"int\") to list"
     ]
    }
   ],
   "source": [
    "L=[10,20,30,40]\n",
    "L+100"
   ]
  },
  {
   "cell_type": "code",
   "execution_count": 104,
   "id": "0424b40b",
   "metadata": {},
   "outputs": [
    {
     "data": {
      "text/plain": [
       "array('i')"
      ]
     },
     "execution_count": 104,
     "metadata": {},
     "output_type": "execute_result"
    }
   ],
   "source": [
    "import array\n",
    "#help(array.array)\n",
    "arr = array.array('i')\n",
    "arr"
   ]
  },
  {
   "cell_type": "code",
   "execution_count": 105,
   "id": "a282506d",
   "metadata": {},
   "outputs": [
    {
     "data": {
      "text/plain": [
       "array('i', [10, 20])"
      ]
     },
     "execution_count": 105,
     "metadata": {},
     "output_type": "execute_result"
    }
   ],
   "source": [
    "arr.append(10)\n",
    "arr.append(20)\n",
    "arr"
   ]
  },
  {
   "cell_type": "code",
   "execution_count": 106,
   "id": "b6ece181",
   "metadata": {},
   "outputs": [
    {
     "ename": "TypeError",
     "evalue": "'float' object cannot be interpreted as an integer",
     "output_type": "error",
     "traceback": [
      "\u001b[1;31m---------------------------------------------------------------------------\u001b[0m",
      "\u001b[1;31mTypeError\u001b[0m                                 Traceback (most recent call last)",
      "Cell \u001b[1;32mIn[106], line 1\u001b[0m\n\u001b[1;32m----> 1\u001b[0m arr\u001b[38;5;241m.\u001b[39mappend(\u001b[38;5;241m30.0\u001b[39m)\n",
      "\u001b[1;31mTypeError\u001b[0m: 'float' object cannot be interpreted as an integer"
     ]
    }
   ],
   "source": [
    "arr.append(30.0)"
   ]
  },
  {
   "cell_type": "code",
   "execution_count": 107,
   "id": "10b2705b",
   "metadata": {},
   "outputs": [
    {
     "ename": "TypeError",
     "evalue": "can only append array (not \"int\") to array",
     "output_type": "error",
     "traceback": [
      "\u001b[1;31m---------------------------------------------------------------------------\u001b[0m",
      "\u001b[1;31mTypeError\u001b[0m                                 Traceback (most recent call last)",
      "Cell \u001b[1;32mIn[107], line 1\u001b[0m\n\u001b[1;32m----> 1\u001b[0m arr\u001b[38;5;241m+\u001b[39m\u001b[38;5;241m100\u001b[39m\n",
      "\u001b[1;31mTypeError\u001b[0m: can only append array (not \"int\") to array"
     ]
    }
   ],
   "source": [
    "arr+100"
   ]
  },
  {
   "cell_type": "code",
   "execution_count": 108,
   "id": "e841c99f",
   "metadata": {},
   "outputs": [
    {
     "data": {
      "text/plain": [
       "array([10, 20, 30])"
      ]
     },
     "execution_count": 108,
     "metadata": {},
     "output_type": "execute_result"
    }
   ],
   "source": [
    "import numpy\n",
    "numpy.array([10,20,30])"
   ]
  },
  {
   "cell_type": "code",
   "execution_count": 109,
   "id": "e8c1571c",
   "metadata": {},
   "outputs": [
    {
     "data": {
      "text/plain": [
       "array([10, 20, 30])"
      ]
     },
     "execution_count": 109,
     "metadata": {},
     "output_type": "execute_result"
    }
   ],
   "source": [
    "arr = numpy.array([10,20,30])\n",
    "arr"
   ]
  },
  {
   "cell_type": "code",
   "execution_count": 110,
   "id": "ba6e008a",
   "metadata": {},
   "outputs": [
    {
     "data": {
      "text/plain": [
       "array([110, 120, 130])"
      ]
     },
     "execution_count": 110,
     "metadata": {},
     "output_type": "execute_result"
    }
   ],
   "source": [
    "arr+100"
   ]
  },
  {
   "cell_type": "code",
   "execution_count": 111,
   "id": "97bae543",
   "metadata": {},
   "outputs": [
    {
     "data": {
      "text/plain": [
       "1"
      ]
     },
     "execution_count": 111,
     "metadata": {},
     "output_type": "execute_result"
    }
   ],
   "source": [
    "arr=numpy.array([10,20,30])\n",
    "arr.ndim"
   ]
  },
  {
   "cell_type": "code",
   "execution_count": 112,
   "id": "67bc65d0",
   "metadata": {},
   "outputs": [
    {
     "data": {
      "text/plain": [
       "(3,)"
      ]
     },
     "execution_count": 112,
     "metadata": {},
     "output_type": "execute_result"
    }
   ],
   "source": [
    "arr.shape"
   ]
  },
  {
   "cell_type": "code",
   "execution_count": 113,
   "id": "f05207c6",
   "metadata": {},
   "outputs": [
    {
     "name": "stdout",
     "output_type": "stream",
     "text": [
      "2 (1, 3)\n"
     ]
    }
   ],
   "source": [
    "arr=numpy.array([[10,20,30]])\n",
    "print(arr.ndim,arr.shape)"
   ]
  },
  {
   "cell_type": "code",
   "execution_count": 114,
   "id": "6a3d123c",
   "metadata": {},
   "outputs": [
    {
     "name": "stdout",
     "output_type": "stream",
     "text": [
      "3 (1, 1, 3)\n"
     ]
    }
   ],
   "source": [
    "arr=numpy.array([[[10,20,30]]])\n",
    "print(arr.ndim,arr.shape)"
   ]
  },
  {
   "cell_type": "code",
   "execution_count": 117,
   "id": "bd3f292c",
   "metadata": {},
   "outputs": [
    {
     "data": {
      "text/plain": [
       "6"
      ]
     },
     "execution_count": 117,
     "metadata": {},
     "output_type": "execute_result"
    }
   ],
   "source": [
    "arr = numpy.array([[1,2,3],[4,5,6],[7,8,9]])\n",
    "arr[1][2]"
   ]
  },
  {
   "cell_type": "code",
   "execution_count": 118,
   "id": "019e91be",
   "metadata": {},
   "outputs": [
    {
     "data": {
      "text/plain": [
       "6"
      ]
     },
     "execution_count": 118,
     "metadata": {},
     "output_type": "execute_result"
    }
   ],
   "source": [
    "arr[1,2]"
   ]
  }
 ],
 "metadata": {
  "kernelspec": {
   "display_name": "Python 3 (ipykernel)",
   "language": "python",
   "name": "python3"
  },
  "language_info": {
   "codemirror_mode": {
    "name": "ipython",
    "version": 3
   },
   "file_extension": ".py",
   "mimetype": "text/x-python",
   "name": "python",
   "nbconvert_exporter": "python",
   "pygments_lexer": "ipython3",
   "version": "3.11.5"
  }
 },
 "nbformat": 4,
 "nbformat_minor": 5
}
