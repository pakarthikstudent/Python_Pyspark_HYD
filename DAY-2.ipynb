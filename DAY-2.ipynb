{
 "cells": [
  {
   "cell_type": "code",
   "execution_count": 5,
   "id": "b5b93187",
   "metadata": {},
   "outputs": [],
   "source": [
    "import sys\n",
    "sys.path.append(\"F:\\\\\")\n",
    "#import <module>"
   ]
  },
  {
   "cell_type": "code",
   "execution_count": 6,
   "id": "f5edb79d",
   "metadata": {},
   "outputs": [
    {
     "data": {
      "text/plain": [
       "'C:\\\\Users\\\\Raja'"
      ]
     },
     "execution_count": 6,
     "metadata": {},
     "output_type": "execute_result"
    }
   ],
   "source": [
    "import os\n",
    "os.getcwd()"
   ]
  },
  {
   "cell_type": "code",
   "execution_count": 7,
   "id": "519683bf",
   "metadata": {},
   "outputs": [
    {
     "ename": "NameError",
     "evalue": "name 'getcwd' is not defined",
     "output_type": "error",
     "traceback": [
      "\u001b[1;31m---------------------------------------------------------------------------\u001b[0m",
      "\u001b[1;31mNameError\u001b[0m                                 Traceback (most recent call last)",
      "Cell \u001b[1;32mIn[7], line 1\u001b[0m\n\u001b[1;32m----> 1\u001b[0m getcwd()\n",
      "\u001b[1;31mNameError\u001b[0m: name 'getcwd' is not defined"
     ]
    }
   ],
   "source": [
    "getcwd()"
   ]
  },
  {
   "cell_type": "code",
   "execution_count": 8,
   "id": "f41dd227",
   "metadata": {},
   "outputs": [
    {
     "data": {
      "text/plain": [
       "'C:\\\\Users\\\\Raja'"
      ]
     },
     "execution_count": 8,
     "metadata": {},
     "output_type": "execute_result"
    }
   ],
   "source": [
    "from os import getcwd\n",
    "getcwd()"
   ]
  },
  {
   "cell_type": "code",
   "execution_count": null,
   "id": "68aa9443",
   "metadata": {},
   "outputs": [],
   "source": [
    "project/\n",
    "        |__ p1.py .. .p50.py\n",
    "        |__ Sub1/pa.py pb.py ...pn.py\n",
    "        \n",
    "import p1,p2,p3\n",
    "\n",
    "import p1\n",
    "import p2\n",
    "import p3\n",
    "\n",
    "|->package - Folder <or> directory\n",
    "\n",
    "Commandline steps:\n",
    "    1. create a project folder/directory\n",
    "    2. collect all the python files into directory\n",
    "    3. create a package initialization file (file name: __init__.py)\n",
    "    4. import all external symbols to __init__.py file\n",
    "    5. Test your project/package =>import <folderName>"
   ]
  },
  {
   "cell_type": "code",
   "execution_count": null,
   "id": "2a0a064f",
   "metadata": {},
   "outputs": [],
   "source": [
    "File: pa.py                                File: p1.py\n",
    "--------------                             -----------\n",
    "port=5000                                   import pa\n",
    "app=\"Flask\"                                 print(pa.port) Vs print(port)\n",
    "def f1():                                   var=120                 __name__.port\n",
    "    print(\"Web page\")                       print(var)\n",
    "-----------------                          --------------"
   ]
  },
  {
   "cell_type": "code",
   "execution_count": null,
   "id": "b9689145",
   "metadata": {},
   "outputs": [],
   "source": [
    "File: pb.py                              import pb\n",
    "--------------\n",
    "port=5000\n",
    "def f1():\n",
    "    print(\"Welcome\")\n",
    "print(port)\n",
    "f1()\n",
    "-----------------"
   ]
  },
  {
   "cell_type": "code",
   "execution_count": null,
   "id": "0d46ddc8",
   "metadata": {},
   "outputs": [],
   "source": [
    "file: pc.py                                   file: p1.py\n",
    "------------                             --> import pc\n",
    "port=5000                                      pc.f1()   \n",
    "def f1():\n",
    "    print(\"Welcome\")\n",
    "    \n",
    "if __name__ == '__main__':\n",
    "    f1()"
   ]
  },
  {
   "cell_type": "code",
   "execution_count": null,
   "id": "a5500aee",
   "metadata": {},
   "outputs": [],
   "source": [
    "__main__.port  | 5000                       pa.port  | 5000\n",
    "----------------------                      -----------------\n",
    "__main__.app   | Flask                      __main__.var| 120\n",
    "-----------------------                     -------------------\n",
    "__main__.f1    | 0x1345\n",
    "\n",
    "from <dir>.<sub>.<module> import <members>\n",
    "                                    *"
   ]
  },
  {
   "cell_type": "code",
   "execution_count": 9,
   "id": "4086c407",
   "metadata": {},
   "outputs": [],
   "source": [
    "import os\n",
    "import json\n",
    "import numpy\n",
    "import re"
   ]
  },
  {
   "cell_type": "code",
   "execution_count": 10,
   "id": "6e38984e",
   "metadata": {},
   "outputs": [
    {
     "data": {
      "text/plain": [
       "'C:\\\\ProgramData\\\\anaconda3\\\\Lib\\\\os.py'"
      ]
     },
     "execution_count": 10,
     "metadata": {},
     "output_type": "execute_result"
    }
   ],
   "source": [
    "os.__file__"
   ]
  },
  {
   "cell_type": "code",
   "execution_count": 11,
   "id": "a9d79b67",
   "metadata": {},
   "outputs": [
    {
     "data": {
      "text/plain": [
       "'C:\\\\ProgramData\\\\anaconda3\\\\Lib\\\\json\\\\__init__.py'"
      ]
     },
     "execution_count": 11,
     "metadata": {},
     "output_type": "execute_result"
    }
   ],
   "source": [
    "json.__file__"
   ]
  },
  {
   "cell_type": "code",
   "execution_count": 12,
   "id": "da0aad99",
   "metadata": {},
   "outputs": [
    {
     "name": "stdout",
     "output_type": "stream",
     "text": [
      "<class 'module'> <class 'module'>\n"
     ]
    }
   ],
   "source": [
    "import os\n",
    "import json\n",
    "print(type(os),type(json))"
   ]
  },
  {
   "cell_type": "code",
   "execution_count": 13,
   "id": "6beba075",
   "metadata": {},
   "outputs": [
    {
     "data": {
      "text/plain": [
       "'3.11.5 | packaged by Anaconda, Inc. | (main, Sep 11 2023, 13:26:23) [MSC v.1916 64 bit (AMD64)]'"
      ]
     },
     "execution_count": 13,
     "metadata": {},
     "output_type": "execute_result"
    }
   ],
   "source": [
    "import sys\n",
    "sys.version"
   ]
  },
  {
   "cell_type": "code",
   "execution_count": 14,
   "id": "312c9502",
   "metadata": {},
   "outputs": [
    {
     "data": {
      "text/plain": [
       "'win32'"
      ]
     },
     "execution_count": 14,
     "metadata": {},
     "output_type": "execute_result"
    }
   ],
   "source": [
    "sys.platform"
   ]
  },
  {
   "cell_type": "code",
   "execution_count": 4,
   "id": "c87a532c",
   "metadata": {},
   "outputs": [
    {
     "ename": "SyntaxError",
     "evalue": "invalid syntax (602400850.py, line 1)",
     "output_type": "error",
     "traceback": [
      "\u001b[1;36m  Cell \u001b[1;32mIn[4], line 1\u001b[1;36m\u001b[0m\n\u001b[1;33m    import subprocess          --->   import subprocess as sp\u001b[0m\n\u001b[1;37m                               ^\u001b[0m\n\u001b[1;31mSyntaxError\u001b[0m\u001b[1;31m:\u001b[0m invalid syntax\n"
     ]
    }
   ],
   "source": [
    "import subprocess          --->   import subprocess as sp\n",
    "subprocess.call(\"\")               sp.call(\"\")\n",
    "\n",
    "import http.lib.request   -------> import http.lib.request as hp\n",
    "http.lib.request.fx()              hp.fx()"
   ]
  },
  {
   "cell_type": "code",
   "execution_count": null,
   "id": "c840b4a3",
   "metadata": {},
   "outputs": [],
   "source": [
    "Activity:\n",
    "----------\n",
    "initialize a pin number (ex: pin=1234)\n",
    "|\n",
    "use while loop - limit is 3\n",
    "     -> read a pin Number from <STDIN>\n",
    "     -> test inputPin with an existing pin\n",
    "              -------------------\n",
    "                   |->Pin is matched - <count>\n",
    "pin is blocked - if all 3 inputs are failed\n",
    "\n",
    "|\n",
    "create a new file ->pin_history.log - append mode\n",
    "|\n",
    "update user input pin details and date/time to pin_history.log file\n",
    "            ----------------                   ===============\n",
    "    \n",
    "|\n",
    "create a function - pin_test():\n",
    "|\n",
    "loadable - module ->open pythonshell ->import <pinModule>\n",
    "                                       <pinModule>.pin_test() //"
   ]
  },
  {
   "cell_type": "code",
   "execution_count": 15,
   "id": "c919daa2",
   "metadata": {},
   "outputs": [
    {
     "data": {
      "text/plain": [
       "'Wed Oct 23 16:00:22 2024'"
      ]
     },
     "execution_count": 15,
     "metadata": {},
     "output_type": "execute_result"
    }
   ],
   "source": [
    "import time\n",
    "time.ctime()"
   ]
  },
  {
   "cell_type": "code",
   "execution_count": 16,
   "id": "4a7fb2f9",
   "metadata": {},
   "outputs": [
    {
     "name": "stdout",
     "output_type": "stream",
     "text": [
      "(<class 'FileNotFoundError'>, FileNotFoundError(2, 'No such file or directory'), <traceback object at 0x000001DAFF288900>)\n"
     ]
    }
   ],
   "source": [
    "try:\n",
    "    fobj = open('InvalidFile','r')\n",
    "except Exception:\n",
    "    print(sys.exc_info())\n"
   ]
  },
  {
   "cell_type": "code",
   "execution_count": 17,
   "id": "c405a4fd",
   "metadata": {},
   "outputs": [
    {
     "name": "stdout",
     "output_type": "stream",
     "text": [
      "(<class 'FileNotFoundError'>, FileNotFoundError(2, 'No such file or directory'), <traceback object at 0x000001DA80399840>)\n"
     ]
    }
   ],
   "source": [
    "try:\n",
    "    fobj = open('InvalidFile','r')\n",
    "except:\n",
    "    print(sys.exc_info())"
   ]
  },
  {
   "cell_type": "code",
   "execution_count": 18,
   "id": "adf7f403",
   "metadata": {},
   "outputs": [
    {
     "name": "stdout",
     "output_type": "stream",
     "text": [
      "(<class 'FileNotFoundError'>, FileNotFoundError(2, 'No such file or directory'), <traceback object at 0x000001DA802A5380>)\n"
     ]
    }
   ],
   "source": [
    "try:\n",
    "    fobj = open('E:\\\\emp.csv1')\n",
    "    print(fobj.read())\n",
    "except:\n",
    "    print(sys.exc_info())\n",
    "    "
   ]
  },
  {
   "cell_type": "code",
   "execution_count": 19,
   "id": "3bec754f",
   "metadata": {},
   "outputs": [
    {
     "name": "stdout",
     "output_type": "stream",
     "text": [
      "<class 'int'>\n"
     ]
    }
   ],
   "source": [
    "print(type(10))"
   ]
  },
  {
   "cell_type": "code",
   "execution_count": 20,
   "id": "db25bd69",
   "metadata": {},
   "outputs": [
    {
     "name": "stdout",
     "output_type": "stream",
     "text": [
      "<class 'type'>\n"
     ]
    }
   ],
   "source": [
    "print(type(int))"
   ]
  },
  {
   "cell_type": "code",
   "execution_count": null,
   "id": "8d270343",
   "metadata": {},
   "outputs": [],
   "source": [
    "class\n",
    "object\n",
    "|\n",
    "method\n",
    "   |->special methods\n",
    "inheritance\n",
    "decorator\n",
    "    |->classmethod,staticmethod\n"
   ]
  },
  {
   "cell_type": "code",
   "execution_count": null,
   "id": "a3b351e1",
   "metadata": {},
   "outputs": [],
   "source": [
    "class <className>:\n",
    "    <attribute>"
   ]
  },
  {
   "cell_type": "code",
   "execution_count": 21,
   "id": "4e2513a5",
   "metadata": {},
   "outputs": [
    {
     "name": "stdout",
     "output_type": "stream",
     "text": [
      "<class 'type'> <class 'type'>\n"
     ]
    }
   ],
   "source": [
    "class product:\n",
    "    pid = 101\n",
    "    pname = 'prodA'\n",
    "    \n",
    "print(type(product),type(int))"
   ]
  },
  {
   "cell_type": "code",
   "execution_count": 22,
   "id": "6b1f711d",
   "metadata": {},
   "outputs": [
    {
     "data": {
      "text/plain": [
       "101"
      ]
     },
     "execution_count": 22,
     "metadata": {},
     "output_type": "execute_result"
    }
   ],
   "source": [
    "# we can access class attribute -> using className.<attribute>\n",
    "# we can modify an existing class attribute\n",
    "\n",
    "product.pid"
   ]
  },
  {
   "cell_type": "code",
   "execution_count": 23,
   "id": "5de61197",
   "metadata": {},
   "outputs": [
    {
     "ename": "AttributeError",
     "evalue": "type object 'product' has no attribute 'Pid'",
     "output_type": "error",
     "traceback": [
      "\u001b[1;31m---------------------------------------------------------------------------\u001b[0m",
      "\u001b[1;31mAttributeError\u001b[0m                            Traceback (most recent call last)",
      "Cell \u001b[1;32mIn[23], line 1\u001b[0m\n\u001b[1;32m----> 1\u001b[0m product\u001b[38;5;241m.\u001b[39mPid\n",
      "\u001b[1;31mAttributeError\u001b[0m: type object 'product' has no attribute 'Pid'"
     ]
    }
   ],
   "source": [
    "product.Pid"
   ]
  },
  {
   "cell_type": "code",
   "execution_count": 24,
   "id": "870b101a",
   "metadata": {},
   "outputs": [
    {
     "data": {
      "text/plain": [
       "505"
      ]
     },
     "execution_count": 24,
     "metadata": {},
     "output_type": "execute_result"
    }
   ],
   "source": [
    "product.pid = 505\n",
    "product.pid"
   ]
  },
  {
   "cell_type": "code",
   "execution_count": 25,
   "id": "d206ae32",
   "metadata": {},
   "outputs": [],
   "source": [
    "product.pcost = 1000 # we can create new attribute to an existing class"
   ]
  },
  {
   "cell_type": "code",
   "execution_count": null,
   "id": "bdfd8ab4",
   "metadata": {},
   "outputs": [],
   "source": [
    "  +---------------------+\n",
    "  | [ ]      |  |  [][] |    - blueprint sheet - class\n",
    "  |              white  |\n",
    "  +---------|   |-------+\n",
    "\n",
    "\n",
    "  [Building1] [Building2] .. [BuildingN] - object\n",
    "    |           |_2nBlock\n",
    "    1st Block"
   ]
  },
  {
   "cell_type": "code",
   "execution_count": 26,
   "id": "837706ec",
   "metadata": {},
   "outputs": [],
   "source": [
    "class Enrollment:\n",
    "    Name = ''\n",
    "    DOB = ''"
   ]
  },
  {
   "cell_type": "code",
   "execution_count": 27,
   "id": "b2a474f6",
   "metadata": {},
   "outputs": [],
   "source": [
    "obj1 = Enrollment()\n",
    "obj1.Name = 'Arun'\n",
    "obj1.DOB = '1st Jan'"
   ]
  },
  {
   "cell_type": "code",
   "execution_count": 28,
   "id": "4745a262",
   "metadata": {},
   "outputs": [],
   "source": [
    "obj2 = Enrollment()\n",
    "obj2.Name = 'Anu'\n",
    "obj2.DOB = '2nd Feb'"
   ]
  },
  {
   "cell_type": "code",
   "execution_count": 29,
   "id": "cafa93d1",
   "metadata": {},
   "outputs": [
    {
     "name": "stdout",
     "output_type": "stream",
     "text": [
      "Arun 1st Jan Anu 2nd Feb\n"
     ]
    }
   ],
   "source": [
    "print(obj1.Name,obj1.DOB,obj2.Name,obj2.DOB)"
   ]
  },
  {
   "cell_type": "code",
   "execution_count": 30,
   "id": "d3f753ba",
   "metadata": {},
   "outputs": [
    {
     "ename": "AttributeError",
     "evalue": "'Enrollment' object has no attribute 'Place'",
     "output_type": "error",
     "traceback": [
      "\u001b[1;31m---------------------------------------------------------------------------\u001b[0m",
      "\u001b[1;31mAttributeError\u001b[0m                            Traceback (most recent call last)",
      "Cell \u001b[1;32mIn[30], line 1\u001b[0m\n\u001b[1;32m----> 1\u001b[0m obj1\u001b[38;5;241m.\u001b[39mPlace\n",
      "\u001b[1;31mAttributeError\u001b[0m: 'Enrollment' object has no attribute 'Place'"
     ]
    }
   ],
   "source": [
    "obj1.Place"
   ]
  },
  {
   "cell_type": "code",
   "execution_count": 31,
   "id": "de5177bb",
   "metadata": {},
   "outputs": [],
   "source": [
    "Enrollment.Place = '' # using classname - we can add new attribute to an class"
   ]
  },
  {
   "cell_type": "code",
   "execution_count": 32,
   "id": "9170cb7c",
   "metadata": {},
   "outputs": [
    {
     "data": {
      "text/plain": [
       "''"
      ]
     },
     "execution_count": 32,
     "metadata": {},
     "output_type": "execute_result"
    }
   ],
   "source": [
    "obj1.Place # note - there is no AttributeError"
   ]
  },
  {
   "cell_type": "code",
   "execution_count": 33,
   "id": "240bb679",
   "metadata": {},
   "outputs": [],
   "source": [
    "obj1.Place = 'City1' # object based initialization\n",
    "obj2.Place = 'City2' # object based initialization"
   ]
  },
  {
   "cell_type": "code",
   "execution_count": 34,
   "id": "94d23ec3",
   "metadata": {},
   "outputs": [
    {
     "name": "stdout",
     "output_type": "stream",
     "text": [
      "<class 'function'> <class 'method'>\n"
     ]
    }
   ],
   "source": [
    "def fx():\n",
    "    print('hello')\n",
    "\n",
    "class cname:\n",
    "    def fy():\n",
    "        print('hello')\n",
    "        \n",
    "obj = cname()\n",
    "\n",
    "print(type(fx),type(obj.fy))"
   ]
  },
  {
   "cell_type": "code",
   "execution_count": 35,
   "id": "379a18ef",
   "metadata": {},
   "outputs": [
    {
     "data": {
      "text/plain": [
       "'AB'"
      ]
     },
     "execution_count": 35,
     "metadata": {},
     "output_type": "execute_result"
    }
   ],
   "source": [
    "\"ab\".upper() # string method"
   ]
  },
  {
   "cell_type": "code",
   "execution_count": 36,
   "id": "f28060ae",
   "metadata": {},
   "outputs": [
    {
     "name": "stdout",
     "output_type": "stream",
     "text": [
      "OK\n"
     ]
    },
    {
     "ename": "TypeError",
     "evalue": "f1() takes 0 positional arguments but 1 was given",
     "output_type": "error",
     "traceback": [
      "\u001b[1;31m---------------------------------------------------------------------------\u001b[0m",
      "\u001b[1;31mTypeError\u001b[0m                                 Traceback (most recent call last)",
      "Cell \u001b[1;32mIn[36], line 5\u001b[0m\n\u001b[0;32m      2\u001b[0m     \u001b[38;5;28mprint\u001b[39m(\u001b[38;5;124m\"\u001b[39m\u001b[38;5;124mOK\u001b[39m\u001b[38;5;124m\"\u001b[39m)\n\u001b[0;32m      4\u001b[0m f1()\n\u001b[1;32m----> 5\u001b[0m f1(\u001b[38;5;241m10\u001b[39m)\n",
      "\u001b[1;31mTypeError\u001b[0m: f1() takes 0 positional arguments but 1 was given"
     ]
    }
   ],
   "source": [
    "def f1():\n",
    "    print(\"OK\")\n",
    "    \n",
    "f1()\n",
    "f1(10)"
   ]
  },
  {
   "cell_type": "code",
   "execution_count": 37,
   "id": "f9c26f74",
   "metadata": {},
   "outputs": [
    {
     "ename": "TypeError",
     "evalue": "cname.fy() takes 0 positional arguments but 1 was given",
     "output_type": "error",
     "traceback": [
      "\u001b[1;31m---------------------------------------------------------------------------\u001b[0m",
      "\u001b[1;31mTypeError\u001b[0m                                 Traceback (most recent call last)",
      "Cell \u001b[1;32mIn[37], line 6\u001b[0m\n\u001b[0;32m      3\u001b[0m         \u001b[38;5;28mprint\u001b[39m(\u001b[38;5;124m\"\u001b[39m\u001b[38;5;124mOK\u001b[39m\u001b[38;5;124m\"\u001b[39m)\n\u001b[0;32m      5\u001b[0m obj \u001b[38;5;241m=\u001b[39m cname()\n\u001b[1;32m----> 6\u001b[0m obj\u001b[38;5;241m.\u001b[39mfy()\n",
      "\u001b[1;31mTypeError\u001b[0m: cname.fy() takes 0 positional arguments but 1 was given"
     ]
    }
   ],
   "source": [
    "class cname:\n",
    "    def fy():\n",
    "        print(\"OK\")\n",
    "        \n",
    "obj = cname()\n",
    "obj.fy() # fy(obj)   ;  obj.fy(10,20,30) -> fy(obj,10,20,30)"
   ]
  },
  {
   "cell_type": "code",
   "execution_count": 38,
   "id": "d420bfe6",
   "metadata": {},
   "outputs": [
    {
     "name": "stdout",
     "output_type": "stream",
     "text": [
      "self= <__main__.cname object at 0x000001DA8043B010>\n",
      "obj1= <__main__.cname object at 0x000001DA8043B010>\n",
      "\n",
      "self= <__main__.cname object at 0x000001DAFF1D33D0>\n",
      "obj2= <__main__.cname object at 0x000001DAFF1D33D0>\n"
     ]
    }
   ],
   "source": [
    "class cname:\n",
    "    def fy(self):\n",
    "        print(\"self=\",self)\n",
    "        \n",
    "obj1 = cname()\n",
    "obj1.fy() # fy(obj1)\n",
    "print(\"obj1=\",obj1)\n",
    "time.sleep(10) # dely 10secs\n",
    "print('') # empty line\n",
    "obj2 = cname()\n",
    "obj2.fy() # fy(obj2)\n",
    "print(\"obj2=\",obj2)"
   ]
  },
  {
   "cell_type": "code",
   "execution_count": 39,
   "id": "fd6ae504",
   "metadata": {},
   "outputs": [],
   "source": [
    "class Enrollment:\n",
    "    Name = ''\n",
    "    DOB = ''\n",
    "    Place = ''\n",
    "    def f1(self,n,d,p):\n",
    "        '''initialization'''\n",
    "        self.Name = n\n",
    "        self.DOB = d\n",
    "        self.Place = p\n",
    "        print('Enrollment is done')\n",
    "    def f2(self):\n",
    "        '''display emp details'''\n",
    "        print(f'''About {self.Name} details:-\n",
    "        Emp name:{self.Name} DOB:{self.DOB}\n",
    "        Working City:{self.Place}''')\n",
    "    def f3(self,p):\n",
    "        '''update emp working Place'''\n",
    "        self.Place = p\n",
    "        print(f'{self.Name} updated working City is:{self.Place}')"
   ]
  },
  {
   "cell_type": "code",
   "execution_count": 40,
   "id": "6a853e27",
   "metadata": {},
   "outputs": [
    {
     "name": "stdout",
     "output_type": "stream",
     "text": [
      "Enrollment is done\n"
     ]
    }
   ],
   "source": [
    "obj1 = Enrollment()\n",
    "obj1.f1('Arun','1st Jan','City1')"
   ]
  },
  {
   "cell_type": "code",
   "execution_count": 41,
   "id": "d8845467",
   "metadata": {},
   "outputs": [
    {
     "name": "stdout",
     "output_type": "stream",
     "text": [
      "Enrollment is done\n"
     ]
    }
   ],
   "source": [
    "obj2 = Enrollment()\n",
    "obj2.f1('Anu','2nd Feb','City2')"
   ]
  },
  {
   "cell_type": "code",
   "execution_count": 42,
   "id": "2876f035",
   "metadata": {},
   "outputs": [
    {
     "name": "stdout",
     "output_type": "stream",
     "text": [
      "About Arun details:-\n",
      "        Emp name:Arun DOB:1st Jan\n",
      "        Working City:City1\n"
     ]
    }
   ],
   "source": [
    "obj1.f2()"
   ]
  },
  {
   "cell_type": "code",
   "execution_count": 43,
   "id": "8cca28aa",
   "metadata": {},
   "outputs": [
    {
     "name": "stdout",
     "output_type": "stream",
     "text": [
      "About Anu details:-\n",
      "        Emp name:Anu DOB:2nd Feb\n",
      "        Working City:City2\n"
     ]
    }
   ],
   "source": [
    "obj2.f2()"
   ]
  },
  {
   "cell_type": "code",
   "execution_count": 44,
   "id": "5f1a31d7",
   "metadata": {},
   "outputs": [
    {
     "name": "stdout",
     "output_type": "stream",
     "text": [
      "Arun updated working City is:Hyderabad\n"
     ]
    }
   ],
   "source": [
    "obj1.f3('Hyderabad')"
   ]
  },
  {
   "cell_type": "code",
   "execution_count": 45,
   "id": "6632e04e",
   "metadata": {},
   "outputs": [
    {
     "name": "stdout",
     "output_type": "stream",
     "text": [
      "About Arun details:-\n",
      "        Emp name:Arun DOB:1st Jan\n",
      "        Working City:Hyderabad\n"
     ]
    }
   ],
   "source": [
    "obj1.f2()"
   ]
  },
  {
   "cell_type": "code",
   "execution_count": 46,
   "id": "d8547ab6",
   "metadata": {},
   "outputs": [],
   "source": [
    "class DBI:\n",
    "    def connect(self):\n",
    "        '''DB connection'''\n",
    "        ...\n",
    "    def method1(self):\n",
    "        'Query1'\n",
    "    def method2(self):\n",
    "        'Query2'\n",
    "        \n",
    "obj = DBI()\n",
    "obj.method2() # we can method2 directly -> DBOpertion Error"
   ]
  },
  {
   "cell_type": "code",
   "execution_count": 47,
   "id": "02ee9e42",
   "metadata": {},
   "outputs": [],
   "source": [
    "class Enrollment:\n",
    "    def __init__(self,n,d,p):\n",
    "        '''initialization'''\n",
    "        self.Name = n\n",
    "        self.DOB = d\n",
    "        self.Place = p\n",
    "        print('Enrollment is done')\n",
    "    def f2(self):\n",
    "        '''display emp details'''\n",
    "        print(f'''About {self.Name} details:-\n",
    "        Emp name:{self.Name} DOB:{self.DOB}\n",
    "        Working City:{self.Place}''')\n",
    "    def f3(self,p):\n",
    "        '''update emp working Place'''\n",
    "        self.Place = p\n",
    "        print(f'{self.Name} updated working City is:{self.Place}')"
   ]
  },
  {
   "cell_type": "code",
   "execution_count": 48,
   "id": "9a269dbb",
   "metadata": {},
   "outputs": [
    {
     "name": "stdout",
     "output_type": "stream",
     "text": [
      "Enrollment is done\n"
     ]
    }
   ],
   "source": [
    "obj1 = Enrollment('Arun','1st Jan','City-1')"
   ]
  },
  {
   "cell_type": "code",
   "execution_count": 49,
   "id": "ec42658a",
   "metadata": {},
   "outputs": [
    {
     "name": "stdout",
     "output_type": "stream",
     "text": [
      "Enrollment is done\n"
     ]
    }
   ],
   "source": [
    "obj2 = Enrollment('Anu','2nd Feb','City-2')"
   ]
  },
  {
   "cell_type": "code",
   "execution_count": 50,
   "id": "296039e9",
   "metadata": {},
   "outputs": [
    {
     "name": "stdout",
     "output_type": "stream",
     "text": [
      "About Arun details:-\n",
      "        Emp name:Arun DOB:1st Jan\n",
      "        Working City:City-1\n",
      "About Anu details:-\n",
      "        Emp name:Anu DOB:2nd Feb\n",
      "        Working City:City-2\n"
     ]
    }
   ],
   "source": [
    "for var in [obj1,obj2]:\n",
    "    var.f2()\n",
    "    time.sleep(3)"
   ]
  },
  {
   "cell_type": "code",
   "execution_count": 51,
   "id": "338527de",
   "metadata": {},
   "outputs": [
    {
     "name": "stdout",
     "output_type": "stream",
     "text": [
      "Arun updated working City is:Hyderabad\n"
     ]
    }
   ],
   "source": [
    "obj1.f3('Hyderabad')"
   ]
  },
  {
   "cell_type": "code",
   "execution_count": 53,
   "id": "5f83a2bb",
   "metadata": {},
   "outputs": [
    {
     "name": "stdout",
     "output_type": "stream",
     "text": [
      "About Arun details:-\n",
      "        Emp name:Arun DOB:1st Jan\n",
      "        Working City:Hyderabad\n"
     ]
    }
   ],
   "source": [
    "obj1.f2()"
   ]
  },
  {
   "cell_type": "code",
   "execution_count": 54,
   "id": "1ab16e4a",
   "metadata": {},
   "outputs": [],
   "source": [
    "i = 10"
   ]
  },
  {
   "cell_type": "code",
   "execution_count": 55,
   "id": "62757528",
   "metadata": {},
   "outputs": [],
   "source": [
    "j = int(10)"
   ]
  },
  {
   "cell_type": "code",
   "execution_count": 56,
   "id": "2cf3843c",
   "metadata": {},
   "outputs": [
    {
     "name": "stdout",
     "output_type": "stream",
     "text": [
      "<class 'int'> <class 'int'>\n",
      "10 10\n"
     ]
    }
   ],
   "source": [
    "print(type(i),type(j))\n",
    "print(i,j)"
   ]
  },
  {
   "cell_type": "code",
   "execution_count": 57,
   "id": "a999cc6b",
   "metadata": {},
   "outputs": [],
   "source": [
    "s = str()"
   ]
  },
  {
   "cell_type": "code",
   "execution_count": 58,
   "id": "1db68940",
   "metadata": {},
   "outputs": [],
   "source": [
    "L = list()"
   ]
  },
  {
   "cell_type": "code",
   "execution_count": 59,
   "id": "e4f52bdb",
   "metadata": {},
   "outputs": [],
   "source": [
    "d = dict()"
   ]
  },
  {
   "cell_type": "code",
   "execution_count": 60,
   "id": "3c4cd892",
   "metadata": {},
   "outputs": [
    {
     "name": "stdout",
     "output_type": "stream",
     "text": [
      "0 0.0\n"
     ]
    }
   ],
   "source": [
    "k = int()\n",
    "f = float()\n",
    "print(k,f)"
   ]
  },
  {
   "cell_type": "code",
   "execution_count": null,
   "id": "95cce832",
   "metadata": {},
   "outputs": [],
   "source": [
    "#help(str)"
   ]
  },
  {
   "cell_type": "code",
   "execution_count": 61,
   "id": "d0ca669c",
   "metadata": {},
   "outputs": [],
   "source": [
    "class cname:\n",
    "    def __init__(self):\n",
    "        print('initialization')\n",
    "    def __del__(self):\n",
    "        print('deallocation')"
   ]
  },
  {
   "cell_type": "code",
   "execution_count": 62,
   "id": "98c2b0c5",
   "metadata": {},
   "outputs": [
    {
     "name": "stdout",
     "output_type": "stream",
     "text": [
      "initialization\n"
     ]
    }
   ],
   "source": [
    "obj = cname()"
   ]
  },
  {
   "cell_type": "code",
   "execution_count": 63,
   "id": "1831c143",
   "metadata": {},
   "outputs": [
    {
     "name": "stdout",
     "output_type": "stream",
     "text": [
      "deallocation\n"
     ]
    }
   ],
   "source": [
    "del(obj)"
   ]
  },
  {
   "cell_type": "code",
   "execution_count": null,
   "id": "cfb22555",
   "metadata": {},
   "outputs": [],
   "source": [
    "In python inside the class - any variable/function \n",
    "name starts with doubleunderscore and endswith doubleunderscore \n",
    "predefined python class attributes (or) builtin attributes"
   ]
  },
  {
   "cell_type": "code",
   "execution_count": 64,
   "id": "885c32fe",
   "metadata": {},
   "outputs": [
    {
     "data": {
      "text/plain": [
       "['__abs__',\n",
       " '__add__',\n",
       " '__and__',\n",
       " '__bool__',\n",
       " '__ceil__',\n",
       " '__class__',\n",
       " '__delattr__',\n",
       " '__dir__',\n",
       " '__divmod__',\n",
       " '__doc__',\n",
       " '__eq__',\n",
       " '__float__',\n",
       " '__floor__',\n",
       " '__floordiv__',\n",
       " '__format__',\n",
       " '__ge__',\n",
       " '__getattribute__',\n",
       " '__getnewargs__',\n",
       " '__getstate__',\n",
       " '__gt__',\n",
       " '__hash__',\n",
       " '__index__',\n",
       " '__init__',\n",
       " '__init_subclass__',\n",
       " '__int__',\n",
       " '__invert__',\n",
       " '__le__',\n",
       " '__lshift__',\n",
       " '__lt__',\n",
       " '__mod__',\n",
       " '__mul__',\n",
       " '__ne__',\n",
       " '__neg__',\n",
       " '__new__',\n",
       " '__or__',\n",
       " '__pos__',\n",
       " '__pow__',\n",
       " '__radd__',\n",
       " '__rand__',\n",
       " '__rdivmod__',\n",
       " '__reduce__',\n",
       " '__reduce_ex__',\n",
       " '__repr__',\n",
       " '__rfloordiv__',\n",
       " '__rlshift__',\n",
       " '__rmod__',\n",
       " '__rmul__',\n",
       " '__ror__',\n",
       " '__round__',\n",
       " '__rpow__',\n",
       " '__rrshift__',\n",
       " '__rshift__',\n",
       " '__rsub__',\n",
       " '__rtruediv__',\n",
       " '__rxor__',\n",
       " '__setattr__',\n",
       " '__sizeof__',\n",
       " '__str__',\n",
       " '__sub__',\n",
       " '__subclasshook__',\n",
       " '__truediv__',\n",
       " '__trunc__',\n",
       " '__xor__',\n",
       " 'as_integer_ratio',\n",
       " 'bit_count',\n",
       " 'bit_length',\n",
       " 'conjugate',\n",
       " 'denominator',\n",
       " 'from_bytes',\n",
       " 'imag',\n",
       " 'numerator',\n",
       " 'real',\n",
       " 'to_bytes']"
      ]
     },
     "execution_count": 64,
     "metadata": {},
     "output_type": "execute_result"
    }
   ],
   "source": [
    "dir(int)"
   ]
  },
  {
   "cell_type": "code",
   "execution_count": 65,
   "id": "eff50ed6",
   "metadata": {},
   "outputs": [
    {
     "data": {
      "text/plain": [
       "35"
      ]
     },
     "execution_count": 65,
     "metadata": {},
     "output_type": "execute_result"
    }
   ],
   "source": [
    "va = int(15)\n",
    "vb = int(20)\n",
    "va.__add__(vb)"
   ]
  },
  {
   "cell_type": "code",
   "execution_count": 66,
   "id": "1dcab826",
   "metadata": {},
   "outputs": [
    {
     "ename": "TypeError",
     "evalue": "'Box' object is not callable",
     "output_type": "error",
     "traceback": [
      "\u001b[1;31m---------------------------------------------------------------------------\u001b[0m",
      "\u001b[1;31mTypeError\u001b[0m                                 Traceback (most recent call last)",
      "Cell \u001b[1;32mIn[66], line 6\u001b[0m\n\u001b[0;32m      3\u001b[0m         \u001b[38;5;28;01mpass\u001b[39;00m\n\u001b[0;32m      5\u001b[0m obj \u001b[38;5;241m=\u001b[39m Box()\n\u001b[1;32m----> 6\u001b[0m obj()\n",
      "\u001b[1;31mTypeError\u001b[0m: 'Box' object is not callable"
     ]
    }
   ],
   "source": [
    "class Box:\n",
    "    def __init__(self):\n",
    "        pass\n",
    "        \n",
    "obj = Box()\n",
    "obj()"
   ]
  },
  {
   "cell_type": "code",
   "execution_count": 67,
   "id": "0bededc1",
   "metadata": {},
   "outputs": [
    {
     "data": {
      "text/plain": [
       "False"
      ]
     },
     "execution_count": 67,
     "metadata": {},
     "output_type": "execute_result"
    }
   ],
   "source": [
    "callable(obj)"
   ]
  },
  {
   "cell_type": "code",
   "execution_count": 68,
   "id": "837ad1b6",
   "metadata": {},
   "outputs": [
    {
     "name": "stdout",
     "output_type": "stream",
     "text": [
      "<class 'function'>\n"
     ]
    }
   ],
   "source": [
    "def fx():\n",
    "    pass\n",
    "print(type(fx))"
   ]
  },
  {
   "cell_type": "code",
   "execution_count": 69,
   "id": "3358382a",
   "metadata": {},
   "outputs": [
    {
     "data": {
      "text/plain": [
       "True"
      ]
     },
     "execution_count": 69,
     "metadata": {},
     "output_type": "execute_result"
    }
   ],
   "source": [
    "callable(fx)"
   ]
  },
  {
   "cell_type": "code",
   "execution_count": 70,
   "id": "433e96f5",
   "metadata": {},
   "outputs": [
    {
     "data": {
      "text/plain": [
       "True"
      ]
     },
     "execution_count": 70,
     "metadata": {},
     "output_type": "execute_result"
    }
   ],
   "source": [
    "class Box:\n",
    "    def __call__(self):\n",
    "        print(\"OK\")\n",
    "        \n",
    "obj = Box()\n",
    "callable(obj)"
   ]
  },
  {
   "cell_type": "code",
   "execution_count": 71,
   "id": "c39bb856",
   "metadata": {},
   "outputs": [
    {
     "name": "stdout",
     "output_type": "stream",
     "text": [
      "OK\n"
     ]
    }
   ],
   "source": [
    "obj() #obj.__call__()"
   ]
  },
  {
   "cell_type": "code",
   "execution_count": 72,
   "id": "a834068e",
   "metadata": {},
   "outputs": [
    {
     "name": "stdout",
     "output_type": "stream",
     "text": [
      "f1 block\n"
     ]
    }
   ],
   "source": [
    "def f1():\n",
    "    print('f1 block')\n",
    "f1.__call__() # f1()"
   ]
  },
  {
   "cell_type": "code",
   "execution_count": 73,
   "id": "5313f864",
   "metadata": {},
   "outputs": [],
   "source": [
    "def f2():\n",
    "    print(\"OK\")"
   ]
  },
  {
   "cell_type": "code",
   "execution_count": 74,
   "id": "0795d0ae",
   "metadata": {},
   "outputs": [
    {
     "data": {
      "text/plain": [
       "{'K1': <function __main__.f1()>, 'K2': <function __main__.f2()>}"
      ]
     },
     "execution_count": 74,
     "metadata": {},
     "output_type": "execute_result"
    }
   ],
   "source": [
    "d={}\n",
    "d['K1']=f1\n",
    "d['K2']=f2\n",
    "d"
   ]
  },
  {
   "cell_type": "code",
   "execution_count": 75,
   "id": "7c72b928",
   "metadata": {},
   "outputs": [
    {
     "data": {
      "text/plain": [
       "True"
      ]
     },
     "execution_count": 75,
     "metadata": {},
     "output_type": "execute_result"
    }
   ],
   "source": [
    "callable(d['K1'])"
   ]
  },
  {
   "cell_type": "code",
   "execution_count": 76,
   "id": "32cd7458",
   "metadata": {},
   "outputs": [
    {
     "name": "stdout",
     "output_type": "stream",
     "text": [
      "f1 block\n"
     ]
    }
   ],
   "source": [
    "d['K1']()"
   ]
  },
  {
   "cell_type": "code",
   "execution_count": 77,
   "id": "8b058a74",
   "metadata": {},
   "outputs": [],
   "source": [
    "class box:\n",
    "    def __init__(self,a=10):\n",
    "        self.a = a\n",
    "    def __str__(self):\n",
    "        return str(self.a+100)"
   ]
  },
  {
   "cell_type": "code",
   "execution_count": 78,
   "id": "ce010147",
   "metadata": {},
   "outputs": [
    {
     "data": {
      "text/plain": [
       "'145'"
      ]
     },
     "execution_count": 78,
     "metadata": {},
     "output_type": "execute_result"
    }
   ],
   "source": [
    "obj = box(45)\n",
    "str(obj) # obj.__str__()"
   ]
  },
  {
   "cell_type": "code",
   "execution_count": null,
   "id": "1dc0fcdf",
   "metadata": {},
   "outputs": [],
   "source": [
    "In Side class - any variable/function name - starts with double __ (not ends with)\n",
    "                  ------------------\n",
    "                        |->user defined private attributes"
   ]
  },
  {
   "cell_type": "code",
   "execution_count": 79,
   "id": "15c2f62b",
   "metadata": {},
   "outputs": [],
   "source": [
    "class mylogin:\n",
    "    name='root'\n",
    "    __password='Welcome'"
   ]
  },
  {
   "cell_type": "code",
   "execution_count": 81,
   "id": "db9a8787",
   "metadata": {},
   "outputs": [
    {
     "name": "stdout",
     "output_type": "stream",
     "text": [
      "root\n"
     ]
    },
    {
     "ename": "AttributeError",
     "evalue": "type object 'mylogin' has no attribute '__password'",
     "output_type": "error",
     "traceback": [
      "\u001b[1;31m---------------------------------------------------------------------------\u001b[0m",
      "\u001b[1;31mAttributeError\u001b[0m                            Traceback (most recent call last)",
      "Cell \u001b[1;32mIn[81], line 2\u001b[0m\n\u001b[0;32m      1\u001b[0m \u001b[38;5;28mprint\u001b[39m(mylogin\u001b[38;5;241m.\u001b[39mname)\n\u001b[1;32m----> 2\u001b[0m mylogin\u001b[38;5;241m.\u001b[39m__password\n",
      "\u001b[1;31mAttributeError\u001b[0m: type object 'mylogin' has no attribute '__password'"
     ]
    }
   ],
   "source": [
    "print(mylogin.name)\n",
    "mylogin.__password"
   ]
  },
  {
   "cell_type": "code",
   "execution_count": 82,
   "id": "f9515946",
   "metadata": {},
   "outputs": [],
   "source": [
    "class box:\n",
    "    def __init__(self,bid,bname):\n",
    "        self.__bid = bid\n",
    "        self.__bname = bname\n",
    "    def method1(self):\n",
    "        print(self.__bid)\n",
    "        print(self.__bname)"
   ]
  },
  {
   "cell_type": "code",
   "execution_count": 84,
   "id": "d41ebfa9",
   "metadata": {},
   "outputs": [
    {
     "name": "stdout",
     "output_type": "stream",
     "text": [
      "101\n",
      "Box-1\n"
     ]
    }
   ],
   "source": [
    "obj = box(101,'Box-1')\n",
    "obj.method1()"
   ]
  },
  {
   "cell_type": "code",
   "execution_count": 85,
   "id": "51f96a8e",
   "metadata": {},
   "outputs": [
    {
     "ename": "AttributeError",
     "evalue": "'box' object has no attribute '__bid'",
     "output_type": "error",
     "traceback": [
      "\u001b[1;31m---------------------------------------------------------------------------\u001b[0m",
      "\u001b[1;31mAttributeError\u001b[0m                            Traceback (most recent call last)",
      "Cell \u001b[1;32mIn[85], line 1\u001b[0m\n\u001b[1;32m----> 1\u001b[0m obj\u001b[38;5;241m.\u001b[39m__bid\n",
      "\u001b[1;31mAttributeError\u001b[0m: 'box' object has no attribute '__bid'"
     ]
    }
   ],
   "source": [
    "obj.__bid"
   ]
  },
  {
   "cell_type": "code",
   "execution_count": 87,
   "id": "4277d25c",
   "metadata": {},
   "outputs": [
    {
     "name": "stdout",
     "output_type": "stream",
     "text": [
      "<class 'pandas.core.frame.DataFrame'>\n"
     ]
    }
   ],
   "source": [
    "import pandas as pd\n",
    "print(pd.DataFrame)"
   ]
  },
  {
   "cell_type": "code",
   "execution_count": 89,
   "id": "dac0af54",
   "metadata": {},
   "outputs": [
    {
     "data": {
      "text/plain": [
       "427"
      ]
     },
     "execution_count": 89,
     "metadata": {},
     "output_type": "execute_result"
    }
   ],
   "source": [
    "len(dir(pd.DataFrame))"
   ]
  },
  {
   "cell_type": "code",
   "execution_count": 90,
   "id": "cb86ca9b",
   "metadata": {},
   "outputs": [
    {
     "data": {
      "text/plain": [
       "mappingproxy({'__module__': 'pandas.core.frame',\n",
       "              '__annotations__': {'_accessors': 'set[str]',\n",
       "               '_hidden_attrs': 'frozenset[str]',\n",
       "               '_mgr': 'BlockManager | ArrayManager',\n",
       "               '_constructor_sliced': 'Callable[..., Series]',\n",
       "               '_AXIS_ORDERS': \"list[Literal['index', 'columns']]\",\n",
       "               '_AXIS_TO_AXIS_NUMBER': 'dict[Axis, int]',\n",
       "               '_info_axis_number': 'Literal[1]',\n",
       "               '_info_axis_name': \"Literal['columns']\"},\n",
       "              '__doc__': '\\n    Two-dimensional, size-mutable, potentially heterogeneous tabular data.\\n\\n    Data structure also contains labeled axes (rows and columns).\\n    Arithmetic operations align on both row and column labels. Can be\\n    thought of as a dict-like container for Series objects. The primary\\n    pandas data structure.\\n\\n    Parameters\\n    ----------\\n    data : ndarray (structured or homogeneous), Iterable, dict, or DataFrame\\n        Dict can contain Series, arrays, constants, dataclass or list-like objects. If\\n        data is a dict, column order follows insertion-order. If a dict contains Series\\n        which have an index defined, it is aligned by its index. This alignment also\\n        occurs if data is a Series or a DataFrame itself. Alignment is done on\\n        Series/DataFrame inputs.\\n\\n        If data is a list of dicts, column order follows insertion-order.\\n\\n    index : Index or array-like\\n        Index to use for resulting frame. Will default to RangeIndex if\\n        no indexing information part of input data and no index provided.\\n    columns : Index or array-like\\n        Column labels to use for resulting frame when data does not have them,\\n        defaulting to RangeIndex(0, 1, 2, ..., n). If data contains column labels,\\n        will perform column selection instead.\\n    dtype : dtype, default None\\n        Data type to force. Only a single dtype is allowed. If None, infer.\\n    copy : bool or None, default None\\n        Copy data from inputs.\\n        For dict data, the default of None behaves like ``copy=True``.  For DataFrame\\n        or 2d ndarray input, the default of None behaves like ``copy=False``.\\n        If data is a dict containing one or more Series (possibly of different dtypes),\\n        ``copy=False`` will ensure that these inputs are not copied.\\n\\n        .. versionchanged:: 1.3.0\\n\\n    See Also\\n    --------\\n    DataFrame.from_records : Constructor from tuples, also record arrays.\\n    DataFrame.from_dict : From dicts of Series, arrays, or dicts.\\n    read_csv : Read a comma-separated values (csv) file into DataFrame.\\n    read_table : Read general delimited file into DataFrame.\\n    read_clipboard : Read text from clipboard into DataFrame.\\n\\n    Notes\\n    -----\\n    Please reference the :ref:`User Guide <basics.dataframe>` for more information.\\n\\n    Examples\\n    --------\\n    Constructing DataFrame from a dictionary.\\n\\n    >>> d = {\\'col1\\': [1, 2], \\'col2\\': [3, 4]}\\n    >>> df = pd.DataFrame(data=d)\\n    >>> df\\n       col1  col2\\n    0     1     3\\n    1     2     4\\n\\n    Notice that the inferred dtype is int64.\\n\\n    >>> df.dtypes\\n    col1    int64\\n    col2    int64\\n    dtype: object\\n\\n    To enforce a single dtype:\\n\\n    >>> df = pd.DataFrame(data=d, dtype=np.int8)\\n    >>> df.dtypes\\n    col1    int8\\n    col2    int8\\n    dtype: object\\n\\n    Constructing DataFrame from a dictionary including Series:\\n\\n    >>> d = {\\'col1\\': [0, 1, 2, 3], \\'col2\\': pd.Series([2, 3], index=[2, 3])}\\n    >>> pd.DataFrame(data=d, index=[0, 1, 2, 3])\\n       col1  col2\\n    0     0   NaN\\n    1     1   NaN\\n    2     2   2.0\\n    3     3   3.0\\n\\n    Constructing DataFrame from numpy ndarray:\\n\\n    >>> df2 = pd.DataFrame(np.array([[1, 2, 3], [4, 5, 6], [7, 8, 9]]),\\n    ...                    columns=[\\'a\\', \\'b\\', \\'c\\'])\\n    >>> df2\\n       a  b  c\\n    0  1  2  3\\n    1  4  5  6\\n    2  7  8  9\\n\\n    Constructing DataFrame from a numpy ndarray that has labeled columns:\\n\\n    >>> data = np.array([(1, 2, 3), (4, 5, 6), (7, 8, 9)],\\n    ...                 dtype=[(\"a\", \"i4\"), (\"b\", \"i4\"), (\"c\", \"i4\")])\\n    >>> df3 = pd.DataFrame(data, columns=[\\'c\\', \\'a\\'])\\n    ...\\n    >>> df3\\n       c  a\\n    0  3  1\\n    1  6  4\\n    2  9  7\\n\\n    Constructing DataFrame from dataclass:\\n\\n    >>> from dataclasses import make_dataclass\\n    >>> Point = make_dataclass(\"Point\", [(\"x\", int), (\"y\", int)])\\n    >>> pd.DataFrame([Point(0, 0), Point(0, 3), Point(2, 3)])\\n       x  y\\n    0  0  0\\n    1  0  3\\n    2  2  3\\n\\n    Constructing DataFrame from Series/DataFrame:\\n\\n    >>> ser = pd.Series([1, 2, 3], index=[\"a\", \"b\", \"c\"])\\n    >>> df = pd.DataFrame(data=ser, index=[\"a\", \"c\"])\\n    >>> df\\n       0\\n    a  1\\n    c  3\\n\\n    >>> df1 = pd.DataFrame([1, 2, 3], index=[\"a\", \"b\", \"c\"], columns=[\"x\"])\\n    >>> df2 = pd.DataFrame(data=df1, index=[\"a\", \"c\"])\\n    >>> df2\\n       x\\n    a  1\\n    c  3\\n    ',\n",
       "              '_internal_names_set': {'__array_interface__',\n",
       "               '__array_struct__',\n",
       "               '_cache',\n",
       "               '_cacher',\n",
       "               '_default_fill_value',\n",
       "               '_default_kind',\n",
       "               '_flags',\n",
       "               '_is_copy',\n",
       "               '_item_cache',\n",
       "               '_metadata',\n",
       "               '_mgr',\n",
       "               '_name',\n",
       "               '_subtyp',\n",
       "               'columns',\n",
       "               'index'},\n",
       "              '_typ': 'dataframe',\n",
       "              '_HANDLED_TYPES': (pandas.core.series.Series,\n",
       "               pandas.core.indexes.base.Index,\n",
       "               pandas.core.arrays.base.ExtensionArray,\n",
       "               numpy.ndarray),\n",
       "              '_accessors': {'sparse'},\n",
       "              '_hidden_attrs': frozenset(),\n",
       "              '_constructor': <property at 0x1da8105d3a0>,\n",
       "              '_constructor_sliced': pandas.core.series.Series,\n",
       "              '__init__': <function pandas.core.frame.DataFrame.__init__(self, data=None, index: 'Axes | None' = None, columns: 'Axes | None' = None, dtype: 'Dtype | None' = None, copy: 'bool | None' = None) -> 'None'>,\n",
       "              '__dataframe__': <function pandas.core.frame.DataFrame.__dataframe__(self, nan_as_null: 'bool' = False, allow_copy: 'bool' = True) -> 'DataFrameXchg'>,\n",
       "              'axes': <property at 0x1da810a5fd0>,\n",
       "              'shape': <property at 0x1da80e8a250>,\n",
       "              '_is_homogeneous_type': <property at 0x1da813f9f80>,\n",
       "              '_can_fast_transpose': <property at 0x1da803f2e30>,\n",
       "              '_values': <property at 0x1dafd8f67a0>,\n",
       "              '_repr_fits_vertical_': <function pandas.core.frame.DataFrame._repr_fits_vertical_(self) -> 'bool'>,\n",
       "              '_repr_fits_horizontal_': <function pandas.core.frame.DataFrame._repr_fits_horizontal_(self, ignore_width: 'bool' = False) -> 'bool'>,\n",
       "              '_info_repr': <function pandas.core.frame.DataFrame._info_repr(self) -> 'bool'>,\n",
       "              '__repr__': <function pandas.core.frame.DataFrame.__repr__(self) -> 'str'>,\n",
       "              '_repr_html_': <function pandas.core.frame.DataFrame._repr_html_(self) -> 'str | None'>,\n",
       "              'to_string': <function pandas.core.frame.DataFrame.to_string(self, buf: 'FilePath | WriteBuffer[str] | None' = None, columns: 'Sequence[str] | None' = None, col_space: 'int | list[int] | dict[Hashable, int] | None' = None, header: 'bool | Sequence[str]' = True, index: 'bool' = True, na_rep: 'str' = 'NaN', formatters: 'fmt.FormattersType | None' = None, float_format: 'fmt.FloatFormatType | None' = None, sparsify: 'bool | None' = None, index_names: 'bool' = True, justify: 'str | None' = None, max_rows: 'int | None' = None, max_cols: 'int | None' = None, show_dimensions: 'bool' = False, decimal: 'str' = '.', line_width: 'int | None' = None, min_rows: 'int | None' = None, max_colwidth: 'int | None' = None, encoding: 'str | None' = None) -> 'str | None'>,\n",
       "              'style': <property at 0x1da803d6930>,\n",
       "              'items': <function pandas.core.frame.DataFrame.items(self) -> 'Iterable[tuple[Hashable, Series]]'>,\n",
       "              'iterrows': <function pandas.core.frame.DataFrame.iterrows(self) -> 'Iterable[tuple[Hashable, Series]]'>,\n",
       "              'itertuples': <function pandas.core.frame.DataFrame.itertuples(self, index: 'bool' = True, name: 'str | None' = 'Pandas') -> 'Iterable[tuple[Any, ...]]'>,\n",
       "              '__len__': <function pandas.core.frame.DataFrame.__len__(self) -> 'int'>,\n",
       "              'dot': <function pandas.core.frame.DataFrame.dot(self, other: 'AnyArrayLike | DataFrame') -> 'DataFrame | Series'>,\n",
       "              '__matmul__': <function pandas.core.frame.DataFrame.__matmul__(self, other: 'AnyArrayLike | DataFrame') -> 'DataFrame | Series'>,\n",
       "              '__rmatmul__': <function pandas.core.frame.DataFrame.__rmatmul__(self, other) -> 'DataFrame'>,\n",
       "              'from_dict': <classmethod(<function DataFrame.from_dict at 0x000001DA814D02C0>)>,\n",
       "              'to_numpy': <function pandas.core.frame.DataFrame.to_numpy(self, dtype: 'npt.DTypeLike | None' = None, copy: 'bool' = False, na_value: 'object' = <no_default>) -> 'np.ndarray'>,\n",
       "              '_create_data_for_split_and_tight_to_dict': <function pandas.core.frame.DataFrame._create_data_for_split_and_tight_to_dict(self, are_all_object_dtype_cols: 'bool', object_dtype_indices: 'list[int]') -> 'list'>,\n",
       "              'to_dict': <function pandas.core.frame.DataFrame.to_dict(self, orient: \"Literal['dict', 'list', 'series', 'split', 'tight', 'records', 'index']\" = 'dict', into: 'type[dict]' = <class 'dict'>, index: 'bool' = True) -> 'dict | list[dict]'>,\n",
       "              'to_gbq': <function pandas.core.frame.DataFrame.to_gbq(self, destination_table: 'str', project_id: 'str | None' = None, chunksize: 'int | None' = None, reauth: 'bool' = False, if_exists: 'str' = 'fail', auth_local_webserver: 'bool' = True, table_schema: 'list[dict[str, str]] | None' = None, location: 'str | None' = None, progress_bar: 'bool' = True, credentials=None) -> 'None'>,\n",
       "              'from_records': <classmethod(<function DataFrame.from_records at 0x000001DA814D07C0>)>,\n",
       "              'to_records': <function pandas.core.frame.DataFrame.to_records(self, index: 'bool' = True, column_dtypes=None, index_dtypes=None) -> 'np.recarray'>,\n",
       "              '_from_arrays': <classmethod(<function DataFrame._from_arrays at 0x000001DA814D0900>)>,\n",
       "              'to_stata': <function pandas.core.frame.DataFrame.to_stata(self, path: 'FilePath | WriteBuffer[bytes]', *, convert_dates: 'dict[Hashable, str] | None' = None, write_index: 'bool' = True, byteorder: 'str | None' = None, time_stamp: 'datetime.datetime | None' = None, data_label: 'str | None' = None, variable_labels: 'dict[Hashable, str] | None' = None, version: 'int | None' = 114, convert_strl: 'Sequence[Hashable] | None' = None, compression: 'CompressionOptions' = 'infer', storage_options: 'StorageOptions' = None, value_labels: 'dict[Hashable, dict[float, str]] | None' = None) -> 'None'>,\n",
       "              'to_feather': <function pandas.core.frame.DataFrame.to_feather(self, path: 'FilePath | WriteBuffer[bytes]', **kwargs) -> 'None'>,\n",
       "              'to_markdown': <function pandas.core.frame.DataFrame.to_markdown(self, buf: 'FilePath | WriteBuffer[str] | None' = None, mode: 'str' = 'wt', index: 'bool' = True, storage_options: 'StorageOptions' = None, **kwargs) -> 'str | None'>,\n",
       "              'to_parquet': <function pandas.core.frame.DataFrame.to_parquet(self, path: 'FilePath | WriteBuffer[bytes] | None' = None, engine: 'str' = 'auto', compression: 'str | None' = 'snappy', index: 'bool | None' = None, partition_cols: 'list[str] | None' = None, storage_options: 'StorageOptions' = None, **kwargs) -> 'bytes | None'>,\n",
       "              'to_orc': <function pandas.core.frame.DataFrame.to_orc(self, path: 'FilePath | WriteBuffer[bytes] | None' = None, *, engine: \"Literal['pyarrow']\" = 'pyarrow', index: 'bool | None' = None, engine_kwargs: 'dict[str, Any] | None' = None) -> 'bytes | None'>,\n",
       "              'to_html': <function pandas.core.frame.DataFrame.to_html(self, buf: 'FilePath | WriteBuffer[str] | None' = None, columns: 'Sequence[Level] | None' = None, col_space: 'ColspaceArgType | None' = None, header: 'bool | Sequence[str]' = True, index: 'bool' = True, na_rep: 'str' = 'NaN', formatters: 'FormattersType | None' = None, float_format: 'FloatFormatType | None' = None, sparsify: 'bool | None' = None, index_names: 'bool' = True, justify: 'str | None' = None, max_rows: 'int | None' = None, max_cols: 'int | None' = None, show_dimensions: 'bool | str' = False, decimal: 'str' = '.', bold_rows: 'bool' = True, classes: 'str | list | tuple | None' = None, escape: 'bool' = True, notebook: 'bool' = False, border: 'int | bool | None' = None, table_id: 'str | None' = None, render_links: 'bool' = False, encoding: 'str | None' = None) -> 'str | None'>,\n",
       "              'to_xml': <function pandas.core.frame.DataFrame.to_xml(self, path_or_buffer: 'FilePath | WriteBuffer[bytes] | WriteBuffer[str] | None' = None, index: 'bool' = True, root_name: 'str | None' = 'data', row_name: 'str | None' = 'row', na_rep: 'str | None' = None, attr_cols: 'list[str] | None' = None, elem_cols: 'list[str] | None' = None, namespaces: 'dict[str | None, str] | None' = None, prefix: 'str | None' = None, encoding: 'str' = 'utf-8', xml_declaration: 'bool | None' = True, pretty_print: 'bool | None' = True, parser: 'str | None' = 'lxml', stylesheet: 'FilePath | ReadBuffer[str] | ReadBuffer[bytes] | None' = None, compression: 'CompressionOptions' = 'infer', storage_options: 'StorageOptions' = None) -> 'str | None'>,\n",
       "              'info': <function pandas.core.frame.DataFrame.info(self, verbose: 'bool | None' = None, buf: 'WriteBuffer[str] | None' = None, max_cols: 'int | None' = None, memory_usage: 'bool | str | None' = None, show_counts: 'bool | None' = None) -> 'None'>,\n",
       "              'memory_usage': <function pandas.core.frame.DataFrame.memory_usage(self, index: 'bool' = True, deep: 'bool' = False) -> 'Series'>,\n",
       "              'transpose': <function pandas.core.frame.DataFrame.transpose(self, *args, copy: 'bool' = False) -> 'DataFrame'>,\n",
       "              'T': <property at 0x1da8044da30>,\n",
       "              '_ixs': <function pandas.core.frame.DataFrame._ixs(self, i: 'int', axis: 'AxisInt' = 0) -> 'Series'>,\n",
       "              '_get_column_array': <function pandas.core.frame.DataFrame._get_column_array(self, i: 'int') -> 'ArrayLike'>,\n",
       "              '_iter_column_arrays': <function pandas.core.frame.DataFrame._iter_column_arrays(self) -> 'Iterator[ArrayLike]'>,\n",
       "              '_getitem_nocopy': <function pandas.core.frame.DataFrame._getitem_nocopy(self, key: 'list')>,\n",
       "              '__getitem__': <function pandas.core.frame.DataFrame.__getitem__(self, key)>,\n",
       "              '_getitem_bool_array': <function pandas.core.frame.DataFrame._getitem_bool_array(self, key)>,\n",
       "              '_getitem_multilevel': <function pandas.core.frame.DataFrame._getitem_multilevel(self, key)>,\n",
       "              '_get_value': <function pandas.core.frame.DataFrame._get_value(self, index, col, takeable: 'bool' = False) -> 'Scalar'>,\n",
       "              'isetitem': <function pandas.core.frame.DataFrame.isetitem(self, loc, value) -> 'None'>,\n",
       "              '__setitem__': <function pandas.core.frame.DataFrame.__setitem__(self, key, value)>,\n",
       "              '_setitem_slice': <function pandas.core.frame.DataFrame._setitem_slice(self, key: 'slice', value) -> 'None'>,\n",
       "              '_setitem_array': <function pandas.core.frame.DataFrame._setitem_array(self, key, value)>,\n",
       "              '_iset_not_inplace': <function pandas.core.frame.DataFrame._iset_not_inplace(self, key, value)>,\n",
       "              '_setitem_frame': <function pandas.core.frame.DataFrame._setitem_frame(self, key, value)>,\n",
       "              '_set_item_frame_value': <function pandas.core.frame.DataFrame._set_item_frame_value(self, key, value: 'DataFrame') -> 'None'>,\n",
       "              '_iset_item_mgr': <function pandas.core.frame.DataFrame._iset_item_mgr(self, loc: 'int | slice | np.ndarray', value, inplace: 'bool' = False) -> 'None'>,\n",
       "              '_set_item_mgr': <function pandas.core.frame.DataFrame._set_item_mgr(self, key, value: 'ArrayLike') -> 'None'>,\n",
       "              '_iset_item': <function pandas.core.frame.DataFrame._iset_item(self, loc: 'int', value) -> 'None'>,\n",
       "              '_set_item': <function pandas.core.frame.DataFrame._set_item(self, key, value) -> 'None'>,\n",
       "              '_set_value': <function pandas.core.frame.DataFrame._set_value(self, index: 'IndexLabel', col, value: 'Scalar', takeable: 'bool' = False) -> 'None'>,\n",
       "              '_ensure_valid_index': <function pandas.core.frame.DataFrame._ensure_valid_index(self, value) -> 'None'>,\n",
       "              '_box_col_values': <function pandas.core.frame.DataFrame._box_col_values(self, values: 'SingleDataManager', loc: 'int') -> 'Series'>,\n",
       "              '_clear_item_cache': <function pandas.core.frame.DataFrame._clear_item_cache(self) -> 'None'>,\n",
       "              '_get_item_cache': <function pandas.core.frame.DataFrame._get_item_cache(self, item: 'Hashable') -> 'Series'>,\n",
       "              '_reset_cacher': <function pandas.core.frame.DataFrame._reset_cacher(self) -> 'None'>,\n",
       "              '_maybe_cache_changed': <function pandas.core.frame.DataFrame._maybe_cache_changed(self, item, value: 'Series', inplace: 'bool') -> 'None'>,\n",
       "              'query': <function pandas.core.frame.DataFrame.query(self, expr: 'str', *, inplace: 'bool' = False, **kwargs) -> 'DataFrame | None'>,\n",
       "              'eval': <function pandas.core.frame.DataFrame.eval(self, expr: 'str', *, inplace: 'bool' = False, **kwargs) -> 'Any | None'>,\n",
       "              'select_dtypes': <function pandas.core.frame.DataFrame.select_dtypes(self, include=None, exclude=None) -> 'DataFrame'>,\n",
       "              'insert': <function pandas.core.frame.DataFrame.insert(self, loc: 'int', column: 'Hashable', value: 'Scalar | AnyArrayLike', allow_duplicates: 'bool | lib.NoDefault' = <no_default>) -> 'None'>,\n",
       "              'assign': <function pandas.core.frame.DataFrame.assign(self, **kwargs) -> 'DataFrame'>,\n",
       "              '_sanitize_column': <function pandas.core.frame.DataFrame._sanitize_column(self, value) -> 'ArrayLike'>,\n",
       "              '_series': <property at 0x1dafda06e80>,\n",
       "              '_reindex_axes': <function pandas.core.frame.DataFrame._reindex_axes(self, axes, level, limit, tolerance, method, fill_value, copy)>,\n",
       "              '_reindex_index': <function pandas.core.frame.DataFrame._reindex_index(self, new_index, method, copy: 'bool', level: 'Level', fill_value=nan, limit=None, tolerance=None)>,\n",
       "              '_reindex_columns': <function pandas.core.frame.DataFrame._reindex_columns(self, new_columns, method, copy: 'bool', level: 'Level', fill_value=None, limit=None, tolerance=None)>,\n",
       "              '_reindex_multi': <function pandas.core.frame.DataFrame._reindex_multi(self, axes: 'dict[str, Index]', copy: 'bool', fill_value) -> 'DataFrame'>,\n",
       "              'align': <function pandas.core.frame.DataFrame.align(self, other: 'DataFrame', join: 'AlignJoin' = 'outer', axis: 'Axis | None' = None, level: 'Level' = None, copy: 'bool | None' = None, fill_value=None, method: 'FillnaOptions | None' = None, limit: 'int | None' = None, fill_axis: 'Axis' = 0, broadcast_axis: 'Axis | None' = None) -> 'DataFrame'>,\n",
       "              'set_axis': <function pandas.core.frame.DataFrame.set_axis(self, labels, *, axis: 'Axis' = 0, copy: 'bool | None' = None) -> 'DataFrame'>,\n",
       "              'reindex': <function pandas.core.frame.DataFrame.reindex(self, labels=None, *, index=None, columns=None, axis: 'Axis | None' = None, method: 'str | None' = None, copy: 'bool | None' = None, level: 'Level | None' = None, fill_value: 'Scalar | None' = nan, limit: 'int | None' = None, tolerance=None) -> 'DataFrame'>,\n",
       "              'drop': <function pandas.core.frame.DataFrame.drop(self, labels: 'IndexLabel' = None, *, axis: 'Axis' = 0, index: 'IndexLabel' = None, columns: 'IndexLabel' = None, level: 'Level' = None, inplace: 'bool' = False, errors: 'IgnoreRaise' = 'raise') -> 'DataFrame | None'>,\n",
       "              'rename': <function pandas.core.frame.DataFrame.rename(self, mapper: 'Renamer | None' = None, *, index: 'Renamer | None' = None, columns: 'Renamer | None' = None, axis: 'Axis | None' = None, copy: 'bool | None' = None, inplace: 'bool' = False, level: 'Level' = None, errors: 'IgnoreRaise' = 'ignore') -> 'DataFrame | None'>,\n",
       "              'fillna': <function pandas.core.frame.DataFrame.fillna(self, value: 'Hashable | Mapping | Series | DataFrame' = None, *, method: 'FillnaOptions | None' = None, axis: 'Axis | None' = None, inplace: 'bool' = False, limit: 'int | None' = None, downcast: 'dict | None' = None) -> 'DataFrame | None'>,\n",
       "              'pop': <function pandas.core.frame.DataFrame.pop(self, item: 'Hashable') -> 'Series'>,\n",
       "              'replace': <function pandas.core.frame.DataFrame.replace(self, to_replace=None, value=<no_default>, *, inplace: 'bool' = False, limit: 'int | None' = None, regex: 'bool' = False, method: \"Literal['pad', 'ffill', 'bfill'] | lib.NoDefault\" = <no_default>) -> 'DataFrame | None'>,\n",
       "              '_replace_columnwise': <function pandas.core.frame.DataFrame._replace_columnwise(self, mapping: 'dict[Hashable, tuple[Any, Any]]', inplace: 'bool', regex)>,\n",
       "              'shift': <function pandas.core.frame.DataFrame.shift(self, periods: 'int' = 1, freq: 'Frequency | None' = None, axis: 'Axis' = 0, fill_value: 'Hashable' = <no_default>) -> 'DataFrame'>,\n",
       "              'set_index': <function pandas.core.frame.DataFrame.set_index(self, keys, *, drop: 'bool' = True, append: 'bool' = False, inplace: 'bool' = False, verify_integrity: 'bool' = False) -> 'DataFrame | None'>,\n",
       "              'reset_index': <function pandas.core.frame.DataFrame.reset_index(self, level: 'IndexLabel' = None, *, drop: 'bool' = False, inplace: 'bool' = False, col_level: 'Hashable' = 0, col_fill: 'Hashable' = '', allow_duplicates: 'bool | lib.NoDefault' = <no_default>, names: 'Hashable | Sequence[Hashable]' = None) -> 'DataFrame | None'>,\n",
       "              'isna': <function pandas.core.frame.DataFrame.isna(self) -> 'DataFrame'>,\n",
       "              'isnull': <function pandas.core.frame.DataFrame.isnull(self) -> 'DataFrame'>,\n",
       "              'notna': <function pandas.core.frame.DataFrame.notna(self) -> 'DataFrame'>,\n",
       "              'notnull': <function pandas.core.frame.DataFrame.notnull(self) -> 'DataFrame'>,\n",
       "              'dropna': <function pandas.core.frame.DataFrame.dropna(self, *, axis: 'Axis' = 0, how: 'AnyAll | NoDefault' = <no_default>, thresh: 'int | NoDefault' = <no_default>, subset: 'IndexLabel' = None, inplace: 'bool' = False, ignore_index: 'bool' = False) -> 'DataFrame | None'>,\n",
       "              'drop_duplicates': <function pandas.core.frame.DataFrame.drop_duplicates(self, subset: 'Hashable | Sequence[Hashable] | None' = None, *, keep: 'DropKeep' = 'first', inplace: 'bool' = False, ignore_index: 'bool' = False) -> 'DataFrame | None'>,\n",
       "              'duplicated': <function pandas.core.frame.DataFrame.duplicated(self, subset: 'Hashable | Sequence[Hashable] | None' = None, keep: 'DropKeep' = 'first') -> 'Series'>,\n",
       "              'sort_values': <function pandas.core.frame.DataFrame.sort_values(self, by: 'IndexLabel', *, axis: 'Axis' = 0, ascending: 'bool | list[bool] | tuple[bool, ...]' = True, inplace: 'bool' = False, kind: 'str' = 'quicksort', na_position: 'str' = 'last', ignore_index: 'bool' = False, key: 'ValueKeyFunc' = None) -> 'DataFrame | None'>,\n",
       "              'sort_index': <function pandas.core.frame.DataFrame.sort_index(self, *, axis: 'Axis' = 0, level: 'IndexLabel' = None, ascending: 'bool | Sequence[bool]' = True, inplace: 'bool' = False, kind: 'SortKind' = 'quicksort', na_position: 'NaPosition' = 'last', sort_remaining: 'bool' = True, ignore_index: 'bool' = False, key: 'IndexKeyFunc' = None) -> 'DataFrame | None'>,\n",
       "              'value_counts': <function pandas.core.frame.DataFrame.value_counts(self, subset: 'Sequence[Hashable] | None' = None, normalize: 'bool' = False, sort: 'bool' = True, ascending: 'bool' = False, dropna: 'bool' = True) -> 'Series'>,\n",
       "              'nlargest': <function pandas.core.frame.DataFrame.nlargest(self, n: 'int', columns: 'IndexLabel', keep: 'str' = 'first') -> 'DataFrame'>,\n",
       "              'nsmallest': <function pandas.core.frame.DataFrame.nsmallest(self, n: 'int', columns: 'IndexLabel', keep: 'str' = 'first') -> 'DataFrame'>,\n",
       "              'swaplevel': <function pandas.core.frame.DataFrame.swaplevel(self, i: 'Axis' = -2, j: 'Axis' = -1, axis: 'Axis' = 0) -> 'DataFrame'>,\n",
       "              'reorder_levels': <function pandas.core.frame.DataFrame.reorder_levels(self, order: 'Sequence[int | str]', axis: 'Axis' = 0) -> 'DataFrame'>,\n",
       "              '_cmp_method': <function pandas.core.frame.DataFrame._cmp_method(self, other, op)>,\n",
       "              '_arith_method': <function pandas.core.frame.DataFrame._arith_method(self, other, op)>,\n",
       "              '_logical_method': <function pandas.core.frame.DataFrame._arith_method(self, other, op)>,\n",
       "              '_dispatch_frame_op': <function pandas.core.frame.DataFrame._dispatch_frame_op(self, right, func: 'Callable', axis: 'AxisInt | None' = None)>,\n",
       "              '_combine_frame': <function pandas.core.frame.DataFrame._combine_frame(self, other: 'DataFrame', func, fill_value=None)>,\n",
       "              '_construct_result': <function pandas.core.frame.DataFrame._construct_result(self, result) -> 'DataFrame'>,\n",
       "              '__divmod__': <function pandas.core.frame.DataFrame.__divmod__(self, other) -> 'tuple[DataFrame, DataFrame]'>,\n",
       "              '__rdivmod__': <function pandas.core.frame.DataFrame.__rdivmod__(self, other) -> 'tuple[DataFrame, DataFrame]'>,\n",
       "              'compare': <function pandas.core.frame.DataFrame.compare(self, other: 'DataFrame', align_axis: 'Axis' = 1, keep_shape: 'bool' = False, keep_equal: 'bool' = False, result_names: 'Suffixes' = ('self', 'other')) -> 'DataFrame'>,\n",
       "              'combine': <function pandas.core.frame.DataFrame.combine(self, other: 'DataFrame', func: 'Callable[[Series, Series], Series | Hashable]', fill_value=None, overwrite: 'bool' = True) -> 'DataFrame'>,\n",
       "              'combine_first': <function pandas.core.frame.DataFrame.combine_first(self, other: 'DataFrame') -> 'DataFrame'>,\n",
       "              'update': <function pandas.core.frame.DataFrame.update(self, other, join: 'str' = 'left', overwrite: 'bool' = True, filter_func=None, errors: 'str' = 'ignore') -> 'None'>,\n",
       "              'groupby': <function pandas.core.frame.DataFrame.groupby(self, by=None, axis: 'Axis' = 0, level: 'IndexLabel | None' = None, as_index: 'bool' = True, sort: 'bool' = True, group_keys: 'bool' = True, observed: 'bool' = False, dropna: 'bool' = True) -> 'DataFrameGroupBy'>,\n",
       "              'pivot': <function pandas.core.frame.DataFrame.pivot(self, *, columns, index=typing.Literal[<no_default>], values=typing.Literal[<no_default>]) -> 'DataFrame'>,\n",
       "              'pivot_table': <function pandas.core.frame.DataFrame.pivot_table(self, values=None, index=None, columns=None, aggfunc: 'AggFuncType' = 'mean', fill_value=None, margins: 'bool' = False, dropna: 'bool' = True, margins_name: 'Level' = 'All', observed: 'bool' = False, sort: 'bool' = True) -> 'DataFrame'>,\n",
       "              'stack': <function pandas.core.frame.DataFrame.stack(self, level: 'Level' = -1, dropna: 'bool' = True)>,\n",
       "              'explode': <function pandas.core.frame.DataFrame.explode(self, column: 'IndexLabel', ignore_index: 'bool' = False) -> 'DataFrame'>,\n",
       "              'unstack': <function pandas.core.frame.DataFrame.unstack(self, level: 'Level' = -1, fill_value=None)>,\n",
       "              'melt': <function pandas.core.frame.DataFrame.melt(self, id_vars=None, value_vars=None, var_name=None, value_name: 'Hashable' = 'value', col_level: 'Level' = None, ignore_index: 'bool' = True) -> 'DataFrame'>,\n",
       "              'diff': <function pandas.core.frame.DataFrame.diff(self, periods: 'int' = 1, axis: 'Axis' = 0) -> 'DataFrame'>,\n",
       "              '_gotitem': <function pandas.core.frame.DataFrame._gotitem(self, key: 'IndexLabel', ndim: 'int', subset: 'DataFrame | Series | None' = None) -> 'DataFrame | Series'>,\n",
       "              '_agg_summary_and_see_also_doc': '\\nThe aggregation operations are always performed over an axis, either the\\nindex (default) or the column axis. This behavior is different from\\n`numpy` aggregation functions (`mean`, `median`, `prod`, `sum`, `std`,\\n`var`), where the default is to compute the aggregation of the flattened\\narray, e.g., ``numpy.mean(arr_2d)`` as opposed to\\n``numpy.mean(arr_2d, axis=0)``.\\n\\n`agg` is an alias for `aggregate`. Use the alias.\\n\\nSee Also\\n--------\\nDataFrame.apply : Perform any type of operations.\\nDataFrame.transform : Perform transformation type operations.\\ncore.groupby.GroupBy : Perform operations over groups.\\ncore.resample.Resampler : Perform operations over resampled bins.\\ncore.window.Rolling : Perform operations over rolling window.\\ncore.window.Expanding : Perform operations over expanding window.\\ncore.window.ExponentialMovingWindow : Perform operation over exponential weighted\\n    window.\\n',\n",
       "              '_agg_examples_doc': '\\nExamples\\n--------\\n>>> df = pd.DataFrame([[1, 2, 3],\\n...                    [4, 5, 6],\\n...                    [7, 8, 9],\\n...                    [np.nan, np.nan, np.nan]],\\n...                   columns=[\\'A\\', \\'B\\', \\'C\\'])\\n\\nAggregate these functions over the rows.\\n\\n>>> df.agg([\\'sum\\', \\'min\\'])\\n        A     B     C\\nsum  12.0  15.0  18.0\\nmin   1.0   2.0   3.0\\n\\nDifferent aggregations per column.\\n\\n>>> df.agg({\\'A\\' : [\\'sum\\', \\'min\\'], \\'B\\' : [\\'min\\', \\'max\\']})\\n        A    B\\nsum  12.0  NaN\\nmin   1.0  2.0\\nmax   NaN  8.0\\n\\nAggregate different functions over the columns and rename the index of the resulting\\nDataFrame.\\n\\n>>> df.agg(x=(\\'A\\', max), y=(\\'B\\', \\'min\\'), z=(\\'C\\', np.mean))\\n     A    B    C\\nx  7.0  NaN  NaN\\ny  NaN  2.0  NaN\\nz  NaN  NaN  6.0\\n\\nAggregate over the columns.\\n\\n>>> df.agg(\"mean\", axis=\"columns\")\\n0    2.0\\n1    5.0\\n2    8.0\\n3    NaN\\ndtype: float64\\n',\n",
       "              'aggregate': <function pandas.core.frame.DataFrame.aggregate(self, func=None, axis: 'Axis' = 0, *args, **kwargs)>,\n",
       "              'agg': <function pandas.core.frame.DataFrame.aggregate(self, func=None, axis: 'Axis' = 0, *args, **kwargs)>,\n",
       "              'any': <function pandas.core.generic.NDFrame._add_numeric_operations.<locals>.any(self, *, axis: 'Axis' = 0, bool_only=None, skipna: 'bool_t' = True, **kwargs)>,\n",
       "              'transform': <function pandas.core.frame.DataFrame.transform(self, func: 'AggFuncType', axis: 'Axis' = 0, *args, **kwargs) -> 'DataFrame'>,\n",
       "              'apply': <function pandas.core.frame.DataFrame.apply(self, func: 'AggFuncType', axis: 'Axis' = 0, raw: 'bool' = False, result_type: \"Literal['expand', 'reduce', 'broadcast'] | None\" = None, args=(), **kwargs)>,\n",
       "              'applymap': <function pandas.core.frame.DataFrame.applymap(self, func: 'PythonFuncType', na_action: 'str | None' = None, **kwargs) -> 'DataFrame'>,\n",
       "              '_append': <function pandas.core.frame.DataFrame._append(self, other, ignore_index: 'bool' = False, verify_integrity: 'bool' = False, sort: 'bool' = False) -> 'DataFrame'>,\n",
       "              'join': <function pandas.core.frame.DataFrame.join(self, other: 'DataFrame | Series | Iterable[DataFrame | Series]', on: 'IndexLabel | None' = None, how: 'MergeHow' = 'left', lsuffix: 'str' = '', rsuffix: 'str' = '', sort: 'bool' = False, validate: 'str | None' = None) -> 'DataFrame'>,\n",
       "              '_join_compat': <function pandas.core.frame.DataFrame._join_compat(self, other: 'DataFrame | Series | Iterable[DataFrame | Series]', on: 'IndexLabel | None' = None, how: 'MergeHow' = 'left', lsuffix: 'str' = '', rsuffix: 'str' = '', sort: 'bool' = False, validate: 'str | None' = None)>,\n",
       "              'merge': <function pandas.core.frame.DataFrame.merge(self, right: 'DataFrame | Series', how: 'MergeHow' = 'inner', on: 'IndexLabel | None' = None, left_on: 'IndexLabel | None' = None, right_on: 'IndexLabel | None' = None, left_index: 'bool' = False, right_index: 'bool' = False, sort: 'bool' = False, suffixes: 'Suffixes' = ('_x', '_y'), copy: 'bool | None' = None, indicator: 'str | bool' = False, validate: 'str | None' = None) -> 'DataFrame'>,\n",
       "              'round': <function pandas.core.frame.DataFrame.round(self, decimals: 'int | dict[IndexLabel, int] | Series' = 0, *args, **kwargs) -> 'DataFrame'>,\n",
       "              'corr': <function pandas.core.frame.DataFrame.corr(self, method: 'CorrelationMethod' = 'pearson', min_periods: 'int' = 1, numeric_only: 'bool' = False) -> 'DataFrame'>,\n",
       "              'cov': <function pandas.core.frame.DataFrame.cov(self, min_periods: 'int | None' = None, ddof: 'int | None' = 1, numeric_only: 'bool' = False) -> 'DataFrame'>,\n",
       "              'corrwith': <function pandas.core.frame.DataFrame.corrwith(self, other: 'DataFrame | Series', axis: 'Axis' = 0, drop: 'bool' = False, method: 'CorrelationMethod' = 'pearson', numeric_only: 'bool' = False) -> 'Series'>,\n",
       "              'count': <function pandas.core.frame.DataFrame.count(self, axis: 'Axis' = 0, numeric_only: 'bool' = False)>,\n",
       "              '_reduce': <function pandas.core.frame.DataFrame._reduce(self, op, name: 'str', *, axis: 'Axis' = 0, skipna: 'bool' = True, numeric_only: 'bool' = False, filter_type=None, **kwds)>,\n",
       "              '_reduce_axis1': <function pandas.core.frame.DataFrame._reduce_axis1(self, name: 'str', func, skipna: 'bool') -> 'Series'>,\n",
       "              'nunique': <function pandas.core.frame.DataFrame.nunique(self, axis: 'Axis' = 0, dropna: 'bool' = True) -> 'Series'>,\n",
       "              'idxmin': <function pandas.core.frame.DataFrame.idxmin(self, axis: 'Axis' = 0, skipna: 'bool' = True, numeric_only: 'bool' = False) -> 'Series'>,\n",
       "              'idxmax': <function pandas.core.frame.DataFrame.idxmax(self, axis: 'Axis' = 0, skipna: 'bool' = True, numeric_only: 'bool' = False) -> 'Series'>,\n",
       "              '_get_agg_axis': <function pandas.core.frame.DataFrame._get_agg_axis(self, axis_num: 'int') -> 'Index'>,\n",
       "              'mode': <function pandas.core.frame.DataFrame.mode(self, axis: 'Axis' = 0, numeric_only: 'bool' = False, dropna: 'bool' = True) -> 'DataFrame'>,\n",
       "              'quantile': <function pandas.core.frame.DataFrame.quantile(self, q: 'float | AnyArrayLike | Sequence[float]' = 0.5, axis: 'Axis' = 0, numeric_only: 'bool' = False, interpolation: 'QuantileInterpolation' = 'linear', method: \"Literal['single', 'table']\" = 'single') -> 'Series | DataFrame'>,\n",
       "              'asfreq': <function pandas.core.frame.DataFrame.asfreq(self, freq: 'Frequency', method: 'FillnaOptions | None' = None, how: 'str | None' = None, normalize: 'bool' = False, fill_value: 'Hashable' = None) -> 'DataFrame'>,\n",
       "              'resample': <function pandas.core.frame.DataFrame.resample(self, rule, axis: 'Axis' = 0, closed: 'str | None' = None, label: 'str | None' = None, convention: 'str' = 'start', kind: 'str | None' = None, on: 'Level' = None, level: 'Level' = None, origin: 'str | TimestampConvertibleTypes' = 'start_day', offset: 'TimedeltaConvertibleTypes | None' = None, group_keys: 'bool' = False) -> 'Resampler'>,\n",
       "              'to_timestamp': <function pandas.core.frame.DataFrame.to_timestamp(self, freq: 'Frequency | None' = None, how: 'str' = 'start', axis: 'Axis' = 0, copy: 'bool | None' = None) -> 'DataFrame'>,\n",
       "              'to_period': <function pandas.core.frame.DataFrame.to_period(self, freq: 'Frequency | None' = None, axis: 'Axis' = 0, copy: 'bool | None' = None) -> 'DataFrame'>,\n",
       "              'isin': <function pandas.core.frame.DataFrame.isin(self, values: 'Series | DataFrame | Sequence | Mapping') -> 'DataFrame'>,\n",
       "              '_AXIS_ORDERS': ['index', 'columns'],\n",
       "              '_AXIS_TO_AXIS_NUMBER': {0: 0,\n",
       "               'index': 0,\n",
       "               'rows': 0,\n",
       "               1: 1,\n",
       "               'columns': 1},\n",
       "              '_AXIS_LEN': 2,\n",
       "              '_info_axis_number': 1,\n",
       "              '_info_axis_name': 'columns',\n",
       "              'index': <pandas._libs.properties.AxisProperty at 0x1da8147de40>,\n",
       "              'columns': <pandas._libs.properties.AxisProperty at 0x1da8147de70>,\n",
       "              'plot': <pandas.core.accessor.CachedAccessor at 0x1da8149d510>,\n",
       "              'hist': <function pandas.plotting._core.hist_frame(data: 'DataFrame', column: 'IndexLabel' = None, by=None, grid: 'bool' = True, xlabelsize: 'int | None' = None, xrot: 'float | None' = None, ylabelsize: 'int | None' = None, yrot: 'float | None' = None, ax=None, sharex: 'bool' = False, sharey: 'bool' = False, figsize: 'tuple[int, int] | None' = None, layout: 'tuple[int, int] | None' = None, bins: 'int | Sequence[int]' = 10, backend: 'str | None' = None, legend: 'bool' = False, **kwargs)>,\n",
       "              'boxplot': <function pandas.plotting._core.boxplot_frame(self, column=None, by=None, ax=None, fontsize=None, rot: 'int' = 0, grid: 'bool' = True, figsize=None, layout=None, return_type=None, backend=None, **kwargs)>,\n",
       "              'sparse': <pandas.core.accessor.CachedAccessor at 0x1da8149d550>,\n",
       "              '_to_dict_of_blocks': <function pandas.core.frame.DataFrame._to_dict_of_blocks(self, copy: 'bool' = True)>,\n",
       "              'values': <property at 0x1da8125e110>,\n",
       "              'ffill': <function pandas.core.frame.DataFrame.ffill(self, *, axis: 'None | Axis' = None, inplace: 'bool' = False, limit: 'None | int' = None, downcast: 'dict | None' = None) -> 'DataFrame | None'>,\n",
       "              'bfill': <function pandas.core.frame.DataFrame.bfill(self, *, axis: 'None | Axis' = None, inplace: 'bool' = False, limit: 'None | int' = None, downcast=None) -> 'DataFrame | None'>,\n",
       "              'clip': <function pandas.core.frame.DataFrame.clip(self: 'DataFrame', lower: 'float | None' = None, upper: 'float | None' = None, *, axis: 'Axis | None' = None, inplace: 'bool' = False, **kwargs) -> 'DataFrame | None'>,\n",
       "              'interpolate': <function pandas.core.frame.DataFrame.interpolate(self: 'DataFrame', method: 'str' = 'linear', *, axis: 'Axis' = 0, limit: 'int | None' = None, inplace: 'bool' = False, limit_direction: 'str | None' = None, limit_area: 'str | None' = None, downcast: 'str | None' = None, **kwargs) -> 'DataFrame | None'>,\n",
       "              'where': <function pandas.core.frame.DataFrame.where(self, cond, other=<no_default>, *, inplace: 'bool' = False, axis: 'Axis | None' = None, level: 'Level' = None) -> 'DataFrame | None'>,\n",
       "              'mask': <function pandas.core.frame.DataFrame.mask(self, cond, other=<no_default>, *, inplace: 'bool' = False, axis: 'Axis | None' = None, level: 'Level' = None) -> 'DataFrame | None'>,\n",
       "              'all': <function pandas.core.generic.NDFrame._add_numeric_operations.<locals>.all(self, axis: 'Axis' = 0, bool_only=None, skipna: 'bool_t' = True, **kwargs)>,\n",
       "              'sem': <function pandas.core.generic.NDFrame._add_numeric_operations.<locals>.sem(self, axis: 'Axis | None' = None, skipna: 'bool_t' = True, ddof: 'int' = 1, numeric_only: 'bool_t' = False, **kwargs)>,\n",
       "              'var': <function pandas.core.generic.NDFrame._add_numeric_operations.<locals>.var(self, axis: 'Axis | None' = None, skipna: 'bool_t' = True, ddof: 'int' = 1, numeric_only: 'bool_t' = False, **kwargs)>,\n",
       "              'std': <function pandas.core.generic.NDFrame._add_numeric_operations.<locals>.std(self, axis: 'Axis | None' = None, skipna: 'bool_t' = True, ddof: 'int' = 1, numeric_only: 'bool_t' = False, **kwargs)>,\n",
       "              'cummin': <function pandas.core.generic.NDFrame._add_numeric_operations.<locals>.cummin(self, axis: 'Axis | None' = None, skipna: 'bool_t' = True, *args, **kwargs)>,\n",
       "              'cummax': <function pandas.core.generic.NDFrame._add_numeric_operations.<locals>.cummax(self, axis: 'Axis | None' = None, skipna: 'bool_t' = True, *args, **kwargs)>,\n",
       "              'cumsum': <function pandas.core.generic.NDFrame._add_numeric_operations.<locals>.cumsum(self, axis: 'Axis | None' = None, skipna: 'bool_t' = True, *args, **kwargs)>,\n",
       "              'cumprod': <function pandas.core.generic.NDFrame._add_numeric_operations.<locals>.cumprod(self, axis: 'Axis | None' = None, skipna: 'bool_t' = True, *args, **kwargs)>,\n",
       "              'sum': <function pandas.core.generic.NDFrame._add_numeric_operations.<locals>.sum(self, axis: 'Axis | None' = None, skipna: 'bool_t' = True, numeric_only: 'bool_t' = False, min_count: 'int' = 0, **kwargs)>,\n",
       "              'prod': <function pandas.core.generic.NDFrame._add_numeric_operations.<locals>.prod(self, axis: 'Axis | None' = None, skipna: 'bool_t' = True, numeric_only: 'bool_t' = False, min_count: 'int' = 0, **kwargs)>,\n",
       "              'product': <function pandas.core.generic.NDFrame._add_numeric_operations.<locals>.prod(self, axis: 'Axis | None' = None, skipna: 'bool_t' = True, numeric_only: 'bool_t' = False, min_count: 'int' = 0, **kwargs)>,\n",
       "              'mean': <function pandas.core.generic.NDFrame._add_numeric_operations.<locals>.mean(self, axis: 'AxisInt | None' = 0, skipna: 'bool_t' = True, numeric_only: 'bool_t' = False, **kwargs)>,\n",
       "              'skew': <function pandas.core.generic.NDFrame._add_numeric_operations.<locals>.skew(self, axis: 'AxisInt | None' = 0, skipna: 'bool_t' = True, numeric_only: 'bool_t' = False, **kwargs)>,\n",
       "              'kurt': <function pandas.core.generic.NDFrame._add_numeric_operations.<locals>.kurt(self, axis: 'Axis | None' = 0, skipna: 'bool_t' = True, numeric_only: 'bool_t' = False, **kwargs)>,\n",
       "              'kurtosis': <function pandas.core.generic.NDFrame._add_numeric_operations.<locals>.kurt(self, axis: 'Axis | None' = 0, skipna: 'bool_t' = True, numeric_only: 'bool_t' = False, **kwargs)>,\n",
       "              'median': <function pandas.core.generic.NDFrame._add_numeric_operations.<locals>.median(self, axis: 'AxisInt | None' = 0, skipna: 'bool_t' = True, numeric_only: 'bool_t' = False, **kwargs)>,\n",
       "              'max': <function pandas.core.generic.NDFrame._add_numeric_operations.<locals>.max(self, axis: 'AxisInt | None' = 0, skipna: 'bool_t' = True, numeric_only: 'bool_t' = False, **kwargs)>,\n",
       "              'min': <function pandas.core.generic.NDFrame._add_numeric_operations.<locals>.min(self, axis: 'AxisInt | None' = 0, skipna: 'bool_t' = True, numeric_only: 'bool_t' = False, **kwargs)>,\n",
       "              'add': <function pandas.core.ops.flex_arith_method_FRAME.<locals>.f(self, other, axis: 'Axis' = 'columns', level=None, fill_value=None)>,\n",
       "              'radd': <function pandas.core.ops.flex_arith_method_FRAME.<locals>.f(self, other, axis: 'Axis' = 'columns', level=None, fill_value=None)>,\n",
       "              'sub': <function pandas.core.ops.flex_arith_method_FRAME.<locals>.f(self, other, axis: 'Axis' = 'columns', level=None, fill_value=None)>,\n",
       "              'mul': <function pandas.core.ops.flex_arith_method_FRAME.<locals>.f(self, other, axis: 'Axis' = 'columns', level=None, fill_value=None)>,\n",
       "              'truediv': <function pandas.core.ops.flex_arith_method_FRAME.<locals>.f(self, other, axis: 'Axis' = 'columns', level=None, fill_value=None)>,\n",
       "              'floordiv': <function pandas.core.ops.flex_arith_method_FRAME.<locals>.f(self, other, axis: 'Axis' = 'columns', level=None, fill_value=None)>,\n",
       "              'mod': <function pandas.core.ops.flex_arith_method_FRAME.<locals>.f(self, other, axis: 'Axis' = 'columns', level=None, fill_value=None)>,\n",
       "              'pow': <function pandas.core.ops.flex_arith_method_FRAME.<locals>.f(self, other, axis: 'Axis' = 'columns', level=None, fill_value=None)>,\n",
       "              'rmul': <function pandas.core.ops.flex_arith_method_FRAME.<locals>.f(self, other, axis: 'Axis' = 'columns', level=None, fill_value=None)>,\n",
       "              'rsub': <function pandas.core.ops.flex_arith_method_FRAME.<locals>.f(self, other, axis: 'Axis' = 'columns', level=None, fill_value=None)>,\n",
       "              'rtruediv': <function pandas.core.ops.flex_arith_method_FRAME.<locals>.f(self, other, axis: 'Axis' = 'columns', level=None, fill_value=None)>,\n",
       "              'rfloordiv': <function pandas.core.ops.flex_arith_method_FRAME.<locals>.f(self, other, axis: 'Axis' = 'columns', level=None, fill_value=None)>,\n",
       "              'rpow': <function pandas.core.ops.flex_arith_method_FRAME.<locals>.f(self, other, axis: 'Axis' = 'columns', level=None, fill_value=None)>,\n",
       "              'rmod': <function pandas.core.ops.flex_arith_method_FRAME.<locals>.f(self, other, axis: 'Axis' = 'columns', level=None, fill_value=None)>,\n",
       "              'div': <function pandas.core.ops.flex_arith_method_FRAME.<locals>.f(self, other, axis: 'Axis' = 'columns', level=None, fill_value=None)>,\n",
       "              'rdiv': <function pandas.core.ops.flex_arith_method_FRAME.<locals>.f(self, other, axis: 'Axis' = 'columns', level=None, fill_value=None)>,\n",
       "              'eq': <function pandas.core.ops.flex_comp_method_FRAME.<locals>.f(self, other, axis: 'Axis' = 'columns', level=None)>,\n",
       "              'ne': <function pandas.core.ops.flex_comp_method_FRAME.<locals>.f(self, other, axis: 'Axis' = 'columns', level=None)>,\n",
       "              'lt': <function pandas.core.ops.flex_comp_method_FRAME.<locals>.f(self, other, axis: 'Axis' = 'columns', level=None)>,\n",
       "              'gt': <function pandas.core.ops.flex_comp_method_FRAME.<locals>.f(self, other, axis: 'Axis' = 'columns', level=None)>,\n",
       "              'le': <function pandas.core.ops.flex_comp_method_FRAME.<locals>.f(self, other, axis: 'Axis' = 'columns', level=None)>,\n",
       "              'ge': <function pandas.core.ops.flex_comp_method_FRAME.<locals>.f(self, other, axis: 'Axis' = 'columns', level=None)>,\n",
       "              'multiply': <function pandas.core.ops.flex_arith_method_FRAME.<locals>.f(self, other, axis: 'Axis' = 'columns', level=None, fill_value=None)>,\n",
       "              'subtract': <function pandas.core.ops.flex_arith_method_FRAME.<locals>.f(self, other, axis: 'Axis' = 'columns', level=None, fill_value=None)>,\n",
       "              'divide': <function pandas.core.ops.flex_arith_method_FRAME.<locals>.f(self, other, axis: 'Axis' = 'columns', level=None, fill_value=None)>})"
      ]
     },
     "execution_count": 90,
     "metadata": {},
     "output_type": "execute_result"
    }
   ],
   "source": [
    "pd.DataFrame.__dict__"
   ]
  },
  {
   "cell_type": "code",
   "execution_count": 91,
   "id": "1ae9bf01",
   "metadata": {},
   "outputs": [],
   "source": [
    "class product:\n",
    "    pid = 101\n",
    "    pname = 'prodA'\n",
    "    \n",
    "class customer:\n",
    "    cname = 'cusA'"
   ]
  },
  {
   "cell_type": "code",
   "execution_count": null,
   "id": "91467aa5",
   "metadata": {},
   "outputs": [],
   "source": [
    "class classname(<parentclassName>) <== Inheritance"
   ]
  },
  {
   "cell_type": "code",
   "execution_count": 92,
   "id": "c0be176b",
   "metadata": {},
   "outputs": [
    {
     "data": {
      "text/plain": [
       "101"
      ]
     },
     "execution_count": 92,
     "metadata": {},
     "output_type": "execute_result"
    }
   ],
   "source": [
    "class product:\n",
    "    pid = 101\n",
    "    pname = 'prodA'\n",
    "    \n",
    "class customer(product): # inheritance  Vs  def functionName(argument):\n",
    "    cname = 'cusA'\n",
    "    \n",
    "obj = customer()\n",
    "obj.pid"
   ]
  },
  {
   "cell_type": "code",
   "execution_count": 93,
   "id": "2ad40ab2",
   "metadata": {},
   "outputs": [
    {
     "data": {
      "text/plain": [
       "threading.Thread"
      ]
     },
     "execution_count": 93,
     "metadata": {},
     "output_type": "execute_result"
    }
   ],
   "source": [
    "import threading\n",
    "class myclass(threading.Thread):\n",
    "    ..."
   ]
  },
  {
   "cell_type": "code",
   "execution_count": null,
   "id": "711877df",
   "metadata": {},
   "outputs": [],
   "source": [
    "GIL - enabled in python - Cpython -> multiprocessing\n",
    "---\n",
    "  va = 10\n",
    "  vb = 10\n",
    "  vc = 4+6\n",
    "    \n",
    "jython\n",
    "ipython\n",
    "pypthon "
   ]
  },
  {
   "cell_type": "code",
   "execution_count": 94,
   "id": "5ad3e136",
   "metadata": {},
   "outputs": [
    {
     "data": {
      "text/plain": [
       "505"
      ]
     },
     "execution_count": 94,
     "metadata": {},
     "output_type": "execute_result"
    }
   ],
   "source": [
    "class product:\n",
    "    pid = 101\n",
    "class vendor(product):\n",
    "    pid = 505\n",
    "obj = vendor()\n",
    "obj.pid"
   ]
  },
  {
   "cell_type": "code",
   "execution_count": 95,
   "id": "417ac278",
   "metadata": {},
   "outputs": [
    {
     "data": {
      "text/plain": [
       "(101, 505)"
      ]
     },
     "execution_count": 95,
     "metadata": {},
     "output_type": "execute_result"
    }
   ],
   "source": [
    "class product:\n",
    "    pid = 101\n",
    "class vendor(product):\n",
    "    va = product.pid \n",
    "    pid = 505\n",
    "obj = vendor()\n",
    "obj.va,obj.pid"
   ]
  },
  {
   "cell_type": "code",
   "execution_count": 96,
   "id": "685efc81",
   "metadata": {},
   "outputs": [],
   "source": [
    "class pa:\n",
    "    def display(self):\n",
    "        print('display list of files')\n",
    "class pb(pa):\n",
    "    def display(self):\n",
    "        print('display customer records')"
   ]
  },
  {
   "cell_type": "code",
   "execution_count": 97,
   "id": "516ab2d5",
   "metadata": {},
   "outputs": [
    {
     "name": "stdout",
     "output_type": "stream",
     "text": [
      "display customer records\n"
     ]
    }
   ],
   "source": [
    "obj = pb()\n",
    "obj.display()"
   ]
  },
  {
   "cell_type": "code",
   "execution_count": 100,
   "id": "984f6931",
   "metadata": {},
   "outputs": [],
   "source": [
    "class pa:\n",
    "    def display(self):\n",
    "        print('display list of files')\n",
    "class pb(pa):\n",
    "    def display(self):\n",
    "        print('display customer records')\n",
    "        super().display()"
   ]
  },
  {
   "cell_type": "code",
   "execution_count": 101,
   "id": "b6d472b5",
   "metadata": {},
   "outputs": [
    {
     "name": "stdout",
     "output_type": "stream",
     "text": [
      "display customer records\n",
      "display list of files\n"
     ]
    }
   ],
   "source": [
    "obj = pb()\n",
    "obj.display()"
   ]
  },
  {
   "cell_type": "code",
   "execution_count": null,
   "id": "4f3228c7",
   "metadata": {},
   "outputs": [],
   "source": [
    "# Decorator - meta programming - adding new features to an existing code\n",
    "Home About  News\n",
    "               |->City1\n",
    "               |->City2\n",
    "               |->City3 "
   ]
  },
  {
   "cell_type": "code",
   "execution_count": null,
   "id": "6b4303e9",
   "metadata": {},
   "outputs": [],
   "source": [
    "def decorator(arg):\n",
    "    def wrapper():\n",
    "        args()\n",
    "    return wrapper\n",
    "\n",
    "functionA = decorator(functionA)\n",
    "functionA()\n",
    "|\n",
    "|\n",
    "same as\n",
    "@decorator\n",
    "def functionA():\n",
    "    ....\n",
    "functionA()"
   ]
  },
  {
   "cell_type": "code",
   "execution_count": 102,
   "id": "b915ffbd",
   "metadata": {},
   "outputs": [],
   "source": [
    "def news(a):\n",
    "    def wrapper():\n",
    "        a()\n",
    "    return wrapper"
   ]
  },
  {
   "cell_type": "code",
   "execution_count": 103,
   "id": "932b5d24",
   "metadata": {},
   "outputs": [],
   "source": [
    "@news\n",
    "def city1():\n",
    "    print('City-1 news page')"
   ]
  },
  {
   "cell_type": "code",
   "execution_count": 104,
   "id": "7f483cc1",
   "metadata": {},
   "outputs": [],
   "source": [
    "@news\n",
    "def city2():\n",
    "    print('City-2 new page')"
   ]
  },
  {
   "cell_type": "code",
   "execution_count": 105,
   "id": "c9061afe",
   "metadata": {},
   "outputs": [
    {
     "name": "stdout",
     "output_type": "stream",
     "text": [
      "City-1 news page\n"
     ]
    }
   ],
   "source": [
    "city1()"
   ]
  },
  {
   "cell_type": "code",
   "execution_count": 106,
   "id": "87e4b8df",
   "metadata": {},
   "outputs": [
    {
     "name": "stdout",
     "output_type": "stream",
     "text": [
      "City-2 new page\n"
     ]
    }
   ],
   "source": [
    "city2()"
   ]
  },
  {
   "cell_type": "code",
   "execution_count": 107,
   "id": "0285d92d",
   "metadata": {},
   "outputs": [],
   "source": [
    "@news\n",
    "def city3():\n",
    "    print('City-3 news page')"
   ]
  },
  {
   "cell_type": "code",
   "execution_count": 108,
   "id": "affb2fd0",
   "metadata": {},
   "outputs": [
    {
     "name": "stdout",
     "output_type": "stream",
     "text": [
      "City-3 news page\n"
     ]
    }
   ],
   "source": [
    "city3()"
   ]
  },
  {
   "cell_type": "code",
   "execution_count": 111,
   "id": "b204508f",
   "metadata": {},
   "outputs": [],
   "source": [
    "class box:\n",
    "    def method1(self):\n",
    "        print('instance method')\n",
    "        self.method3()\n",
    "    @classmethod\n",
    "    def method2(cls):\n",
    "        print('class method')\n",
    "        cls.method3()\n",
    "    @staticmethod\n",
    "    def method3():\n",
    "        print('this python static method')"
   ]
  },
  {
   "cell_type": "code",
   "execution_count": 110,
   "id": "7328c022",
   "metadata": {},
   "outputs": [
    {
     "name": "stdout",
     "output_type": "stream",
     "text": [
      "class method\n"
     ]
    }
   ],
   "source": [
    "box.method2()"
   ]
  },
  {
   "cell_type": "code",
   "execution_count": null,
   "id": "41d92acf",
   "metadata": {},
   "outputs": [],
   "source": [
    "xfs  ext4  btrfs  ...  - initialize - object =>  df -Th"
   ]
  },
  {
   "cell_type": "code",
   "execution_count": 113,
   "id": "18607d0b",
   "metadata": {},
   "outputs": [
    {
     "name": "stdout",
     "output_type": "stream",
     "text": [
      "staticmethod-block\n",
      "staticmethod-block\n",
      "staticmethod-block\n"
     ]
    }
   ],
   "source": [
    "class fsinfo:\n",
    "    def __init__(self,fstype):\n",
    "        self.fstype=fstype\n",
    "        self.fs_status()\n",
    "    @staticmethod\n",
    "    def fs_status():\n",
    "        print(\"staticmethod-block\")\n",
    "        os.system(\"df -Th\")\n",
    "        \n",
    "obj1 = fsinfo(\"ext4\")\n",
    "obj2 = fsinfo(\"xfs\")\n",
    "obj3 = fsinfo(\"ntfs\")"
   ]
  }
 ],
 "metadata": {
  "kernelspec": {
   "display_name": "Python 3 (ipykernel)",
   "language": "python",
   "name": "python3"
  },
  "language_info": {
   "codemirror_mode": {
    "name": "ipython",
    "version": 3
   },
   "file_extension": ".py",
   "mimetype": "text/x-python",
   "name": "python",
   "nbconvert_exporter": "python",
   "pygments_lexer": "ipython3",
   "version": "3.11.5"
  }
 },
 "nbformat": 4,
 "nbformat_minor": 5
}
