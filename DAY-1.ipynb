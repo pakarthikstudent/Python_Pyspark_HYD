{
 "cells": [
  {
   "cell_type": "code",
   "execution_count": null,
   "id": "267b54c5",
   "metadata": {},
   "outputs": [],
   "source": [
    "class - object \n",
    "\n",
    "\n",
    "python 2.x - type - class\n",
    "\n",
    "|\n",
    "python 3.x - class <--> object\n",
    "\n",
    "10 "
   ]
  },
  {
   "cell_type": "code",
   "execution_count": null,
   "id": "d38c6e09",
   "metadata": {},
   "outputs": [],
   "source": [
    "numbers\n",
    " |->int float complex \n",
    " |->bool\n",
    " |->NoneType\n",
    " |->Collection\n",
    "          |-> str bytes list tuple dict set \n",
    "    \n",
    "Seq -> index based - str,bytes,list,tuple\n",
    "mapping ->key:value // dict\n",
    "                       set \n",
    "    "
   ]
  },
  {
   "cell_type": "code",
   "execution_count": null,
   "id": "135f71ad",
   "metadata": {},
   "outputs": [],
   "source": [
    "File\n",
    "  |->file_index,file_name,file_util,file_status\n",
    "      101        'emp.csv'     98.34    True  \n",
    "        \n",
    "Fname = 'emp.csv'  <== \n",
    "Findex = 101\n",
    "file_util=98.34\n",
    "file_status = True\n",
    "\n",
    "list - Collection of items\n",
    "list_name = [<list of items>]\n",
    "\n",
    "File_info = [Fname,Findex,file_util,file_status]  # list - mutable\n",
    "\n",
    "File_info = (Fname,Findex,file_util,file_status)  # tuple - immutable\n",
    "\n",
    "File_info = {'K1':Fname,'K2':Findex,'K3':file_util,'K4':file_status} # dict - mutable\n"
   ]
  },
  {
   "cell_type": "code",
   "execution_count": 3,
   "id": "e362c8f0",
   "metadata": {},
   "outputs": [
    {
     "name": "stdout",
     "output_type": "stream",
     "text": [
      "50\n",
      "Hello\n"
     ]
    },
    {
     "ename": "NameError",
     "evalue": "name 'N' is not defined",
     "output_type": "error",
     "traceback": [
      "\u001b[1;31m---------------------------------------------------------------------------\u001b[0m",
      "\u001b[1;31mNameError\u001b[0m                                 Traceback (most recent call last)",
      "Cell \u001b[1;32mIn[3], line 5\u001b[0m\n\u001b[0;32m      3\u001b[0m n\u001b[38;5;241m=\u001b[39m\u001b[38;5;124m\"\u001b[39m\u001b[38;5;124mHello\u001b[39m\u001b[38;5;124m\"\u001b[39m\n\u001b[0;32m      4\u001b[0m \u001b[38;5;28mprint\u001b[39m(n)\n\u001b[1;32m----> 5\u001b[0m \u001b[38;5;28mprint\u001b[39m(N)\n",
      "\u001b[1;31mNameError\u001b[0m: name 'N' is not defined"
     ]
    }
   ],
   "source": [
    "n=50\n",
    "print(n)\n",
    "n=\"Hello\"\n",
    "print(n)\n",
    "print(N)"
   ]
  },
  {
   "cell_type": "code",
   "execution_count": 4,
   "id": "c1dedac3",
   "metadata": {},
   "outputs": [
    {
     "name": "stdout",
     "output_type": "stream",
     "text": [
      "{'V1', 20, 30, 'K2', 10, 'K1'}\n"
     ]
    }
   ],
   "source": [
    "s={10,20,10,10,10,20,30,'K1','K2','V1','K1','K2'}\n",
    "print(s)"
   ]
  },
  {
   "cell_type": "code",
   "execution_count": 5,
   "id": "940986fd",
   "metadata": {},
   "outputs": [
    {
     "name": "stdout",
     "output_type": "stream",
     "text": [
      "{'K1': 30, 'K2': 20, 'K3': 20}\n"
     ]
    }
   ],
   "source": [
    "d={'K1':10,'K2':20,'K1':30,'K3':20}\n",
    "print(d)"
   ]
  },
  {
   "cell_type": "code",
   "execution_count": null,
   "id": "be552574",
   "metadata": {},
   "outputs": [],
   "source": [
    "1. procedure style - direct \n",
    "     |->topic definition \n",
    "     |->Syntax \n",
    "     |->Existing Examples\n",
    "     |->Activity\n",
    "        \n",
    "2. oops - style \n",
    "    |->class <--> object\n",
    "    \n",
    "3. Functional style program - singleline Code "
   ]
  },
  {
   "cell_type": "code",
   "execution_count": 12,
   "id": "4c9de5e3",
   "metadata": {},
   "outputs": [
    {
     "name": "stdout",
     "output_type": "stream",
     "text": [
      "emp.csv\n",
      "Fname\n",
      "File name is:Fname\n",
      "File name is: emp.csv File Index: 4677\n",
      "File name is:emp.csv File Index:4677\n",
      "File name is:emp.csv File Index:4677\n",
      "File name is:emp.csv File Index:4677\n"
     ]
    }
   ],
   "source": [
    "Fname = \"emp.csv\"\n",
    "Findex = 4677\n",
    "print(Fname)\n",
    "print(\"Fname\") # same as print('Fname')\n",
    "print(\"File name is:Fname\")\n",
    "\n",
    "# How to combine user defined string and named variable ?\n",
    "\n",
    "print(\"File name is:\",Fname,\"File Index:\",Findex)\n",
    "print(\"File name is:%s File Index:%d\"%(Fname,Findex))\n",
    "print(\"File name is:{} File Index:{}\".format(Fname,Findex)) # python 2.7\n",
    "print(f\"File name is:{Fname} File Index:{Findex}\")"
   ]
  },
  {
   "cell_type": "code",
   "execution_count": 14,
   "id": "76bae4f7",
   "metadata": {},
   "outputs": [
    {
     "name": "stdout",
     "output_type": "stream",
     "text": [
      "data1\n",
      "data2\n",
      "data3\n",
      "data4\n",
      "\n",
      "data1\n",
      "data2\n",
      "data3\n",
      "data4\n"
     ]
    }
   ],
   "source": [
    "print('data1\\ndata2\\ndata3\\ndata4')\n",
    "print('') # empty line\n",
    "print('''data1\n",
    "data2\n",
    "data3\n",
    "data4''')"
   ]
  },
  {
   "cell_type": "code",
   "execution_count": 15,
   "id": "b645265b",
   "metadata": {},
   "outputs": [
    {
     "name": "stdout",
     "output_type": "stream",
     "text": [
      "File name is:emp.csv\n",
      "emp.csv index number is:3456\n",
      "emp.csv Utilization is:98.52\n",
      "emp.csv open status is:True\n",
      "---------------------------------------\n"
     ]
    }
   ],
   "source": [
    "# Using multiline string - display file details\n",
    "Fname = \"emp.csv\"\n",
    "Findex = 3456\n",
    "Fuitls = 98.52\n",
    "Fstatus = True\n",
    "print(f'''File name is:{Fname}\n",
    "{Fname} index number is:{Findex}\n",
    "{Fname} Utilization is:{Fuitls}\n",
    "{Fname} open status is:{Fstatus}\n",
    "---------------------------------------''')"
   ]
  },
  {
   "cell_type": "code",
   "execution_count": 16,
   "id": "37d79783",
   "metadata": {},
   "outputs": [
    {
     "name": "stdout",
     "output_type": "stream",
     "text": [
      "Enter a file name:/var/log/test.log\n",
      "Input File name is: /var/log/test.log\n"
     ]
    }
   ],
   "source": [
    "Fname = input(\"Enter a file name:\")\n",
    "print(\"Input File name is:\",Fname)"
   ]
  },
  {
   "cell_type": "code",
   "execution_count": 18,
   "id": "7da8e5cb",
   "metadata": {},
   "outputs": [
    {
     "name": "stdout",
     "output_type": "stream",
     "text": [
      "Enter n value:56\n",
      "56\n"
     ]
    },
    {
     "data": {
      "text/plain": [
       "'56'"
      ]
     },
     "execution_count": 18,
     "metadata": {},
     "output_type": "execute_result"
    }
   ],
   "source": [
    "n = input('Enter n value:')\n",
    "print(n)\n",
    "n"
   ]
  },
  {
   "cell_type": "code",
   "execution_count": 19,
   "id": "bea2fd77",
   "metadata": {},
   "outputs": [
    {
     "data": {
      "text/plain": [
       "'AB'"
      ]
     },
     "execution_count": 19,
     "metadata": {},
     "output_type": "execute_result"
    }
   ],
   "source": [
    "'A'+'B'"
   ]
  },
  {
   "cell_type": "code",
   "execution_count": 20,
   "id": "cfc8f8ea",
   "metadata": {},
   "outputs": [
    {
     "data": {
      "text/plain": [
       "'1020'"
      ]
     },
     "execution_count": 20,
     "metadata": {},
     "output_type": "execute_result"
    }
   ],
   "source": [
    "'10'+'20'"
   ]
  },
  {
   "cell_type": "code",
   "execution_count": 21,
   "id": "e95b34b8",
   "metadata": {},
   "outputs": [
    {
     "data": {
      "text/plain": [
       "30"
      ]
     },
     "execution_count": 21,
     "metadata": {},
     "output_type": "execute_result"
    }
   ],
   "source": [
    "10+20"
   ]
  },
  {
   "cell_type": "code",
   "execution_count": 22,
   "id": "b054c299",
   "metadata": {},
   "outputs": [
    {
     "ename": "TypeError",
     "evalue": "can only concatenate str (not \"int\") to str",
     "output_type": "error",
     "traceback": [
      "\u001b[1;31m---------------------------------------------------------------------------\u001b[0m",
      "\u001b[1;31mTypeError\u001b[0m                                 Traceback (most recent call last)",
      "Cell \u001b[1;32mIn[22], line 1\u001b[0m\n\u001b[1;32m----> 1\u001b[0m \u001b[38;5;124m'\u001b[39m\u001b[38;5;124mA\u001b[39m\u001b[38;5;124m'\u001b[39m\u001b[38;5;241m+\u001b[39m\u001b[38;5;241m10\u001b[39m\n",
      "\u001b[1;31mTypeError\u001b[0m: can only concatenate str (not \"int\") to str"
     ]
    }
   ],
   "source": [
    "'A'+10"
   ]
  },
  {
   "cell_type": "code",
   "execution_count": 23,
   "id": "6595a829",
   "metadata": {},
   "outputs": [
    {
     "data": {
      "text/plain": [
       "'5656'"
      ]
     },
     "execution_count": 23,
     "metadata": {},
     "output_type": "execute_result"
    }
   ],
   "source": [
    "n+n"
   ]
  },
  {
   "cell_type": "code",
   "execution_count": 24,
   "id": "5ab87781",
   "metadata": {},
   "outputs": [
    {
     "name": "stdout",
     "output_type": "stream",
     "text": [
      "<class 'int'> <class 'str'>\n"
     ]
    }
   ],
   "source": [
    "# type(Value) (or) type(namedVariable)\n",
    "print(type(56),type('56'))"
   ]
  },
  {
   "cell_type": "code",
   "execution_count": 26,
   "id": "f13af25c",
   "metadata": {},
   "outputs": [
    {
     "name": "stdout",
     "output_type": "stream",
     "text": [
      "<class 'int'> 56\n"
     ]
    },
    {
     "data": {
      "text/plain": [
       "'56'"
      ]
     },
     "execution_count": 26,
     "metadata": {},
     "output_type": "execute_result"
    }
   ],
   "source": [
    "n=56\n",
    "print(type(n),n)\n",
    "str(n) # type cast to string"
   ]
  },
  {
   "cell_type": "code",
   "execution_count": 27,
   "id": "f2ad879b",
   "metadata": {},
   "outputs": [
    {
     "name": "stdout",
     "output_type": "stream",
     "text": [
      "n value is:56\n"
     ]
    }
   ],
   "source": [
    "print(\"n value is:\"+str(n))"
   ]
  },
  {
   "cell_type": "code",
   "execution_count": 28,
   "id": "2a11c77b",
   "metadata": {},
   "outputs": [
    {
     "name": "stdout",
     "output_type": "stream",
     "text": [
      "<class 'str'>\n"
     ]
    },
    {
     "data": {
      "text/plain": [
       "56"
      ]
     },
     "execution_count": 28,
     "metadata": {},
     "output_type": "execute_result"
    }
   ],
   "source": [
    "s='56'\n",
    "print(type(s))\n",
    "int(s) # typecast to int"
   ]
  },
  {
   "cell_type": "code",
   "execution_count": 29,
   "id": "8e130bfb",
   "metadata": {},
   "outputs": [
    {
     "data": {
      "text/plain": [
       "4563.23"
      ]
     },
     "execution_count": 29,
     "metadata": {},
     "output_type": "execute_result"
    }
   ],
   "source": [
    "cost=\"4563.23\"\n",
    "float(cost) # typecast to float"
   ]
  },
  {
   "cell_type": "code",
   "execution_count": 30,
   "id": "913c691d",
   "metadata": {},
   "outputs": [
    {
     "ename": "ValueError",
     "evalue": "invalid literal for int() with base 10: '4563.23'",
     "output_type": "error",
     "traceback": [
      "\u001b[1;31m---------------------------------------------------------------------------\u001b[0m",
      "\u001b[1;31mValueError\u001b[0m                                Traceback (most recent call last)",
      "Cell \u001b[1;32mIn[30], line 1\u001b[0m\n\u001b[1;32m----> 1\u001b[0m \u001b[38;5;28mint\u001b[39m(cost)\n",
      "\u001b[1;31mValueError\u001b[0m: invalid literal for int() with base 10: '4563.23'"
     ]
    }
   ],
   "source": [
    "int(cost)"
   ]
  },
  {
   "cell_type": "code",
   "execution_count": 31,
   "id": "3d1e80b1",
   "metadata": {},
   "outputs": [
    {
     "data": {
      "text/plain": [
       "4563"
      ]
     },
     "execution_count": 31,
     "metadata": {},
     "output_type": "execute_result"
    }
   ],
   "source": [
    "int(float(cost))"
   ]
  },
  {
   "cell_type": "code",
   "execution_count": 33,
   "id": "d88ba9f0",
   "metadata": {},
   "outputs": [],
   "source": [
    "s1='56'  \n",
    "s2='abc' "
   ]
  },
  {
   "cell_type": "code",
   "execution_count": 34,
   "id": "bd6512f6",
   "metadata": {},
   "outputs": [
    {
     "data": {
      "text/plain": [
       "True"
      ]
     },
     "execution_count": 34,
     "metadata": {},
     "output_type": "execute_result"
    }
   ],
   "source": [
    "s1.isdigit()"
   ]
  },
  {
   "cell_type": "code",
   "execution_count": 35,
   "id": "28a40bf3",
   "metadata": {},
   "outputs": [
    {
     "data": {
      "text/plain": [
       "False"
      ]
     },
     "execution_count": 35,
     "metadata": {},
     "output_type": "execute_result"
    }
   ],
   "source": [
    "s2.isdigit()"
   ]
  },
  {
   "cell_type": "code",
   "execution_count": 32,
   "id": "2acf5513",
   "metadata": {},
   "outputs": [
    {
     "name": "stdout",
     "output_type": "stream",
     "text": [
      "12.5\n"
     ]
    }
   ],
   "source": [
    "#int,float \n",
    "# => + - * / // **  (input:int,float) ->int,float\n",
    "print(10+2.5) \n",
    "\n",
    "# == != < <= > >=  (input:int,float) ->bool True False\n",
    "\n",
    "# string \n",
    "#  + *     ->str\n",
    "#  == !=   ->bool\n",
    "\n",
    "# logical operators -> bool \n",
    "# int,float,str \n",
    "and \n",
    "or \n",
    "not"
   ]
  },
  {
   "cell_type": "code",
   "execution_count": 36,
   "id": "268d9864",
   "metadata": {},
   "outputs": [
    {
     "name": "stdout",
     "output_type": "stream",
     "text": [
      "Hellopython3.13\n"
     ]
    }
   ],
   "source": [
    "print('Hello'+'python'+str(3.13))"
   ]
  },
  {
   "cell_type": "code",
   "execution_count": 38,
   "id": "01007f43",
   "metadata": {},
   "outputs": [
    {
     "name": "stdout",
     "output_type": "stream",
     "text": [
      "Hello\n",
      "Hello\n",
      "Hello\n",
      "Hello\n",
      "Hello\n",
      "\n"
     ]
    }
   ],
   "source": [
    "print(\"Hello\\n\"*5)"
   ]
  },
  {
   "cell_type": "code",
   "execution_count": 40,
   "id": "c69921ad",
   "metadata": {},
   "outputs": [
    {
     "name": "stdout",
     "output_type": "stream",
     "text": [
      "Hello\n",
      " 10\n"
     ]
    }
   ],
   "source": [
    "print(\"Hello\\n\",2*5)"
   ]
  },
  {
   "cell_type": "code",
   "execution_count": null,
   "id": "8d32b19b",
   "metadata": {},
   "outputs": [],
   "source": [
    "# In python any expression ->bool\n",
    "#           any method/function ->bool\n",
    "#          validate inputdata ->bool\n",
    "# -------------------------------------//use conditional statement"
   ]
  },
  {
   "cell_type": "code",
   "execution_count": null,
   "id": "cc0e47e0",
   "metadata": {},
   "outputs": [],
   "source": [
    "# python supports infix type of expression\n",
    "Operand1  <operator>  Operand2  - infix"
   ]
  },
  {
   "cell_type": "code",
   "execution_count": null,
   "id": "35595fe7",
   "metadata": {},
   "outputs": [],
   "source": [
    "Write a python program:\n",
    "    read a shell name from <STDIN>\n",
    "    \n",
    "    test - input shell is bash - initialize a profile filename /etc/bashrc \n",
    "    test - input shell is ksh  - initialize a profile filename /etc/kshrc\n",
    "    test - input shell is csh  - initialize a profile filename /etc/cshrc\n",
    "    |->default shell /bin/nologin profile filename is /etc/profile\n",
    "    \n",
    "    display shell name and profile filename"
   ]
  },
  {
   "cell_type": "code",
   "execution_count": 45,
   "id": "01db1f69",
   "metadata": {},
   "outputs": [
    {
     "name": "stdout",
     "output_type": "stream",
     "text": [
      "Enter a shell name:bash\n",
      "Shell name is:bash profile filename:/etc/bashrc\n"
     ]
    }
   ],
   "source": [
    "shell_name = input(\"Enter a shell name:\")\n",
    "if(shell_name == 'bash'):\n",
    "    fname = '/etc/bashrc'\n",
    "elif(shell_name == 'ksh'):\n",
    "    fname = '/etc/kshrc'\n",
    "elif(shell_name == 'csh'):\n",
    "    fname = '/etc/cshrc'\n",
    "else:\n",
    "    shell_name = '/bin/nologin'\n",
    "    fname = '/etc/profile'\n",
    "\n",
    "print(f'Shell name is:{shell_name} profile filename:{fname}')"
   ]
  },
  {
   "cell_type": "code",
   "execution_count": 46,
   "id": "e21d578e",
   "metadata": {},
   "outputs": [
    {
     "name": "stdout",
     "output_type": "stream",
     "text": [
      "False False False False False False False\n"
     ]
    }
   ],
   "source": [
    "print(bool(0),bool(0.0),bool(''),bool([]),bool(()),bool({}),bool(None))"
   ]
  },
  {
   "cell_type": "code",
   "execution_count": 47,
   "id": "38e5bab7",
   "metadata": {},
   "outputs": [
    {
     "data": {
      "text/plain": [
       "3"
      ]
     },
     "execution_count": 47,
     "metadata": {},
     "output_type": "execute_result"
    }
   ],
   "source": [
    "len('abc')"
   ]
  },
  {
   "cell_type": "code",
   "execution_count": 48,
   "id": "0cbb893d",
   "metadata": {},
   "outputs": [
    {
     "data": {
      "text/plain": [
       "0"
      ]
     },
     "execution_count": 48,
     "metadata": {},
     "output_type": "execute_result"
    }
   ],
   "source": [
    "len('')"
   ]
  },
  {
   "cell_type": "code",
   "execution_count": 49,
   "id": "c9403bc5",
   "metadata": {},
   "outputs": [
    {
     "name": "stdout",
     "output_type": "stream",
     "text": [
      "Enter a login name:\n",
      "Input is missed - empty\n"
     ]
    }
   ],
   "source": [
    "login_name = input('Enter a login name:')\n",
    "\n",
    "if(len(login_name) == 0):\n",
    "    print('Input is missed - empty')\n",
    "else:\n",
    "    print('Hello',login_name)"
   ]
  },
  {
   "cell_type": "code",
   "execution_count": 52,
   "id": "f495aa65",
   "metadata": {},
   "outputs": [
    {
     "name": "stdout",
     "output_type": "stream",
     "text": [
      "Enter a login name:\n",
      "Input is empty/missing\n"
     ]
    }
   ],
   "source": [
    "login_name = input('Enter a login name:')\n",
    "if(login_name):\n",
    "    print('Hello',login_name)\n",
    "else:\n",
    "    print('Input is empty/missing')"
   ]
  },
  {
   "cell_type": "code",
   "execution_count": 53,
   "id": "95326a02",
   "metadata": {},
   "outputs": [
    {
     "name": "stdout",
     "output_type": "stream",
     "text": [
      "Enter a login name:Raj\n",
      "Hello Raj\n"
     ]
    }
   ],
   "source": [
    "login_name = input('Enter a login name:')\n",
    "if(login_name):\n",
    "    print('Hello',login_name)\n",
    "else:\n",
    "    print('Input is empty/missing')"
   ]
  },
  {
   "cell_type": "code",
   "execution_count": 54,
   "id": "50829c47",
   "metadata": {},
   "outputs": [
    {
     "name": "stdout",
     "output_type": "stream",
     "text": [
      "False True\n"
     ]
    }
   ],
   "source": [
    "print(bool(''),bool('Raj'))"
   ]
  },
  {
   "cell_type": "code",
   "execution_count": 55,
   "id": "8332a05c",
   "metadata": {},
   "outputs": [
    {
     "name": "stdout",
     "output_type": "stream",
     "text": [
      "i value is: 0\n",
      "i value is: 1\n",
      "i value is: 2\n",
      "i value is: 3\n",
      "i value is: 4\n"
     ]
    }
   ],
   "source": [
    "# python looping statatments\n",
    "#   |->Conditional style loop - while - life time is depend on bool True\n",
    "#   |->Collection style loop - for   - life time is depends on data(collection)\n",
    "#      ==========\n",
    "#           |->str,bytes,list,tuple,dict,set\n",
    "\n",
    "i=0\n",
    "while(i<5):\n",
    "    print('i value is:',i)\n",
    "    i=i+1 # i+=1 OK"
   ]
  },
  {
   "cell_type": "code",
   "execution_count": 56,
   "id": "8b331b43",
   "metadata": {},
   "outputs": [],
   "source": [
    "while(False):\n",
    "    print(\"Hello\")"
   ]
  },
  {
   "cell_type": "code",
   "execution_count": 57,
   "id": "573f7226",
   "metadata": {},
   "outputs": [
    {
     "name": "stdout",
     "output_type": "stream",
     "text": [
      "i value is: 0\n",
      "i value is: 1\n",
      "i value is: 2\n",
      "i value is: 3\n",
      "i value is: 4\n",
      "---------------\n",
      "Footer message\n",
      "---------------\n"
     ]
    }
   ],
   "source": [
    "i=0\n",
    "while(i<5):\n",
    "    print('i value is:',i)\n",
    "    i=i+1 # i+=1 OK\n",
    "else:\n",
    "    print('-'*15)\n",
    "    print('Footer message')\n",
    "    print('-'*15)"
   ]
  },
  {
   "cell_type": "code",
   "execution_count": 58,
   "id": "f28a3887",
   "metadata": {},
   "outputs": [
    {
     "data": {
      "text/plain": [
       "14"
      ]
     },
     "execution_count": 58,
     "metadata": {},
     "output_type": "execute_result"
    }
   ],
   "source": [
    "s='root:x:bin5 ^g'\n",
    "len(s)"
   ]
  },
  {
   "cell_type": "code",
   "execution_count": 59,
   "id": "901e76d0",
   "metadata": {},
   "outputs": [
    {
     "name": "stdout",
     "output_type": "stream",
     "text": [
      "var value is: p\n",
      "var value is: y\n",
      "var value is: t\n",
      "var value is: h\n",
      "var value is: o\n",
      "var value is: n\n"
     ]
    }
   ],
   "source": [
    "for var in 'python':\n",
    "    print('var value is:',var)"
   ]
  },
  {
   "cell_type": "markdown",
   "id": "087f5244",
   "metadata": {},
   "source": [
    "# other programming \n",
    "#  for loop                  in Python\n",
    "for(i=0;i<5;i++){}  --->  for i in range(5):\n",
    "\n",
    "for(i=3;i<15;i++){} --->  for i in range(3,15):\n",
    "    \n",
    "for(i=3;i<15;i+4){} ------>for i in range(3,15,4):   "
   ]
  },
  {
   "cell_type": "code",
   "execution_count": 61,
   "id": "15b4bd73",
   "metadata": {},
   "outputs": [
    {
     "name": "stdout",
     "output_type": "stream",
     "text": [
      "var value is:p\n",
      "var value is:y\n",
      "var value is:t\n",
      "var value is:h\n",
      "var value is:o\n",
      "var value is:n\n",
      "--------------------------------------------------\n",
      "\tThank you\n",
      "--------------------------------------------------\n"
     ]
    }
   ],
   "source": [
    "for var in 'python':\n",
    "    print(f'var value is:{var}')\n",
    "else:\n",
    "    print('-'*50)\n",
    "    print('\\tThank you')\n",
    "    print('-'*50)"
   ]
  },
  {
   "cell_type": "code",
   "execution_count": null,
   "id": "297c35cd",
   "metadata": {},
   "outputs": [],
   "source": [
    "str - collection of chars ->  ''  =>type('') -><class 'str'>\n",
    "|\n",
    "bytes - collection of ASCII -> b'' =>type(b'') -><class 'bytes'>"
   ]
  },
  {
   "cell_type": "code",
   "execution_count": 64,
   "id": "2795de81",
   "metadata": {},
   "outputs": [
    {
     "name": "stdout",
     "output_type": "stream",
     "text": [
      "A b 5 \n",
      "65 98 53 "
     ]
    }
   ],
   "source": [
    "s='Ab5'\n",
    "for var in s:\n",
    "    print(var,end = ' ')\n",
    "print('') # empty line\n",
    "s=b'Ab5'\n",
    "for var in s:\n",
    "    print(var,end = ' ')"
   ]
  },
  {
   "cell_type": "code",
   "execution_count": 65,
   "id": "7b6941a6",
   "metadata": {},
   "outputs": [
    {
     "name": "stdout",
     "output_type": "stream",
     "text": [
      "2 2\n"
     ]
    }
   ],
   "source": [
    "va = 'ab'\n",
    "vb = b'ab'\n",
    "print(len(va),len(vb))"
   ]
  },
  {
   "cell_type": "code",
   "execution_count": 66,
   "id": "58de0687",
   "metadata": {},
   "outputs": [
    {
     "data": {
      "text/plain": [
       "True"
      ]
     },
     "execution_count": 66,
     "metadata": {},
     "output_type": "execute_result"
    }
   ],
   "source": [
    "# membership operators \n",
    "#  in    not in  (inputs: str,bytes,list,tuple,dict,set) ->bool\n",
    "\n",
    "':' in 'root:x'"
   ]
  },
  {
   "cell_type": "code",
   "execution_count": null,
   "id": "f96c637e",
   "metadata": {},
   "outputs": [],
   "source": [
    "'pattern_string' in input_collection ->bool"
   ]
  },
  {
   "cell_type": "code",
   "execution_count": 67,
   "id": "edeec5e0",
   "metadata": {},
   "outputs": [
    {
     "data": {
      "text/plain": [
       "True"
      ]
     },
     "execution_count": 67,
     "metadata": {},
     "output_type": "execute_result"
    }
   ],
   "source": [
    "'a' in 'leo,sales,1000'"
   ]
  },
  {
   "cell_type": "code",
   "execution_count": 68,
   "id": "bbf8b535",
   "metadata": {},
   "outputs": [
    {
     "data": {
      "text/plain": [
       "False"
      ]
     },
     "execution_count": 68,
     "metadata": {},
     "output_type": "execute_result"
    }
   ],
   "source": [
    "'ae' in 'leo,sales,1000'"
   ]
  },
  {
   "cell_type": "code",
   "execution_count": 69,
   "id": "d45d5e98",
   "metadata": {},
   "outputs": [
    {
     "data": {
      "text/plain": [
       "True"
      ]
     },
     "execution_count": 69,
     "metadata": {},
     "output_type": "execute_result"
    }
   ],
   "source": [
    "'sales' in 'leo,sales,1000'"
   ]
  },
  {
   "cell_type": "code",
   "execution_count": 70,
   "id": "348eb4f2",
   "metadata": {},
   "outputs": [
    {
     "data": {
      "text/plain": [
       "True"
      ]
     },
     "execution_count": 70,
     "metadata": {},
     "output_type": "execute_result"
    }
   ],
   "source": [
    "L=['D1','D2','D3']\n",
    "'D2' in L"
   ]
  },
  {
   "cell_type": "code",
   "execution_count": 71,
   "id": "15ff8155",
   "metadata": {},
   "outputs": [
    {
     "name": "stdout",
     "output_type": "stream",
     "text": [
      "Yes exists\n"
     ]
    }
   ],
   "source": [
    "if('D2' in L):\n",
    "    print('Yes exists')\n",
    "else:\n",
    "    print('Not exists')"
   ]
  },
  {
   "cell_type": "code",
   "execution_count": null,
   "id": "0a233e2b",
   "metadata": {},
   "outputs": [],
   "source": [
    "function --> functionCall() print() input() type() del() \n",
    "Vs\n",
    "method ----> object.functionCall()  \"{}\".format()"
   ]
  },
  {
   "cell_type": "code",
   "execution_count": 72,
   "id": "700af664",
   "metadata": {},
   "outputs": [
    {
     "data": {
      "text/plain": [
       "'ABC'"
      ]
     },
     "execution_count": 72,
     "metadata": {},
     "output_type": "execute_result"
    }
   ],
   "source": [
    "\"abc\".upper()"
   ]
  },
  {
   "cell_type": "code",
   "execution_count": 73,
   "id": "aadbed50",
   "metadata": {},
   "outputs": [
    {
     "data": {
      "text/plain": [
       "'abc'"
      ]
     },
     "execution_count": 73,
     "metadata": {},
     "output_type": "execute_result"
    }
   ],
   "source": [
    "\"ABC\".lower()"
   ]
  },
  {
   "cell_type": "code",
   "execution_count": 75,
   "id": "17849e50",
   "metadata": {},
   "outputs": [
    {
     "ename": "AttributeError",
     "evalue": "'list' object has no attribute 'upper'",
     "output_type": "error",
     "traceback": [
      "\u001b[1;31m---------------------------------------------------------------------------\u001b[0m",
      "\u001b[1;31mAttributeError\u001b[0m                            Traceback (most recent call last)",
      "Cell \u001b[1;32mIn[75], line 1\u001b[0m\n\u001b[1;32m----> 1\u001b[0m []\u001b[38;5;241m.\u001b[39mupper()\n",
      "\u001b[1;31mAttributeError\u001b[0m: 'list' object has no attribute 'upper'"
     ]
    }
   ],
   "source": [
    "[].upper()"
   ]
  },
  {
   "cell_type": "code",
   "execution_count": null,
   "id": "4a9b335b",
   "metadata": {},
   "outputs": [],
   "source": [
    "class myclass: ---------------->class str:\n",
    "    def method1(self):            def upper(self):\n",
    "        pass                             return ...\n",
    "    def method2(self):            def lower(self):\n",
    "        pass                              ...\n",
    "                                        return "
   ]
  },
  {
   "cell_type": "code",
   "execution_count": 77,
   "id": "fbecba50",
   "metadata": {},
   "outputs": [
    {
     "name": "stdout",
     "output_type": "stream",
     "text": [
      "Help on method_descriptor:\n",
      "\n",
      "upper(self, /)\n",
      "    Return a copy of the string converted to uppercase.\n",
      "\n"
     ]
    }
   ],
   "source": [
    "# help(str)\n",
    "help(str.upper)"
   ]
  },
  {
   "cell_type": "code",
   "execution_count": null,
   "id": "b91c7136",
   "metadata": {},
   "outputs": [],
   "source": [
    "type(<variable>) ->determine type  => help(type.attribute)\n",
    "\n",
    "help(json.dumps)"
   ]
  },
  {
   "cell_type": "code",
   "execution_count": 78,
   "id": "ab50d967",
   "metadata": {},
   "outputs": [
    {
     "name": "stdout",
     "output_type": "stream",
     "text": [
      "Help on method_descriptor:\n",
      "\n",
      "isupper(self, /)\n",
      "    Return True if the string is an uppercase string, False otherwise.\n",
      "    \n",
      "    A string is uppercase if all cased characters in the string are uppercase and\n",
      "    there is at least one cased character in the string.\n",
      "\n"
     ]
    }
   ],
   "source": [
    "help(str.isupper)"
   ]
  },
  {
   "cell_type": "code",
   "execution_count": 79,
   "id": "fd159a69",
   "metadata": {},
   "outputs": [
    {
     "name": "stdout",
     "output_type": "stream",
     "text": [
      "Help on built-in function listdir in module nt:\n",
      "\n",
      "listdir(path=None)\n",
      "    Return a list containing the names of the files in the directory.\n",
      "    \n",
      "    path can be specified as either str, bytes, or a path-like object.  If path is bytes,\n",
      "      the filenames returned will also be bytes; in all other circumstances\n",
      "      the filenames returned will be str.\n",
      "    If path is None, uses the path='.'.\n",
      "    On some platforms, path may also be specified as an open file descriptor;\\\n",
      "      the file descriptor must refer to a directory.\n",
      "      If this functionality is unavailable, using it raises NotImplementedError.\n",
      "    \n",
      "    The list is in arbitrary order.  It does not include the special\n",
      "    entries '.' and '..' even if they are present in the directory.\n",
      "\n"
     ]
    }
   ],
   "source": [
    "import os\n",
    "help(os.listdir)"
   ]
  },
  {
   "cell_type": "code",
   "execution_count": null,
   "id": "22f0b114",
   "metadata": {},
   "outputs": [],
   "source": [
    "list,dict - mutable \n",
    "             - add/modify/delete"
   ]
  },
  {
   "cell_type": "code",
   "execution_count": 80,
   "id": "eee3450d",
   "metadata": {},
   "outputs": [
    {
     "data": {
      "text/plain": [
       "[15, 3.42, True, 'data1']"
      ]
     },
     "execution_count": 80,
     "metadata": {},
     "output_type": "execute_result"
    }
   ],
   "source": [
    "L=[] # empty list\n",
    "\n",
    "L.append(15)\n",
    "L.append(3.42)\n",
    "L.append(True)\n",
    "L.append(\"data1\")\n",
    "L"
   ]
  },
  {
   "cell_type": "code",
   "execution_count": 81,
   "id": "0def6d1a",
   "metadata": {},
   "outputs": [
    {
     "data": {
      "text/plain": [
       "[15, 'data2', 3.42, True, 'data1']"
      ]
     },
     "execution_count": 81,
     "metadata": {},
     "output_type": "execute_result"
    }
   ],
   "source": [
    "L.insert(1,\"data2\")\n",
    "L"
   ]
  },
  {
   "cell_type": "code",
   "execution_count": 82,
   "id": "94d4387a",
   "metadata": {},
   "outputs": [
    {
     "data": {
      "text/plain": [
       "[15, 'iris', 3.42, True, 'data1']"
      ]
     },
     "execution_count": 82,
     "metadata": {},
     "output_type": "execute_result"
    }
   ],
   "source": [
    "# How to modifying an existing index\n",
    "# ListName[old_index] = updatedValue\n",
    "L[1]='iris'\n",
    "L"
   ]
  },
  {
   "cell_type": "code",
   "execution_count": 83,
   "id": "a8cb6991",
   "metadata": {},
   "outputs": [
    {
     "data": {
      "text/plain": [
       "'data1'"
      ]
     },
     "execution_count": 83,
     "metadata": {},
     "output_type": "execute_result"
    }
   ],
   "source": [
    "# How to delete nth data from given list?\n",
    "# Listname.pop() ->return last item Vs Listname.pop(index) ->return removedNth index item\n",
    "L.pop()"
   ]
  },
  {
   "cell_type": "code",
   "execution_count": 84,
   "id": "2f09440e",
   "metadata": {},
   "outputs": [
    {
     "data": {
      "text/plain": [
       "[15, 'iris', 3.42, True]"
      ]
     },
     "execution_count": 84,
     "metadata": {},
     "output_type": "execute_result"
    }
   ],
   "source": [
    "L"
   ]
  },
  {
   "cell_type": "code",
   "execution_count": 85,
   "id": "57954a20",
   "metadata": {},
   "outputs": [
    {
     "data": {
      "text/plain": [
       "'iris'"
      ]
     },
     "execution_count": 85,
     "metadata": {},
     "output_type": "execute_result"
    }
   ],
   "source": [
    "L.pop(1)"
   ]
  },
  {
   "cell_type": "code",
   "execution_count": 86,
   "id": "bd40c461",
   "metadata": {},
   "outputs": [
    {
     "data": {
      "text/plain": [
       "[15, 3.42, True]"
      ]
     },
     "execution_count": 86,
     "metadata": {},
     "output_type": "execute_result"
    }
   ],
   "source": [
    "L"
   ]
  },
  {
   "cell_type": "code",
   "execution_count": 87,
   "id": "f427126c",
   "metadata": {},
   "outputs": [
    {
     "data": {
      "text/plain": [
       "'PYTHON'"
      ]
     },
     "execution_count": 87,
     "metadata": {},
     "output_type": "execute_result"
    }
   ],
   "source": [
    "s='python'\n",
    "s.upper()"
   ]
  },
  {
   "cell_type": "code",
   "execution_count": 88,
   "id": "9bffdb21",
   "metadata": {},
   "outputs": [
    {
     "data": {
      "text/plain": [
       "'python'"
      ]
     },
     "execution_count": 88,
     "metadata": {},
     "output_type": "execute_result"
    }
   ],
   "source": [
    "s"
   ]
  },
  {
   "cell_type": "code",
   "execution_count": 89,
   "id": "3e739cb2",
   "metadata": {},
   "outputs": [
    {
     "data": {
      "text/plain": [
       "'PYTHON'"
      ]
     },
     "execution_count": 89,
     "metadata": {},
     "output_type": "execute_result"
    }
   ],
   "source": [
    "s=s.upper()\n",
    "s"
   ]
  },
  {
   "cell_type": "code",
   "execution_count": null,
   "id": "ebe1a6da",
   "metadata": {},
   "outputs": [],
   "source": [
    "Write a python program:\n",
    "    create an empty list\n",
    "    |\n",
    "    use while loop - limit is 5\n",
    "          ->read a dataset filename from <STDIN>\n",
    "          ->append input dataset to an existing list\n",
    "    |\n",
    "    use for loop - display list of all the sets one by one\n",
    "    |\n",
    "    display total no.of datasets"
   ]
  },
  {
   "cell_type": "code",
   "execution_count": 90,
   "id": "dac5a2cd",
   "metadata": {},
   "outputs": [
    {
     "name": "stdout",
     "output_type": "stream",
     "text": [
      "Enter a filename:prod.csv\n",
      "Enter a filename:emp.csv\n",
      "Enter a filename:dbs.csv\n",
      "Enter a filename:test.csv\n",
      "Enter a filename:health.csv\n",
      "\n",
      "prod.csv\n",
      "emp.csv\n",
      "dbs.csv\n",
      "test.csv\n",
      "health.csv\n",
      "Total no.of datasets:5\n"
     ]
    }
   ],
   "source": [
    "files=[] # empty list\n",
    "\n",
    "c=0\n",
    "while(c <5):\n",
    "    fname = input('Enter a filename:')\n",
    "    files.append(fname) # adding input data to an existing list\n",
    "    c+=1\n",
    "    \n",
    "print('') # empty line\n",
    "for var in files: # iterate list of items one by one\n",
    "    print(var)\n",
    "else:\n",
    "    print(f\"Total no.of datasets:{len(files)}\")"
   ]
  },
  {
   "cell_type": "code",
   "execution_count": null,
   "id": "8c9973ce",
   "metadata": {},
   "outputs": [],
   "source": [
    "dict - collection - mutable\n",
    "        |->key:value //data\n",
    "           ----======"
   ]
  },
  {
   "cell_type": "code",
   "execution_count": 91,
   "id": "08f22398",
   "metadata": {},
   "outputs": [
    {
     "name": "stdout",
     "output_type": "stream",
     "text": [
      "{'DB': 'mysql', 'port': 3306, 'proto': 'https'}\n"
     ]
    }
   ],
   "source": [
    "d={'DB':'mysql','port':3306,'proto':'https'} \n",
    "print(d)"
   ]
  },
  {
   "cell_type": "code",
   "execution_count": 92,
   "id": "2421b779",
   "metadata": {},
   "outputs": [
    {
     "name": "stdout",
     "output_type": "stream",
     "text": [
      "mysql\n"
     ]
    }
   ],
   "source": [
    "print(d['DB'])"
   ]
  },
  {
   "cell_type": "code",
   "execution_count": 93,
   "id": "3f316f59",
   "metadata": {},
   "outputs": [
    {
     "data": {
      "text/plain": [
       "3"
      ]
     },
     "execution_count": 93,
     "metadata": {},
     "output_type": "execute_result"
    }
   ],
   "source": [
    "len(d)"
   ]
  },
  {
   "cell_type": "code",
   "execution_count": null,
   "id": "31877490",
   "metadata": {},
   "outputs": [],
   "source": [
    "# To add new data to an existing dict\n",
    "#   --------------\n",
    "#   dictName[NewKey] = Value "
   ]
  },
  {
   "cell_type": "code",
   "execution_count": 94,
   "id": "9d610c73",
   "metadata": {},
   "outputs": [],
   "source": [
    "d['confg'] = '/var/log/mysql.log' \n",
    "d['ip'] = '127.0.0.1'"
   ]
  },
  {
   "cell_type": "code",
   "execution_count": 95,
   "id": "8ed76284",
   "metadata": {},
   "outputs": [
    {
     "name": "stdout",
     "output_type": "stream",
     "text": [
      "{'DB': 'mysql', 'port': 3306, 'proto': 'https', 'confg': '/var/log/mysql.log', 'ip': '127.0.0.1'}\n"
     ]
    }
   ],
   "source": [
    "print(d)"
   ]
  },
  {
   "cell_type": "code",
   "execution_count": 96,
   "id": "aeaaf5c2",
   "metadata": {},
   "outputs": [
    {
     "name": "stdout",
     "output_type": "stream",
     "text": [
      "{'DB': 'mysql', 'port': 3306, 'proto': 'file://', 'confg': '/var/log/mysql.log', 'ip': '127.0.0.1'}\n"
     ]
    }
   ],
   "source": [
    "# To modify  an existing data from dict\n",
    "#   ----------------------------------\n",
    "#   dictName[OldKey] = Updated_Value\n",
    "\n",
    "d['proto'] = 'file://'\n",
    "print(d)"
   ]
  },
  {
   "cell_type": "code",
   "execution_count": null,
   "id": "a58352d7",
   "metadata": {},
   "outputs": [],
   "source": [
    "# list ->  listName.pop() ->remove last index ; \n",
    "#          Listname.pop(index) ->removenth index\n",
    "\n",
    "# dict -> dictName.pop('OldKey') ->remove the value"
   ]
  },
  {
   "cell_type": "code",
   "execution_count": 97,
   "id": "92c4299a",
   "metadata": {},
   "outputs": [
    {
     "data": {
      "text/plain": [
       "3306"
      ]
     },
     "execution_count": 97,
     "metadata": {},
     "output_type": "execute_result"
    }
   ],
   "source": [
    "d.pop('port')"
   ]
  },
  {
   "cell_type": "code",
   "execution_count": 98,
   "id": "6cf5f2a4",
   "metadata": {},
   "outputs": [
    {
     "data": {
      "text/plain": [
       "{'DB': 'mysql',\n",
       " 'proto': 'file://',\n",
       " 'confg': '/var/log/mysql.log',\n",
       " 'ip': '127.0.0.1'}"
      ]
     },
     "execution_count": 98,
     "metadata": {},
     "output_type": "execute_result"
    }
   ],
   "source": [
    "d"
   ]
  },
  {
   "cell_type": "code",
   "execution_count": 99,
   "id": "12f0a204",
   "metadata": {},
   "outputs": [
    {
     "data": {
      "text/plain": [
       "{'K1': 'V1', 'K2': 'V2'}"
      ]
     },
     "execution_count": 99,
     "metadata": {},
     "output_type": "execute_result"
    }
   ],
   "source": [
    "d={} \n",
    "d['K1']='V1'\n",
    "d.setdefault('K2','V2') # adding new data to an existing dict\n",
    "d"
   ]
  },
  {
   "cell_type": "code",
   "execution_count": 102,
   "id": "6b60db0a",
   "metadata": {},
   "outputs": [
    {
     "name": "stdout",
     "output_type": "stream",
     "text": [
      "V1\n",
      "V1\n",
      "None\n"
     ]
    },
    {
     "ename": "KeyError",
     "evalue": "'Kx'",
     "output_type": "error",
     "traceback": [
      "\u001b[1;31m---------------------------------------------------------------------------\u001b[0m",
      "\u001b[1;31mKeyError\u001b[0m                                  Traceback (most recent call last)",
      "Cell \u001b[1;32mIn[102], line 4\u001b[0m\n\u001b[0;32m      2\u001b[0m \u001b[38;5;28mprint\u001b[39m(d\u001b[38;5;241m.\u001b[39mget(\u001b[38;5;124m'\u001b[39m\u001b[38;5;124mK1\u001b[39m\u001b[38;5;124m'\u001b[39m))\n\u001b[0;32m      3\u001b[0m \u001b[38;5;28mprint\u001b[39m(d\u001b[38;5;241m.\u001b[39mget(\u001b[38;5;124m'\u001b[39m\u001b[38;5;124mKx\u001b[39m\u001b[38;5;124m'\u001b[39m)) \n\u001b[1;32m----> 4\u001b[0m \u001b[38;5;28mprint\u001b[39m(d[\u001b[38;5;124m'\u001b[39m\u001b[38;5;124mKx\u001b[39m\u001b[38;5;124m'\u001b[39m])\n",
      "\u001b[1;31mKeyError\u001b[0m: 'Kx'"
     ]
    }
   ],
   "source": [
    "# How to get/fetch data from dict ?\n",
    "#\n",
    "print(d['K1'])\n",
    "print(d.get('K1'))\n",
    "\n",
    "print(d.get('Kx')) \n",
    "print(d['Kx'])"
   ]
  },
  {
   "cell_type": "code",
   "execution_count": 103,
   "id": "b21f13a6",
   "metadata": {},
   "outputs": [
    {
     "name": "stdout",
     "output_type": "stream",
     "text": [
      "[15, 3.42, True]\n"
     ]
    },
    {
     "data": {
      "text/plain": [
       "{'K1': 'V1', 'K2': 'V2'}"
      ]
     },
     "execution_count": 103,
     "metadata": {},
     "output_type": "execute_result"
    }
   ],
   "source": [
    "print(L)\n",
    "d"
   ]
  },
  {
   "cell_type": "code",
   "execution_count": 105,
   "id": "c649fb33",
   "metadata": {},
   "outputs": [
    {
     "name": "stdout",
     "output_type": "stream",
     "text": [
      "15\n",
      "3.42\n",
      "True\n",
      "\n",
      "\n",
      "\n",
      "K1\n",
      "K2\n"
     ]
    }
   ],
   "source": [
    "for var in L:\n",
    "    print(var)\n",
    "print(\"\\n\\n\")\n",
    "for var in d:\n",
    "    print(var)"
   ]
  },
  {
   "cell_type": "code",
   "execution_count": 106,
   "id": "aa798a4a",
   "metadata": {},
   "outputs": [
    {
     "name": "stdout",
     "output_type": "stream",
     "text": [
      "K1 V1\n",
      "K2 V2\n"
     ]
    }
   ],
   "source": [
    "for var in d:\n",
    "    print(var,d[var])"
   ]
  },
  {
   "cell_type": "code",
   "execution_count": 108,
   "id": "73576212",
   "metadata": {},
   "outputs": [
    {
     "data": {
      "text/plain": [
       "dict_values(['V1', 'V2'])"
      ]
     },
     "execution_count": 108,
     "metadata": {},
     "output_type": "execute_result"
    }
   ],
   "source": [
    "d.keys()\n",
    "d.values()"
   ]
  },
  {
   "cell_type": "code",
   "execution_count": null,
   "id": "2cff75c2",
   "metadata": {},
   "outputs": [],
   "source": [
    "                                               ________\n",
    "Login:<input type='text' name='n1'>  --> Login:|_tom__|  ==>{'n1':'tom'}"
   ]
  },
  {
   "cell_type": "code",
   "execution_count": null,
   "id": "ba00a78e",
   "metadata": {},
   "outputs": [],
   "source": [
    "# List , Tuple ,Dict\n",
    "\n",
    "L=[10,[20,30,40],(50,60,70),{\"K1\":80,\"K2\":\"V1\"}]\n",
    "    | ----------  ---------  =================\n",
    "    |   |_1st        |_2nd     |__3rd index\n",
    "    0th \n"
   ]
  },
  {
   "cell_type": "code",
   "execution_count": 116,
   "id": "ef48077c",
   "metadata": {},
   "outputs": [
    {
     "name": "stdout",
     "output_type": "stream",
     "text": [
      "[10, [20, 30, 40], (50, 60, 70), {'K1': 80, 'K2': 'V1'}]\n",
      "10\n",
      "[20, 30, 40]\n",
      "20\n",
      "(50, 60, 70)\n",
      "50\n",
      "{'K1': 80, 'K2': 'V1'}\n",
      "80\n"
     ]
    }
   ],
   "source": [
    "L=[10,[20,30,40],(50,60,70),{\"K1\":80,\"K2\":\"V1\"}]\n",
    "print(L)\n",
    "print(L[0])\n",
    "print(L[1])\n",
    "print(L[1][0])\n",
    "print(L[2])\n",
    "print(L[2][0])\n",
    "print(L[-1])\n",
    "print(L[-1]['K1'])"
   ]
  },
  {
   "cell_type": "code",
   "execution_count": 117,
   "id": "fca5ac67",
   "metadata": {},
   "outputs": [
    {
     "name": "stdout",
     "output_type": "stream",
     "text": [
      "2\n",
      "<class 'tuple'>\n"
     ]
    }
   ],
   "source": [
    "T=([],[]) # tuple of list\n",
    "print(len(T))\n",
    "print(type(T))"
   ]
  },
  {
   "cell_type": "code",
   "execution_count": 118,
   "id": "fd91aca1",
   "metadata": {},
   "outputs": [
    {
     "data": {
      "text/plain": [
       "list"
      ]
     },
     "execution_count": 118,
     "metadata": {},
     "output_type": "execute_result"
    }
   ],
   "source": [
    "type(T[0])"
   ]
  },
  {
   "cell_type": "code",
   "execution_count": 119,
   "id": "ab856bd3",
   "metadata": {},
   "outputs": [],
   "source": [
    "T[0].append(\"D1\")\n",
    "T[0].append(\"D2\")\n",
    "T[0].append(\"D3\")\n",
    "T[0].append(\"D4\")\n",
    "T[0].append(\"D5\")"
   ]
  },
  {
   "cell_type": "code",
   "execution_count": 120,
   "id": "c9c8b9f8",
   "metadata": {},
   "outputs": [
    {
     "name": "stdout",
     "output_type": "stream",
     "text": [
      "2\n",
      "<class 'tuple'>\n"
     ]
    }
   ],
   "source": [
    "print(len(T))\n",
    "print(type(T))"
   ]
  },
  {
   "cell_type": "code",
   "execution_count": 121,
   "id": "5f402777",
   "metadata": {},
   "outputs": [
    {
     "data": {
      "text/plain": [
       "(['D1', 'D2', 'D3', 'D4', 'D5'], [])"
      ]
     },
     "execution_count": 121,
     "metadata": {},
     "output_type": "execute_result"
    }
   ],
   "source": [
    "T"
   ]
  },
  {
   "cell_type": "code",
   "execution_count": 124,
   "id": "b6fb2094",
   "metadata": {},
   "outputs": [
    {
     "data": {
      "text/plain": [
       "(['Dx', 'D2', 'D3', 'D4', 'D5'], [])"
      ]
     },
     "execution_count": 124,
     "metadata": {},
     "output_type": "execute_result"
    }
   ],
   "source": [
    "# T[0]=\"Dx\"\n",
    "\n",
    "T[0][0]=\"Dx\"\n",
    "T"
   ]
  },
  {
   "cell_type": "code",
   "execution_count": null,
   "id": "58419cb1",
   "metadata": {},
   "outputs": [],
   "source": [
    "emp1 = {'eid':101,'ename':'Raj','edept':'sales'} # 1D\n",
    "# |\n",
    "# \n",
    "emp2 = {'eid':[],'ename':(),'edept':{}} # MD\n",
    "#        -------   ---------   --------\n",
    "#      dict of list  dict of tuple  |->dict of dict"
   ]
  },
  {
   "cell_type": "code",
   "execution_count": 125,
   "id": "79616327",
   "metadata": {},
   "outputs": [],
   "source": [
    "emp = {'eid':[101,102,103],'ename':['Raj','Leo','Tom'],\n",
    "       'edept':['DBA','QA','admin']}   # dict of list"
   ]
  },
  {
   "cell_type": "code",
   "execution_count": 128,
   "id": "84d3b57d",
   "metadata": {},
   "outputs": [
    {
     "name": "stdout",
     "output_type": "stream",
     "text": [
      "[101, 102, 103]\n",
      "['Raj', 'Leo', 'Tom']\n"
     ]
    }
   ],
   "source": [
    "print(emp['eid'])\n",
    "print(emp['ename'])"
   ]
  },
  {
   "cell_type": "code",
   "execution_count": 129,
   "id": "33f1fa01",
   "metadata": {},
   "outputs": [
    {
     "data": {
      "text/plain": [
       "102"
      ]
     },
     "execution_count": 129,
     "metadata": {},
     "output_type": "execute_result"
    }
   ],
   "source": [
    "emp['eid'][1] # L=[{'eid':101}] <-- L[0]['eid']"
   ]
  },
  {
   "cell_type": "code",
   "execution_count": 130,
   "id": "50df73f9",
   "metadata": {},
   "outputs": [
    {
     "name": "stdout",
     "output_type": "stream",
     "text": [
      "{'K1': 101, 'K2': [102, 103, {'K1': [10, 20, 30, {'K1': (1, 2, 3)}]}], 'K3': {'K1': {'K1': ['V1', 'V2']}}}\n"
     ]
    }
   ],
   "source": [
    "d={'K1':101,'K2':[102,103,{'K1':[10,20,30,{'K1':(1,2,3)}]}],'K3':{'K1':{'K1':['V1','V2']}}}\n",
    "print(d)"
   ]
  },
  {
   "cell_type": "code",
   "execution_count": 131,
   "id": "679cbe40",
   "metadata": {},
   "outputs": [
    {
     "name": "stdout",
     "output_type": "stream",
     "text": [
      "{'K1': 101,\n",
      " 'K2': [102, 103, {'K1': [10, 20, 30, {'K1': (1, 2, 3)}]}],\n",
      " 'K3': {'K1': {'K1': ['V1', 'V2']}}}\n"
     ]
    }
   ],
   "source": [
    "import pprint\n",
    "pprint.pprint(d)"
   ]
  },
  {
   "cell_type": "code",
   "execution_count": 137,
   "id": "e5913419",
   "metadata": {},
   "outputs": [
    {
     "data": {
      "text/plain": [
       "2"
      ]
     },
     "execution_count": 137,
     "metadata": {},
     "output_type": "execute_result"
    }
   ],
   "source": [
    "d['K2'][2]['K1'][3]['K1'][1]"
   ]
  },
  {
   "cell_type": "code",
   "execution_count": 139,
   "id": "aaae9acb",
   "metadata": {},
   "outputs": [
    {
     "name": "stdout",
     "output_type": "stream",
     "text": [
      "{'https', 'ruby', 'creterepo', 'ansible'}\n"
     ]
    },
    {
     "data": {
      "text/plain": [
       "{'ansible', 'apache2', 'apt-get', 'java', 'ruby'}"
      ]
     },
     "execution_count": 139,
     "metadata": {},
     "output_type": "execute_result"
    }
   ],
   "source": [
    "yum_repo = ['https','creterepo','ansible','ruby']\n",
    "apt_repo = ['apache2','apt-get','ansible','ruby','java']\n",
    "\n",
    "print(set(yum_repo)) # typecast to set\n",
    "set(apt_repo) # typecast to set"
   ]
  },
  {
   "cell_type": "code",
   "execution_count": 140,
   "id": "866622e5",
   "metadata": {},
   "outputs": [
    {
     "data": {
      "text/plain": [
       "{'ansible', 'apache2', 'apt-get', 'creterepo', 'https', 'java', 'ruby'}"
      ]
     },
     "execution_count": 140,
     "metadata": {},
     "output_type": "execute_result"
    }
   ],
   "source": [
    "set(yum_repo)|set(apt_repo)"
   ]
  },
  {
   "cell_type": "code",
   "execution_count": 144,
   "id": "5d1e210d",
   "metadata": {},
   "outputs": [
    {
     "data": {
      "text/plain": [
       "{'ansible', 'apache2', 'apt-get', 'creterepo', 'https', 'java', 'ruby'}"
      ]
     },
     "execution_count": 144,
     "metadata": {},
     "output_type": "execute_result"
    }
   ],
   "source": [
    "set(yum_repo).union(set(apt_repo))"
   ]
  },
  {
   "cell_type": "code",
   "execution_count": 143,
   "id": "ad589c76",
   "metadata": {},
   "outputs": [
    {
     "data": {
      "text/plain": [
       "{'ansible', 'ruby'}"
      ]
     },
     "execution_count": 143,
     "metadata": {},
     "output_type": "execute_result"
    }
   ],
   "source": [
    "set(yum_repo)&set(apt_repo) # intersection"
   ]
  },
  {
   "cell_type": "code",
   "execution_count": 145,
   "id": "0067dd6b",
   "metadata": {},
   "outputs": [
    {
     "data": {
      "text/plain": [
       "<_io.TextIOWrapper name='E:\\\\emp.csv' mode='r' encoding='cp1252'>"
      ]
     },
     "execution_count": 145,
     "metadata": {},
     "output_type": "execute_result"
    }
   ],
   "source": [
    "open('E:\\\\emp.csv')"
   ]
  },
  {
   "cell_type": "code",
   "execution_count": 146,
   "id": "2d73da70",
   "metadata": {},
   "outputs": [
    {
     "data": {
      "text/plain": [
       "'eid,ename,edept,eplace,ecost\\n101,raj,sales,pune,1000\\n102,leo,prod,bglore,2000\\n103,paul,HR,chennai,3000\\n104,anu,hr,hyderabad,4000\\n456,kumar,sales,bglore,3000\\n105,zion,Hr,mumbai,5000\\n106,bibu,sales,bglore,1450\\n107,theeb,sales,noida,4590\\n108,bibu,sales,bglore,5000\\n113,kumar,prod,hyderabad,5423DATA'"
      ]
     },
     "execution_count": 146,
     "metadata": {},
     "output_type": "execute_result"
    }
   ],
   "source": [
    "fobj = open(\"E:\\\\emp.csv\")\n",
    "fobj.read()"
   ]
  },
  {
   "cell_type": "code",
   "execution_count": 159,
   "id": "0f34b746",
   "metadata": {},
   "outputs": [
    {
     "name": "stdout",
     "output_type": "stream",
     "text": [
      "eid,ename,edept,eplace,ecost\n",
      "101,raj,sales,pune,1000\n",
      "102,leo,prod,bglore,2000\n",
      "103,paul,HR,chennai,3000\n",
      "104,anu,hr,hyderabad,4000\n",
      "456,kumar,sales,bglore,3000\n",
      "105,zion,Hr,mumbai,5000\n",
      "106,bibu,sales,bglore,1450\n",
      "107,theeb,sales,noida,4590\n",
      "108,bibu,sales,bglore,5000\n",
      "113,kumar,prod,hyderabad,5423DATA\n"
     ]
    }
   ],
   "source": [
    "fobj = open(\"E:\\\\emp.csv\")\n",
    "#help(fobj.read)\n",
    "#help(fobj.readlines)\n",
    "L = fobj.readlines()\n",
    "for var in L:\n",
    "    var=var.strip() # remove \\n\n",
    "    print(var)"
   ]
  },
  {
   "cell_type": "code",
   "execution_count": 160,
   "id": "d172363a",
   "metadata": {},
   "outputs": [
    {
     "name": "stdout",
     "output_type": "stream",
     "text": [
      "101,raj,sales,pune,1000\n",
      "456,kumar,sales,bglore,3000\n",
      "106,bibu,sales,bglore,1450\n",
      "107,theeb,sales,noida,4590\n",
      "108,bibu,sales,bglore,5000\n"
     ]
    }
   ],
   "source": [
    "for var in L:\n",
    "    var=var.strip()\n",
    "    if('sales' in var):\n",
    "        print(var)"
   ]
  },
  {
   "cell_type": "code",
   "execution_count": 164,
   "id": "a707daab",
   "metadata": {},
   "outputs": [
    {
     "name": "stdout",
     "output_type": "stream",
     "text": [
      "10 20\n"
     ]
    }
   ],
   "source": [
    "def f1(a1,a2):\n",
    "    print(a1,a2)\n",
    "    \n",
    "# f1()\n",
    "# f1(10)\n",
    "f1(10,20)\n",
    "#f1(10,20,30)"
   ]
  },
  {
   "cell_type": "code",
   "execution_count": 168,
   "id": "b48553a5",
   "metadata": {},
   "outputs": [
    {
     "name": "stdout",
     "output_type": "stream",
     "text": [
      "100 True\n",
      "data1 True\n",
      "data1 data2\n"
     ]
    },
    {
     "ename": "TypeError",
     "evalue": "f2() takes from 0 to 2 positional arguments but 3 were given",
     "output_type": "error",
     "traceback": [
      "\u001b[1;31m---------------------------------------------------------------------------\u001b[0m",
      "\u001b[1;31mTypeError\u001b[0m                                 Traceback (most recent call last)",
      "Cell \u001b[1;32mIn[168], line 7\u001b[0m\n\u001b[0;32m      5\u001b[0m f2(\u001b[38;5;124m\"\u001b[39m\u001b[38;5;124mdata1\u001b[39m\u001b[38;5;124m\"\u001b[39m)\n\u001b[0;32m      6\u001b[0m f2(\u001b[38;5;124m\"\u001b[39m\u001b[38;5;124mdata1\u001b[39m\u001b[38;5;124m\"\u001b[39m,\u001b[38;5;124m\"\u001b[39m\u001b[38;5;124mdata2\u001b[39m\u001b[38;5;124m\"\u001b[39m)\n\u001b[1;32m----> 7\u001b[0m f2(\u001b[38;5;241m10\u001b[39m,\u001b[38;5;241m20\u001b[39m,\u001b[38;5;241m30\u001b[39m)\n",
      "\u001b[1;31mTypeError\u001b[0m: f2() takes from 0 to 2 positional arguments but 3 were given"
     ]
    }
   ],
   "source": [
    "def f2(a1=100,a2=True):\n",
    "    print(a1,a2)\n",
    "    \n",
    "f2()\n",
    "f2(\"data1\")\n",
    "f2(\"data1\",\"data2\")\n",
    "f2(10,20,30)"
   ]
  },
  {
   "cell_type": "code",
   "execution_count": 169,
   "id": "9c94f7df",
   "metadata": {},
   "outputs": [
    {
     "ename": "SyntaxError",
     "evalue": "non-default argument follows default argument (2057175759.py, line 1)",
     "output_type": "error",
     "traceback": [
      "\u001b[1;36m  Cell \u001b[1;32mIn[169], line 1\u001b[1;36m\u001b[0m\n\u001b[1;33m    def f1(a1,a2,a3,a4=True,a5):\u001b[0m\n\u001b[1;37m                            ^\u001b[0m\n\u001b[1;31mSyntaxError\u001b[0m\u001b[1;31m:\u001b[0m non-default argument follows default argument\n"
     ]
    }
   ],
   "source": [
    "def f1(a1,a2,a3,a4=True,a5):\n",
    "    print(\"OK\")"
   ]
  }
 ],
 "metadata": {
  "kernelspec": {
   "display_name": "Python 3 (ipykernel)",
   "language": "python",
   "name": "python3"
  },
  "language_info": {
   "codemirror_mode": {
    "name": "ipython",
    "version": 3
   },
   "file_extension": ".py",
   "mimetype": "text/x-python",
   "name": "python",
   "nbconvert_exporter": "python",
   "pygments_lexer": "ipython3",
   "version": "3.11.5"
  }
 },
 "nbformat": 4,
 "nbformat_minor": 5
}
